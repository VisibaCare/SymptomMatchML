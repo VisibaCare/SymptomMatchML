{
  "nbformat": 4,
  "nbformat_minor": 0,
  "metadata": {
    "accelerator": "GPU",
    "colab": {
      "name": "transformer_model.ipynb",
      "provenance": [],
      "collapsed_sections": []
    },
    "kernelspec": {
      "display_name": "Python 3",
      "name": "python3"
    }
  },
  "cells": [
    {
      "cell_type": "code",
      "metadata": {
        "colab": {
          "base_uri": "https://localhost:8080/"
        },
        "id": "ReHiq1Llr_7M",
        "outputId": "42e6ba1e-e0df-4951-a3c0-cb70e4f4bcf9"
      },
      "source": [
        "from google.colab import drive\n",
        "drive.mount('/content/drive')"
      ],
      "execution_count": 1,
      "outputs": [
        {
          "output_type": "stream",
          "text": [
            "Drive already mounted at /content/drive; to attempt to forcibly remount, call drive.mount(\"/content/drive\", force_remount=True).\n"
          ],
          "name": "stdout"
        }
      ]
    },
    {
      "cell_type": "code",
      "metadata": {
        "colab": {
          "base_uri": "https://localhost:8080/"
        },
        "id": "AqMdrxYy2iin",
        "outputId": "4fa5323b-3b17-46b3-a7fd-4be2fff17695"
      },
      "source": [
        "import os\r\n",
        "\r\n",
        "if os.getcwd() == '/content':\r\n",
        "  % cd drive/MyDrive/exjobb_project\r\n",
        "\r\n",
        "print(os.getcwd())\r\n",
        "\r\n",
        "!pip install transformers\r\n",
        "!pip install sentencepiece"
      ],
      "execution_count": 2,
      "outputs": [
        {
          "output_type": "stream",
          "text": [
            "/content/drive/MyDrive/exjobb_project\n",
            "/content/drive/MyDrive/exjobb_project\n",
            "Requirement already satisfied: transformers in /usr/local/lib/python3.6/dist-packages (4.3.2)\n",
            "Requirement already satisfied: filelock in /usr/local/lib/python3.6/dist-packages (from transformers) (3.0.12)\n",
            "Requirement already satisfied: tqdm>=4.27 in /usr/local/lib/python3.6/dist-packages (from transformers) (4.41.1)\n",
            "Requirement already satisfied: numpy>=1.17 in /usr/local/lib/python3.6/dist-packages (from transformers) (1.19.5)\n",
            "Requirement already satisfied: importlib-metadata; python_version < \"3.8\" in /usr/local/lib/python3.6/dist-packages (from transformers) (3.4.0)\n",
            "Requirement already satisfied: sacremoses in /usr/local/lib/python3.6/dist-packages (from transformers) (0.0.43)\n",
            "Requirement already satisfied: tokenizers<0.11,>=0.10.1 in /usr/local/lib/python3.6/dist-packages (from transformers) (0.10.1)\n",
            "Requirement already satisfied: regex!=2019.12.17 in /usr/local/lib/python3.6/dist-packages (from transformers) (2019.12.20)\n",
            "Requirement already satisfied: packaging in /usr/local/lib/python3.6/dist-packages (from transformers) (20.9)\n",
            "Requirement already satisfied: requests in /usr/local/lib/python3.6/dist-packages (from transformers) (2.23.0)\n",
            "Requirement already satisfied: dataclasses; python_version < \"3.7\" in /usr/local/lib/python3.6/dist-packages (from transformers) (0.8)\n",
            "Requirement already satisfied: typing-extensions>=3.6.4; python_version < \"3.8\" in /usr/local/lib/python3.6/dist-packages (from importlib-metadata; python_version < \"3.8\"->transformers) (3.7.4.3)\n",
            "Requirement already satisfied: zipp>=0.5 in /usr/local/lib/python3.6/dist-packages (from importlib-metadata; python_version < \"3.8\"->transformers) (3.4.0)\n",
            "Requirement already satisfied: click in /usr/local/lib/python3.6/dist-packages (from sacremoses->transformers) (7.1.2)\n",
            "Requirement already satisfied: joblib in /usr/local/lib/python3.6/dist-packages (from sacremoses->transformers) (1.0.0)\n",
            "Requirement already satisfied: six in /usr/local/lib/python3.6/dist-packages (from sacremoses->transformers) (1.15.0)\n",
            "Requirement already satisfied: pyparsing>=2.0.2 in /usr/local/lib/python3.6/dist-packages (from packaging->transformers) (2.4.7)\n",
            "Requirement already satisfied: urllib3!=1.25.0,!=1.25.1,<1.26,>=1.21.1 in /usr/local/lib/python3.6/dist-packages (from requests->transformers) (1.24.3)\n",
            "Requirement already satisfied: idna<3,>=2.5 in /usr/local/lib/python3.6/dist-packages (from requests->transformers) (2.10)\n",
            "Requirement already satisfied: chardet<4,>=3.0.2 in /usr/local/lib/python3.6/dist-packages (from requests->transformers) (3.0.4)\n",
            "Requirement already satisfied: certifi>=2017.4.17 in /usr/local/lib/python3.6/dist-packages (from requests->transformers) (2020.12.5)\n",
            "Requirement already satisfied: sentencepiece in /usr/local/lib/python3.6/dist-packages (0.1.95)\n"
          ],
          "name": "stdout"
        }
      ]
    },
    {
      "cell_type": "code",
      "metadata": {
        "id": "ztQ8dAWOmau7"
      },
      "source": [
        "from transformers import BertModel\n",
        "from transformers import BertTokenizer\n",
        "from transformers import PretrainedConfig\n",
        "\n",
        "# testing different loading of models\n",
        "#from transformers import AutoModel, AutoTokenizer\n",
        "\n",
        "# metrics\n",
        "from sklearn.metrics import f1_score\n",
        "from sklearn.metrics import jaccard_score\n",
        "from sklearn.metrics import accuracy_score\n",
        "from sklearn.metrics import hamming_loss\n",
        "from sklearn.metrics import multilabel_confusion_matrix\n",
        "\n",
        "from sklearn.preprocessing import MultiLabelBinarizer\n",
        "from sklearn.model_selection import train_test_split\n",
        "\n",
        "import json\n",
        "import time\n",
        "import regex as re\n",
        "import pandas as pd\n",
        "import numpy as np\n",
        "import torch\n",
        "import matplotlib.pyplot as plt\n",
        "from scipy.interpolate import UnivariateSpline\n",
        "from torch.utils.data import Dataset, DataLoader\n",
        "from torch import nn\n",
        "from torch.nn import BCELoss\n",
        "from collections import Counter\n",
        "\n",
        "%matplotlib inline"
      ],
      "execution_count": 3,
      "outputs": []
    },
    {
      "cell_type": "code",
      "metadata": {
        "colab": {
          "base_uri": "https://localhost:8080/"
        },
        "id": "b8gxL6oKgo2a",
        "outputId": "f7044f45-b4a6-4d55-df2f-70b69b242599"
      },
      "source": [
        "# use an RNG seed for reproducibility\r\n",
        "seed_list = [2, 4, 8]\r\n",
        "\r\n",
        "SEED = seed_list[1]\r\n",
        "\r\n",
        "# set the RNG seed\r\n",
        "np.random.seed(SEED)\r\n",
        "torch.manual_seed(SEED)"
      ],
      "execution_count": 4,
      "outputs": [
        {
          "output_type": "execute_result",
          "data": {
            "text/plain": [
              "<torch._C.Generator at 0x7eff90d2d8b8>"
            ]
          },
          "metadata": {
            "tags": []
          },
          "execution_count": 4
        }
      ]
    },
    {
      "cell_type": "code",
      "metadata": {
        "colab": {
          "base_uri": "https://localhost:8080/"
        },
        "id": "LuzjiHVMmau9",
        "outputId": "5d376d70-7f9b-4a77-f536-77d5f47bba5c"
      },
      "source": [
        "path_to_data = './data'\n",
        "\n",
        "# create dataframe from sessions.json\n",
        "df = pd.read_json(f'{path_to_data}/sessions/sessions_02.json')\n",
        "df.head()\n",
        "\n",
        "# create dictionaries for switching between symptom and id\n",
        "id2sym = {}\n",
        "sym2id = {}\n",
        "\n",
        "with open(f'{path_to_data}/symptoms/symptoms_02.json') as json_file:\n",
        "    data = json.load(json_file)\n",
        "    for sym in data:\n",
        "        id2sym[sym['id']] = sym['name']\n",
        "        sym2id[sym['name']] = sym['id']\n",
        "        \n",
        "print(f'Numer of symptoms in id2sym: {len(sym2id)}')\n",
        "        \n",
        "# remove labels that have less than m occurrences\n",
        "m = 0\n",
        "\n",
        "labels_list = df['confirmed'].tolist()\n",
        "labels_list = sum(labels_list, [])\n",
        "c = Counter(labels_list)\n",
        "for i in range(len(df)):\n",
        "    to_remove = []\n",
        "    \n",
        "    # find labels that should be removed \n",
        "    for j in range(len(df['confirmed'][i])):\n",
        "        if c[df['confirmed'][i][j]] < m:\n",
        "            to_remove.append(j)\n",
        "            \n",
        "    # remove the labels\n",
        "    shift = 0\n",
        "    for j in range(len(to_remove)):\n",
        "        df['confirmed'][i].pop(to_remove[j]-shift)\n",
        "        shift += 1\n",
        "    \n",
        "        \n",
        "# add column with the symptom names\n",
        "sym_names = []\n",
        "\n",
        "for syms in df['confirmed']:\n",
        "    if len(syms) != 0:\n",
        "        sym_names.append([id2sym[x] for x in syms])\n",
        "    else:\n",
        "        sym_names.append([])\n",
        "\n",
        "df['labels'] = sym_names\n",
        "\n",
        "# remove all rows with no confirmed labels\n",
        "df = df[df['confirmed'].map(len) > 0]\n",
        "df = df.reset_index(drop=True)"
      ],
      "execution_count": 5,
      "outputs": [
        {
          "output_type": "stream",
          "text": [
            "Numer of symptoms in id2sym: 245\n"
          ],
          "name": "stdout"
        }
      ]
    },
    {
      "cell_type": "code",
      "metadata": {
        "colab": {
          "base_uri": "https://localhost:8080/",
          "height": 204
        },
        "id": "m9xph3WAmau-",
        "outputId": "12e328f9-1b46-4568-912d-ad27b0fe7bed"
      },
      "source": [
        "df.drop('confirmed', inplace=True, axis=1)\n",
        "#df.drop('suggested', inplace=True, axis=1)\n",
        "df.head()"
      ],
      "execution_count": 6,
      "outputs": [
        {
          "output_type": "execute_result",
          "data": {
            "text/html": [
              "<div>\n",
              "<style scoped>\n",
              "    .dataframe tbody tr th:only-of-type {\n",
              "        vertical-align: middle;\n",
              "    }\n",
              "\n",
              "    .dataframe tbody tr th {\n",
              "        vertical-align: top;\n",
              "    }\n",
              "\n",
              "    .dataframe thead th {\n",
              "        text-align: right;\n",
              "    }\n",
              "</style>\n",
              "<table border=\"1\" class=\"dataframe\">\n",
              "  <thead>\n",
              "    <tr style=\"text-align: right;\">\n",
              "      <th></th>\n",
              "      <th>text</th>\n",
              "      <th>suggested</th>\n",
              "      <th>labels</th>\n",
              "    </tr>\n",
              "  </thead>\n",
              "  <tbody>\n",
              "    <tr>\n",
              "      <th>0</th>\n",
              "      <td>Har fått besvärlig eksem på händerna</td>\n",
              "      <td>[141]</td>\n",
              "      <td>[Hudbesvär, Synliga hudbesvär]</td>\n",
              "    </tr>\n",
              "    <tr>\n",
              "      <th>1</th>\n",
              "      <td>Muskelsvaghet och trötthet känner mig skakig o...</td>\n",
              "      <td>[12, 97, 215, 359, 518, 606]</td>\n",
              "      <td>[Muskelsvaghet, Trötthet]</td>\n",
              "    </tr>\n",
              "    <tr>\n",
              "      <th>2</th>\n",
              "      <td>Vår son har röda hudutslag i nacke och knävecken</td>\n",
              "      <td>[141]</td>\n",
              "      <td>[Hudbesvär, Synliga hudbesvär]</td>\n",
              "    </tr>\n",
              "    <tr>\n",
              "      <th>3</th>\n",
              "      <td>hosta 5 dagar</td>\n",
              "      <td>[43]</td>\n",
              "      <td>[Hosta]</td>\n",
              "    </tr>\n",
              "    <tr>\n",
              "      <th>4</th>\n",
              "      <td>Huvudvärk</td>\n",
              "      <td>[54]</td>\n",
              "      <td>[Huvudvärk]</td>\n",
              "    </tr>\n",
              "  </tbody>\n",
              "</table>\n",
              "</div>"
            ],
            "text/plain": [
              "                                                text  ...                          labels\n",
              "0              Har fått besvärlig eksem på händerna   ...  [Hudbesvär, Synliga hudbesvär]\n",
              "1  Muskelsvaghet och trötthet känner mig skakig o...  ...       [Muskelsvaghet, Trötthet]\n",
              "2   Vår son har röda hudutslag i nacke och knävecken  ...  [Hudbesvär, Synliga hudbesvär]\n",
              "3                                     hosta 5 dagar   ...                         [Hosta]\n",
              "4                                         Huvudvärk   ...                     [Huvudvärk]\n",
              "\n",
              "[5 rows x 3 columns]"
            ]
          },
          "metadata": {
            "tags": []
          },
          "execution_count": 6
        }
      ]
    },
    {
      "cell_type": "code",
      "metadata": {
        "colab": {
          "base_uri": "https://localhost:8080/"
        },
        "id": "Mp_L0-yhmau_",
        "outputId": "08627d50-b582-46d6-ad21-38f445b4ed78"
      },
      "source": [
        "# choose which transformer model to use\n",
        "#path_to_model = r'./bert/electra-small-swedish-cased-discriminator'\n",
        "#path_to_model = r'./bert/electra-base-swedish-cased-discriminator'\n",
        "#path_to_model = r'./bert/bert-base-swedish-cased'\n",
        "#path_to_model = r'./bert/bert-base-multilingual-cased'\n",
        "\n",
        "# TEMPORARY lines for testing out XLNet\n",
        "from transformers import XLNetModel, XLNetTokenizer\n",
        "from transformers.modeling_utils import SequenceSummary\n",
        "path_to_model = r'./xlnet/xlnet-base-cased'\n",
        "\n",
        "print(f'Model path: {path_to_model}')\n",
        "\n",
        "tok = None\n",
        "if re.search(r'xlnet', path_to_model):\n",
        "    tok = XLNetTokenizer.from_pretrained(path_to_model)\n",
        "    print('Using XLNetTokenizer')\n",
        "elif re.search(r'bert', path_to_model):\n",
        "    tok = BertTokenizer.from_pretrained(path_to_model, do_lower_case=False)\n",
        "    print('Using BertTokenizer')\n",
        "\n",
        "# train a multilabel_binarizer on the labels\n",
        "labels = df['labels'].tolist()\n",
        "multilab_bin = MultiLabelBinarizer()\n",
        "multilab_bin.fit(labels)\n",
        "\n",
        "\n",
        "class CustomDataset(Dataset):\n",
        "    def __init__(self, dataframe, tokenizer, multilab_bin, max_len):\n",
        "        self.tokenizer = tokenizer\n",
        "        self.multilab_bin = multilab_bin\n",
        "        self.data = dataframe\n",
        "        self.text = self.data['text']\n",
        "        self.labels = self.data['labels']\n",
        "        self.max_len = max_len\n",
        "        \n",
        "    def __len__(self):\n",
        "        return len(self.text)\n",
        "    \n",
        "    def __getitem__(self, index):\n",
        "        text = str(self.text[index])\n",
        "        text = ' '.join(text.split())\n",
        "        \n",
        "        inputs = self.tokenizer.encode_plus(\n",
        "            text,\n",
        "            None,\n",
        "            add_special_tokens=True,\n",
        "            max_length=self.max_len,\n",
        "            truncation=True,\n",
        "            padding='max_length',\n",
        "            return_token_type_ids=True\n",
        "        )\n",
        "        ids = inputs['input_ids']\n",
        "        mask = inputs['attention_mask']\n",
        "        token_type_ids = inputs['token_type_ids']\n",
        "        \n",
        "        return {\n",
        "            'ids': torch.tensor(ids, dtype=torch.long),\n",
        "            'mask': torch.tensor(mask, dtype=torch.long),\n",
        "            'token_type_ids': torch.tensor(token_type_ids, dtype=torch.long),\n",
        "            #'labels': torch.tensor(np.sum(self.multilab_bin.transform([self.labels[index]]), axis=0), dtype=torch.float)\n",
        "            'labels': torch.tensor(self.multilab_bin.transform([self.labels[index]]).reshape(-1,), dtype=torch.float)\n",
        "        }        "
      ],
      "execution_count": 7,
      "outputs": [
        {
          "output_type": "stream",
          "text": [
            "Model path: ./xlnet/xlnet-base-cased\n",
            "Using XLNetTokenizer\n"
          ],
          "name": "stdout"
        }
      ]
    },
    {
      "cell_type": "code",
      "metadata": {
        "colab": {
          "base_uri": "https://localhost:8080/"
        },
        "id": "vqxfp2B8mau_",
        "outputId": "c135f95b-20c7-4412-cd86-31d7919e3c93"
      },
      "source": [
        "batch_size = 16\n",
        "\n",
        "# max number of tokens in text\n",
        "max_len = 0\n",
        "for i in range(len(df['text'])):\n",
        "    text = df['text'][i]\n",
        "    inputs = tok.encode_plus(\n",
        "            text,\n",
        "            None,\n",
        "            add_special_tokens=True,\n",
        "            padding=False,\n",
        "            return_token_type_ids=True\n",
        "            )\n",
        "    \n",
        "    if len(inputs['input_ids']) >= max_len:\n",
        "        print(len(inputs['input_ids']))\n",
        "        print(df['text'][i])\n",
        "        print(inputs['input_ids'])\n",
        "        print(tok.convert_ids_to_tokens(inputs['input_ids']))\n",
        "        max_len = len(inputs['input_ids'])\n",
        "if max_len > 250:\n",
        "    max_len = 250\n",
        "print(f'Max token length: {max_len}')\n",
        "\n",
        "\n",
        "train_dataset, test_dataset = train_test_split(df,\n",
        "                                        test_size=0.2,\n",
        "                                        shuffle=True)\n",
        "train_dataset = train_dataset.reset_index(drop=True)\n",
        "test_dataset = test_dataset.reset_index(drop=True)\n",
        "\n",
        "train_set = CustomDataset(train_dataset, tok, multilab_bin, max_len)\n",
        "test_set = CustomDataset(test_dataset, tok, multilab_bin, max_len)\n",
        "\n",
        "train_params = {'batch_size': batch_size,\n",
        "                'shuffle': True,\n",
        "                'num_workers': 0\n",
        "               }\n",
        "test_params = {'batch_size': batch_size,\n",
        "               'shuffle': True,\n",
        "               'num_workers': 0\n",
        "              }\n",
        "\n",
        "train_loader = DataLoader(train_set, **train_params)\n",
        "test_loader = DataLoader(test_set, **test_params)\n",
        "\n",
        "print(f'Train set: {len(train_dataset)} samples')\n",
        "print(f'Test set: {len(test_dataset)} samples')"
      ],
      "execution_count": 8,
      "outputs": [
        {
          "output_type": "stream",
          "text": [
            "17\n",
            "Har fått besvärlig eksem på händerna \n",
            "[2504, 3280, 46, 39, 23, 5584, 6657, 17, 2179, 23, 1914, 7063, 17, 15944, 597, 4, 3]\n",
            "['▁Har', '▁fat', 't', '▁be', 's', 'var', 'lig', '▁', 'ek', 's', 'em', '▁pa', '▁', 'hander', 'na', '<sep>', '<cls>']\n",
            "44\n",
            "Muskelsvaghet och trötthet känner mig skakig och en viss svullnad kring händerna. \n",
            "[28550, 8377, 20454, 1438, 46, 17, 6892, 17, 2530, 46, 305, 46, 17, 5944, 1357, 17, 98, 3033, 17, 6998, 2548, 299, 17, 6892, 17, 254, 17, 4856, 23, 17, 23, 13018, 215, 597, 66, 17, 267, 2154, 17, 15944, 597, 9, 4, 3]\n",
            "['▁Musk', 'els', 'vag', 'he', 't', '▁', 'och', '▁', 'tro', 't', 'the', 't', '▁', 'kan', 'ner', '▁', 'm', 'ig', '▁', 'ska', 'ki', 'g', '▁', 'och', '▁', 'en', '▁', 'vis', 's', '▁', 's', 'vu', 'll', 'na', 'd', '▁', 'k', 'ring', '▁', 'hander', 'na', '.', '<sep>', '<cls>']\n",
            "157\n",
            "Jag har exem och har fått utslag på händerna, armvecken och vid tinningen. Min kortisonsalva är iprincip helt slut och har endast en mjukgörande salva men jag känner inte att den hjälper och det känns som att den gör att jag kliar ännu mer på natten i sömnen. Jag skulle behöva en ny kortisonsalva för att få bort mina besvär. \n",
            "[15864, 17, 3327, 2002, 1914, 17, 6892, 17, 3327, 3280, 46, 17, 2015, 23, 8678, 7063, 17, 15944, 597, 19, 1860, 189, 16014, 17, 6892, 17, 7791, 17, 46, 12559, 254, 9, 4982, 17, 13204, 46, 7232, 6261, 1598, 17, 617, 17, 4501, 4499, 6949, 43, 10191, 17, 23, 2311, 46, 17, 6892, 17, 3327, 239, 712, 46, 17, 254, 17, 98, 2795, 267, 9242, 443, 93, 17, 6261, 1598, 416, 17, 1653, 299, 17, 5944, 1357, 25, 775, 38, 46, 17, 1426, 17, 409, 23707, 1371, 17, 6892, 321, 46, 17, 5944, 3673, 102, 98, 38, 46, 17, 1426, 17, 9242, 38, 46, 17, 1653, 299, 17, 267, 1258, 617, 48, 4216, 17, 2196, 7063, 17, 597, 14173, 17, 150, 102, 98, 14863, 9, 15864, 11075, 93, 39, 409, 5729, 17, 254, 17, 2159, 17, 13204, 46, 7232, 6261, 1598, 28, 38, 46, 17, 2819, 17, 7157, 46, 17, 12146, 39, 23, 5584, 9, 4, 3]\n",
            "['▁Jag', '▁', 'har', '▁ex', 'em', '▁', 'och', '▁', 'har', '▁fat', 't', '▁', 'ut', 's', 'lag', '▁pa', '▁', 'hander', 'na', ',', '▁arm', 've', 'cken', '▁', 'och', '▁', 'vid', '▁', 't', 'inning', 'en', '.', '▁Min', '▁', 'kor', 't', 'ison', 'sal', 'va', '▁', 'ar', '▁', 'ip', 'rin', 'cip', '▁he', 'lt', '▁', 's', 'lu', 't', '▁', 'och', '▁', 'har', '▁end', 'as', 't', '▁', 'en', '▁', 'm', 'ju', 'k', 'gor', 'and', 'e', '▁', 'sal', 'va', '▁men', '▁', 'ja', 'g', '▁', 'kan', 'ner', '▁in', 'te', '▁at', 't', '▁', 'den', '▁', 'h', 'jal', 'per', '▁', 'och', '▁de', 't', '▁', 'kan', 'ns', '▁so', 'm', '▁at', 't', '▁', 'den', '▁', 'gor', '▁at', 't', '▁', 'ja', 'g', '▁', 'k', 'li', 'ar', '▁an', 'nu', '▁', 'mer', '▁pa', '▁', 'na', 'tten', '▁', 'i', '▁so', 'm', 'nen', '.', '▁Jag', '▁skull', 'e', '▁be', 'h', 'ova', '▁', 'en', '▁', 'ny', '▁', 'kor', 't', 'ison', 'sal', 'va', '▁for', '▁at', 't', '▁', 'fa', '▁', 'bor', 't', '▁', 'mina', '▁be', 's', 'var', '.', '<sep>', '<cls>']\n",
            "184\n",
            "Har besvär med pirrningar i armar och händer. Har haft mycket problem med upprepade låsningar i nacken detta året. Arbetar hemma. Låsning för ca 2 veckor sedan som nu gått över. Pirrningar sedan en vecka tillbaka, mest på förmiddag och kväll. Kontakt med Furulunds vc idag som hänvisat mig till Rehab. Fått tid där 28/12. VC sa att jag skulle höra av mig till er för att ev kunna få antiinflammatoriskt läkemedel. \n",
            "[2504, 39, 23, 5584, 17, 3983, 17, 9261, 7591, 56, 617, 17, 150, 1860, 617, 17, 6892, 17, 15944, 9, 2504, 10118, 2378, 94, 16370, 46, 662, 17, 3983, 76, 3352, 1831, 620, 17, 4221, 3177, 617, 17, 150, 17, 597, 16014, 321, 8011, 41, 46, 9, 1903, 3210, 617, 43, 98, 661, 9, 4819, 3177, 28, 5460, 159, 17, 189, 2213, 218, 17326, 102, 98, 17, 4216, 17, 299, 12782, 95, 9, 14360, 7591, 56, 617, 17326, 17, 254, 17, 189, 2213, 101, 6667, 1642, 1041, 19, 110, 639, 7063, 28, 10618, 66, 4730, 17, 6892, 17, 267, 1598, 215, 9, 8679, 46, 1410, 46, 17, 3983, 9282, 1797, 5587, 23, 17, 24817, 17, 5074, 299, 102, 98, 17, 2643, 4856, 627, 17, 98, 3033, 6667, 741, 11952, 9, 9277, 46, 17, 19408, 17, 5072, 1576, 167, 1396, 9, 17, 13954, 17, 1512, 38, 46, 17, 1653, 299, 11075, 93, 6938, 840, 17, 4057, 17, 98, 3033, 6667, 17, 118, 28, 38, 46, 17, 3799, 17, 18651, 597, 17, 2819, 932, 153, 5653, 98, 18693, 11079, 46, 4364, 3983, 530, 9, 4, 3]\n",
            "['▁Har', '▁be', 's', 'var', '▁', 'med', '▁', 'pir', 'rn', 'ing', 'ar', '▁', 'i', '▁arm', 'ar', '▁', 'och', '▁', 'hander', '.', '▁Har', '▁ha', 'ft', '▁my', 'cke', 't', '▁problem', '▁', 'med', '▁up', 'pre', 'pa', 'de', '▁', 'las', 'ning', 'ar', '▁', 'i', '▁', 'na', 'cken', '▁de', 'tta', '▁are', 't', '.', '▁Ar', 'bet', 'ar', '▁he', 'm', 'ma', '.', '▁Las', 'ning', '▁for', '▁ca', '▁2', '▁', 've', 'ck', 'or', '▁sedan', '▁so', 'm', '▁', 'nu', '▁', 'g', 'att', '▁over', '.', '▁Pir', 'rn', 'ing', 'ar', '▁sedan', '▁', 'en', '▁', 've', 'ck', 'a', '▁till', 'ba', 'ka', ',', '▁me', 'st', '▁pa', '▁for', 'mid', 'd', 'ag', '▁', 'och', '▁', 'k', 'va', 'll', '.', '▁Kon', 't', 'ak', 't', '▁', 'med', '▁Fur', 'ul', 'und', 's', '▁', 'vc', '▁', 'ida', 'g', '▁so', 'm', '▁', 'han', 'vis', 'at', '▁', 'm', 'ig', '▁till', '▁Re', 'hab', '.', '▁Fat', 't', '▁', 'tid', '▁', 'dar', '▁28', '/', '12', '.', '▁', 'VC', '▁', 'sa', '▁at', 't', '▁', 'ja', 'g', '▁skull', 'e', '▁ho', 'ra', '▁', 'av', '▁', 'm', 'ig', '▁till', '▁', 'er', '▁for', '▁at', 't', '▁', 'ev', '▁', 'kun', 'na', '▁', 'fa', '▁anti', 'in', 'fla', 'm', 'mato', 'risk', 't', '▁lake', 'med', 'el', '.', '<sep>', '<cls>']\n",
            "242\n",
            "Sedan i lördags har jag smärtor i ländryggen, benen viker sig känns som en nerv i kläm, för att hålla mig uppe måste jag ha stöd så att jag kan lyfta upp min kroppsvikt \" lätta på trycket\", smärtan strålar ut i bägge benen. inga problem med toalettbesök. mornarna något bättre, jag kan tom gå, blir sämre under dagen. Kroppen känns spänd hela tiden. läkare på länsförsäkringar rekommenderade att jag kontaktade er/Närhälsan men jag kan inte förflytta mig (inte ta mig till bil)\n",
            "Vad ska jag göra?\n",
            "[17265, 262, 17, 150, 11508, 4730, 23, 17, 3327, 17, 1653, 299, 4637, 218, 17, 150, 883, 844, 299, 2418, 19, 39, 14863, 17, 16973, 118, 17, 23, 3033, 17, 5944, 3673, 102, 98, 17, 254, 17, 1357, 1232, 17, 150, 17, 267, 6798, 19, 28, 38, 46, 3601, 101, 17, 98, 3033, 76, 1590, 16876, 93, 17, 1653, 299, 10118, 17, 23, 261, 66, 17, 1512, 38, 46, 17, 1653, 299, 17, 5944, 17, 111, 2378, 101, 76, 450, 17, 1841, 17, 267, 986, 4497, 23, 16973, 46, 17, 12, 2483, 8011, 7063, 714, 16370, 46, 12, 19, 4637, 262, 17, 22052, 617, 17, 2015, 17, 150, 3153, 1207, 39, 14863, 9, 25, 1463, 662, 17, 3983, 22, 212, 3841, 16189, 3518, 9, 17, 4827, 6616, 597, 17, 597, 10865, 6842, 46, 88, 19, 17, 1653, 299, 17, 5944, 22, 98, 17, 1463, 19, 17, 17704, 213, 17, 14200, 88, 168, 8075, 2418, 9, 16552, 15834, 17, 5944, 3673, 6950, 66, 43, 867, 11029, 180, 9, 17, 20949, 4895, 7063, 17, 1941, 23, 1383, 23, 1410, 2154, 617, 17, 88, 20964, 98, 9198, 4925, 38, 46, 17, 1653, 299, 17, 14946, 46, 1410, 46, 4925, 17, 118, 167, 353, 617, 5240, 5067, 416, 17, 1653, 299, 17, 5944, 25, 775, 28, 9103, 8011, 17, 98, 3033, 17, 10, 153, 775, 17, 751, 17, 98, 3033, 6667, 17, 9810, 11, 3319, 66, 17, 6998, 17, 1653, 299, 216, 840, 82, 4, 3]\n",
            "['▁Sed', 'an', '▁', 'i', '▁lord', 'ag', 's', '▁', 'har', '▁', 'ja', 'g', '▁smart', 'or', '▁', 'i', '▁land', 'ry', 'g', 'gen', ',', '▁be', 'nen', '▁', 'vik', 'er', '▁', 's', 'ig', '▁', 'kan', 'ns', '▁so', 'm', '▁', 'en', '▁', 'ner', 'v', '▁', 'i', '▁', 'k', 'lam', ',', '▁for', '▁at', 't', '▁hall', 'a', '▁', 'm', 'ig', '▁up', 'pe', '▁mast', 'e', '▁', 'ja', 'g', '▁ha', '▁', 's', 'to', 'd', '▁', 'sa', '▁at', 't', '▁', 'ja', 'g', '▁', 'kan', '▁', 'ly', 'ft', 'a', '▁up', 'p', '▁', 'min', '▁', 'k', 'ro', 'pp', 's', 'vik', 't', '▁', '\"', '▁la', 'tta', '▁pa', '▁try', 'cke', 't', '\"', ',', '▁smart', 'an', '▁', 'stral', 'ar', '▁', 'ut', '▁', 'i', '▁bag', 'ge', '▁be', 'nen', '.', '▁in', 'ga', '▁problem', '▁', 'med', '▁to', 'al', 'ett', 'bes', 'ok', '.', '▁', 'mor', 'nar', 'na', '▁', 'na', 'got', '▁bat', 't', 're', ',', '▁', 'ja', 'g', '▁', 'kan', '▁to', 'm', '▁', 'ga', ',', '▁', 'bli', 'r', '▁', 'sam', 're', '▁under', '▁da', 'gen', '.', '▁Kro', 'ppen', '▁', 'kan', 'ns', '▁span', 'd', '▁he', 'la', '▁tide', 'n', '.', '▁', 'lak', 'are', '▁pa', '▁', 'lan', 's', 'for', 's', 'ak', 'ring', 'ar', '▁', 're', 'kom', 'm', 'ender', 'ade', '▁at', 't', '▁', 'ja', 'g', '▁', 'kon', 't', 'ak', 't', 'ade', '▁', 'er', '/', 'N', 'ar', 'hal', 'san', '▁men', '▁', 'ja', 'g', '▁', 'kan', '▁in', 'te', '▁for', 'fly', 'tta', '▁', 'm', 'ig', '▁', '(', 'in', 'te', '▁', 'ta', '▁', 'm', 'ig', '▁till', '▁', 'bil', ')', '▁Va', 'd', '▁', 'ska', '▁', 'ja', 'g', '▁go', 'ra', '?', '<sep>', '<cls>']\n",
            "250\n",
            "Jag har fått en grupp vätskefyllda små blåsor, 1-3mm stora. De sitter 3cm ovanför penisroten på magen. Området har vart lite svullet. Det har inte kliat eller vart något större besvär. Jag har dock illa nog klämt på svullnaden o då växte blåsorna o några sprack. Blåsorna va först färglösa som en vattenblåsa. Men efter de spruckit så kom det mer blodfärgad vätska ut ur dem. Svullnaden gick ner något efter. Tror det kan vara könsherpes. Har tagit bild på utslagen före o efter jag började klämma.\n",
            "[15864, 17, 3327, 3280, 46, 17, 254, 17, 10862, 4497, 17, 14556, 10652, 16174, 215, 1011, 17, 23, 661, 17, 7140, 23, 218, 19, 156, 13, 233, 2828, 17, 639, 6166, 9, 772, 17, 23, 10941, 198, 17983, 17, 1810, 262, 1383, 19721, 986, 2388, 7063, 17, 661, 2418, 9, 18524, 15141, 46, 17, 3327, 17, 5584, 46, 17, 18564, 17, 23, 17494, 3214, 9, 772, 46, 17, 3327, 25, 775, 17, 267, 6028, 46, 17, 14115, 17, 5584, 46, 17, 597, 10865, 17, 23, 3145, 88, 39, 23, 5584, 9, 15864, 17, 3327, 8397, 17, 4865, 116, 299, 17, 267, 6798, 46, 7063, 17, 23, 13018, 215, 597, 1426, 17, 155, 8075, 17, 1598, 469, 775, 17, 7140, 23, 218, 597, 17, 155, 17, 597, 6405, 17, 3848, 16914, 9, 6424, 23, 218, 597, 17, 1598, 28, 639, 420, 10476, 1512, 102, 98, 17, 254, 17, 1598, 14173, 7140, 1512, 9, 2255, 17, 4631, 1158, 321, 17, 3848, 15496, 669, 17, 1512, 17, 20964, 321, 46, 17, 2196, 17, 9172, 66, 5139, 1463, 66, 17, 14556, 6998, 17, 2015, 17, 1067, 17, 10032, 9, 17, 83, 13018, 215, 597, 1426, 17, 299, 4287, 17, 1357, 17, 597, 10865, 17, 4631, 1158, 9, 5633, 213, 321, 46, 17, 5944, 17, 5584, 101, 17, 14946, 23, 1921, 9462, 9, 2504, 7812, 669, 17, 9810, 66, 7063, 17, 2015, 23, 867, 2418, 28, 93, 17, 155, 17, 4631, 1158, 17, 1653, 299, 17, 7157, 1653, 620, 17, 17829, 20191, 9, 4, 3]\n",
            "['▁Jag', '▁', 'har', '▁fat', 't', '▁', 'en', '▁', 'gru', 'pp', '▁', 'vat', 'ske', 'fy', 'll', 'da', '▁', 's', 'ma', '▁', 'bla', 's', 'or', ',', '▁1', '-', '3', 'mm', '▁', 'st', 'ora', '.', '▁De', '▁', 's', 'itter', '▁3', 'cm', '▁', 'ov', 'an', 'for', '▁penis', 'ro', 'ten', '▁pa', '▁', 'ma', 'gen', '.', '▁Om', 'rade', 't', '▁', 'har', '▁', 'var', 't', '▁', 'lite', '▁', 's', 'vul', 'let', '.', '▁De', 't', '▁', 'har', '▁in', 'te', '▁', 'k', 'lia', 't', '▁', 'eller', '▁', 'var', 't', '▁', 'na', 'got', '▁', 's', 'tor', 're', '▁be', 's', 'var', '.', '▁Jag', '▁', 'har', '▁dock', '▁', 'illa', '▁no', 'g', '▁', 'k', 'lam', 't', '▁pa', '▁', 's', 'vu', 'll', 'na', 'den', '▁', 'o', '▁da', '▁', 'va', 'x', 'te', '▁', 'bla', 's', 'or', 'na', '▁', 'o', '▁', 'na', 'gra', '▁', 'sp', 'rack', '.', '▁Bla', 's', 'or', 'na', '▁', 'va', '▁for', 'st', '▁far', 'glo', 'sa', '▁so', 'm', '▁', 'en', '▁', 'va', 'tten', 'bla', 'sa', '.', '▁Men', '▁', 'ef', 'ter', '▁de', '▁', 'sp', 'ruck', 'it', '▁', 'sa', '▁', 'kom', '▁de', 't', '▁', 'mer', '▁', 'blo', 'd', 'far', 'ga', 'd', '▁', 'vat', 'ska', '▁', 'ut', '▁', 'ur', '▁', 'dem', '.', '▁', 'S', 'vu', 'll', 'na', 'den', '▁', 'g', 'ick', '▁', 'ner', '▁', 'na', 'got', '▁', 'ef', 'ter', '.', '▁Tro', 'r', '▁de', 't', '▁', 'kan', '▁', 'var', 'a', '▁', 'kon', 's', 'her', 'pes', '.', '▁Har', '▁tag', 'it', '▁', 'bil', 'd', '▁pa', '▁', 'ut', 's', 'la', 'gen', '▁for', 'e', '▁', 'o', '▁', 'ef', 'ter', '▁', 'ja', 'g', '▁', 'bor', 'ja', 'de', '▁', 'kl', 'amma', '.', '<sep>', '<cls>']\n",
            "255\n",
            "Hej! Sedan 2 veckor det har blivit jätte svårt för mig.Jag får ont i min rygg, ledvärk hela min kropp.Jag har huvudvärk helatiden och har gått ner i vikt jätte mycket.Även är det svårt för mig att sova jag har sovit bara 5timmar på 3dagar.Jag har försökt i flera timmar men det funkar ej.Jag känner mig sämre jag äter jättemycket men ingenting går bra för mig.lgår kunde jag inte sova sen tog jag Alvedon eftersom jag hade huvudvärk.Igår låg jag mig kl19 och vaknade 20:30 och tills nu har inte sovit\n",
            "[69, 1315, 136, 17265, 262, 159, 17, 189, 2213, 218, 321, 46, 17, 3327, 17, 17704, 11956, 17, 1653, 7936, 17, 23, 5584, 46, 28, 17, 98, 3033, 9, 8509, 299, 420, 31, 46, 17, 150, 17, 1841, 17, 844, 5723, 19, 687, 5584, 267, 43, 867, 17, 1841, 17, 267, 986, 4497, 9, 8509, 299, 17, 3327, 17, 2762, 13018, 66, 5584, 267, 43, 867, 1680, 1426, 17, 6892, 17, 3327, 17, 299, 12782, 17, 1357, 17, 150, 17, 16973, 46, 17, 1653, 7936, 94, 16370, 46, 9, 246, 3138, 17, 617, 321, 46, 17, 23, 5584, 46, 28, 17, 98, 3033, 38, 46, 102, 1598, 17, 1653, 299, 17, 3327, 102, 11956, 17, 22687, 306, 11911, 1880, 7063, 198, 1011, 2753, 9, 8509, 299, 17, 3327, 28, 23, 3518, 46, 17, 150, 11618, 3277, 17, 11911, 1880, 416, 321, 46, 1572, 4597, 17, 17240, 9, 8509, 299, 17, 5944, 1357, 17, 98, 3033, 17, 14200, 88, 17, 1653, 299, 38, 118, 17, 1653, 7936, 2239, 16370, 46, 416, 25, 7397, 56, 17, 2753, 6700, 28, 17, 98, 3033, 9, 368, 2753, 17, 267, 20809, 17, 1653, 299, 25, 775, 102, 1598, 17, 2360, 22, 299, 17, 1653, 299, 651, 189, 2622, 17, 4631, 1158, 11998, 17, 1653, 299, 54, 93, 17, 2762, 13018, 66, 5584, 267, 9, 96, 2753, 17, 8678, 17, 1653, 299, 17, 98, 3033, 17, 17829, 815, 17, 6892, 2721, 1410, 597, 620, 378, 60, 1496, 17, 6892, 6667, 23, 17, 4216, 17, 3327, 25, 775, 102, 11956, 4, 3]\n",
            "['▁He', 'j', '!', '▁Sed', 'an', '▁2', '▁', 've', 'ck', 'or', '▁de', 't', '▁', 'har', '▁', 'bli', 'vit', '▁', 'ja', 'tte', '▁', 's', 'var', 't', '▁for', '▁', 'm', 'ig', '.', 'Ja', 'g', '▁far', '▁on', 't', '▁', 'i', '▁', 'min', '▁', 'ry', 'gg', ',', '▁led', 'var', 'k', '▁he', 'la', '▁', 'min', '▁', 'k', 'ro', 'pp', '.', 'Ja', 'g', '▁', 'har', '▁', 'hu', 'vu', 'd', 'var', 'k', '▁he', 'la', 'ti', 'den', '▁', 'och', '▁', 'har', '▁', 'g', 'att', '▁', 'ner', '▁', 'i', '▁', 'vik', 't', '▁', 'ja', 'tte', '▁my', 'cke', 't', '.', 'A', 'ven', '▁', 'ar', '▁de', 't', '▁', 's', 'var', 't', '▁for', '▁', 'm', 'ig', '▁at', 't', '▁so', 'va', '▁', 'ja', 'g', '▁', 'har', '▁so', 'vit', '▁', 'bara', '▁5', 'tim', 'mar', '▁pa', '▁3', 'da', 'gar', '.', 'Ja', 'g', '▁', 'har', '▁for', 's', 'ok', 't', '▁', 'i', '▁fl', 'era', '▁', 'tim', 'mar', '▁men', '▁de', 't', '▁fun', 'kar', '▁', 'ej', '.', 'Ja', 'g', '▁', 'kan', 'ner', '▁', 'm', 'ig', '▁', 'sam', 're', '▁', 'ja', 'g', '▁at', 'er', '▁', 'ja', 'tte', 'my', 'cke', 't', '▁men', '▁in', 'gent', 'ing', '▁', 'gar', '▁bra', '▁for', '▁', 'm', 'ig', '.', 'l', 'gar', '▁', 'k', 'unde', '▁', 'ja', 'g', '▁in', 'te', '▁so', 'va', '▁', 'sen', '▁to', 'g', '▁', 'ja', 'g', '▁Al', 've', 'don', '▁', 'ef', 'ter', 'som', '▁', 'ja', 'g', '▁had', 'e', '▁', 'hu', 'vu', 'd', 'var', 'k', '.', 'I', 'gar', '▁', 'lag', '▁', 'ja', 'g', '▁', 'm', 'ig', '▁', 'kl', '19', '▁', 'och', '▁v', 'ak', 'na', 'de', '▁20', ':', '30', '▁', 'och', '▁till', 's', '▁', 'nu', '▁', 'har', '▁in', 'te', '▁so', 'vit', '<sep>', '<cls>']\n",
            "256\n",
            "Jag har huvudvärk minst 2 gg i veckan, min mage är trög och ibland är det svårt att tömma magen, tror att jag har hemroider, i somras började jag känna mig yr ofta, träffade läkare för det och han sa att jag har blodtrycksfall, mina menstruationer är också konstiga, ibland blöder jag jätte mycket ibland knappt någonting, nu har mina huvudvärk blivit värre dem varar längre men jag har även jätteont i mina muskler och leder framförallt mina händer och fingrar..i släkten finns fibromyalgi hos kvinn\n",
            "[15864, 17, 3327, 17, 2762, 13018, 66, 5584, 267, 17, 1841, 639, 159, 17, 5723, 17, 150, 17, 189, 2213, 262, 19, 17, 1841, 17, 98, 981, 17, 617, 17, 46, 17453, 17, 6892, 17, 5290, 729, 17, 617, 321, 46, 17, 23, 5584, 46, 38, 46, 22, 98, 661, 17, 661, 2418, 19, 17, 2530, 213, 38, 46, 17, 1653, 299, 17, 3327, 43, 98, 10288, 118, 19, 17, 150, 102, 98, 8304, 17, 7157, 1653, 620, 17, 1653, 299, 17, 267, 8460, 17, 98, 3033, 17, 6352, 20, 751, 19, 17, 2044, 5026, 4925, 17, 20949, 4895, 28, 321, 46, 17, 6892, 17, 2643, 17, 1512, 38, 46, 17, 1653, 299, 17, 3327, 17, 9172, 66, 6509, 2213, 23, 9158, 19, 17, 12146, 416, 5468, 17748, 118, 17, 617, 17, 6834, 1512, 17, 14946, 639, 12321, 19, 17, 5290, 729, 17, 9172, 1299, 17, 1653, 299, 17, 1653, 7936, 94, 16370, 46, 17, 5290, 729, 17, 267, 12619, 3801, 17, 180, 12806, 1203, 19, 17, 4216, 17, 3327, 17, 12146, 17, 2762, 13018, 66, 5584, 267, 17, 17704, 11956, 17, 5584, 88, 17, 10032, 17, 5584, 617, 17, 11407, 88, 416, 17, 1653, 299, 17, 3327, 24, 3138, 17, 1653, 7936, 253, 46, 17, 150, 17, 12146, 17, 3670, 267, 1607, 17, 6892, 687, 118, 17, 5706, 98, 1383, 2225, 46, 17, 12146, 17, 15944, 17, 6892, 17, 4097, 6405, 213, 9, 9, 150, 17, 23, 20949, 2388, 17, 4097, 3673, 17, 22183, 2239, 212, 3141, 6938, 23, 17, 267, 3454, 180, 4, 3]\n",
            "['▁Jag', '▁', 'har', '▁', 'hu', 'vu', 'd', 'var', 'k', '▁', 'min', 'st', '▁2', '▁', 'gg', '▁', 'i', '▁', 've', 'ck', 'an', ',', '▁', 'min', '▁', 'm', 'age', '▁', 'ar', '▁', 't', 'rog', '▁', 'och', '▁', 'ib', 'land', '▁', 'ar', '▁de', 't', '▁', 's', 'var', 't', '▁at', 't', '▁to', 'm', 'ma', '▁', 'ma', 'gen', ',', '▁', 'tro', 'r', '▁at', 't', '▁', 'ja', 'g', '▁', 'har', '▁he', 'm', 'roid', 'er', ',', '▁', 'i', '▁so', 'm', 'ras', '▁', 'bor', 'ja', 'de', '▁', 'ja', 'g', '▁', 'k', 'anna', '▁', 'm', 'ig', '▁', 'yr', '▁of', 'ta', ',', '▁', 'tra', 'ff', 'ade', '▁', 'lak', 'are', '▁for', '▁de', 't', '▁', 'och', '▁', 'han', '▁', 'sa', '▁at', 't', '▁', 'ja', 'g', '▁', 'har', '▁', 'blo', 'd', 'try', 'ck', 's', 'fall', ',', '▁', 'mina', '▁men', 'str', 'uation', 'er', '▁', 'ar', '▁', 'ock', 'sa', '▁', 'kon', 'st', 'iga', ',', '▁', 'ib', 'land', '▁', 'blo', 'der', '▁', 'ja', 'g', '▁', 'ja', 'tte', '▁my', 'cke', 't', '▁', 'ib', 'land', '▁', 'k', 'nap', 'pt', '▁', 'n', 'agon', 'ting', ',', '▁', 'nu', '▁', 'har', '▁', 'mina', '▁', 'hu', 'vu', 'd', 'var', 'k', '▁', 'bli', 'vit', '▁', 'var', 're', '▁', 'dem', '▁', 'var', 'ar', '▁', 'lang', 're', '▁men', '▁', 'ja', 'g', '▁', 'har', '▁a', 'ven', '▁', 'ja', 'tte', 'on', 't', '▁', 'i', '▁', 'mina', '▁', 'mus', 'k', 'ler', '▁', 'och', '▁led', 'er', '▁', 'fra', 'm', 'for', 'all', 't', '▁', 'mina', '▁', 'hander', '▁', 'och', '▁', 'fin', 'gra', 'r', '.', '.', 'i', '▁', 's', 'lak', 'ten', '▁', 'fin', 'ns', '▁', 'fibro', 'my', 'al', 'gi', '▁ho', 's', '▁', 'k', 'vin', 'n', '<sep>', '<cls>']\n",
            "Max token length: 250\n",
            "Train set: 5232 samples\n",
            "Test set: 1308 samples\n"
          ],
          "name": "stdout"
        }
      ]
    },
    {
      "cell_type": "code",
      "metadata": {
        "colab": {
          "base_uri": "https://localhost:8080/"
        },
        "id": "vHjybrQHmau_",
        "outputId": "4739ef8c-ed85-4d6e-e310-8b462a2c845c"
      },
      "source": [
        "# decide which device to use. use cuda if available\n",
        "dev = ''\n",
        "if torch.cuda.is_available():\n",
        "    dev = 'cuda:0'\n",
        "else:\n",
        "    dev = 'cpu'\n",
        "\n",
        "print(f'dev = {dev}')\n",
        "print(f'Number of available GPUs: {torch.cuda.device_count()}')\n",
        "\n",
        "# print the device names\n",
        "for i in range(torch.cuda.device_count()):\n",
        "  print(f'Device {i}: {torch.cuda.get_device_name(i)}')\n",
        "\n",
        "device = torch.device(dev)"
      ],
      "execution_count": 9,
      "outputs": [
        {
          "output_type": "stream",
          "text": [
            "dev = cuda:0\n",
            "Number of available GPUs: 1\n",
            "Device 0: Tesla P100-PCIE-16GB\n"
          ],
          "name": "stdout"
        }
      ]
    },
    {
      "cell_type": "code",
      "metadata": {
        "id": "lBYDTZNvmavA"
      },
      "source": [
        "class BERTClass(nn.Module):\n",
        "    def __init__(self, config, path_to_bert, output_dim):\n",
        "        super(BERTClass, self).__init__()\n",
        "        #config = PretrainedConfig.from_json_file(f'{path_to_bert}/config.json')\n",
        "        self.bert = BertModel.from_pretrained(path_to_bert)\n",
        "        #self.bert = BertModel(config)\n",
        "        self.dropout = torch.nn.Dropout(config.hidden_dropout_prob)\n",
        "        self.fc = nn.Linear(config.hidden_size, output_dim)\n",
        "        self.sigm = nn.Sigmoid()\n",
        "        \n",
        "    def forward(self, ids, mask, token_type_ids):\n",
        "        x = self.bert(ids, attention_mask=mask, token_type_ids=token_type_ids)\n",
        "        x = self.dropout(x[1])\n",
        "        x = self.fc(x)\n",
        "        output = self.sigm(x)\n",
        "        return output\n",
        "\n",
        "class XLNetClass(nn.Module):\n",
        "    def __init__(self, config, path_to_model, output_dim):\n",
        "        super(XLNetClass, self).__init__()\n",
        "        self.transformer = XLNetModel.from_pretrained(path_to_model)\n",
        "\n",
        "        # - - - - Imitate BertPooler - - - -\n",
        "        #self.dense = nn.Linear(config.d_model, config.d_model)\n",
        "        #self.tanh = nn.Tanh()\n",
        "        # - - - - - - - - - - - - - - - - - - -\n",
        "\n",
        "        self.dropout = nn.Dropout(config.summary_last_dropout)\n",
        "\n",
        "        self.fc = nn.Linear(config.d_model, output_dim)\n",
        "        self.sigm = nn.Sigmoid()\n",
        "\n",
        "    def forward(self, ids, mask, token_type_ids):\n",
        "        x = self.transformer(ids, attention_mask=mask, token_type_ids=token_type_ids)\n",
        "\n",
        "        # - - - - Imitate BertPooler - - - -\n",
        "        x = x[0][:, -1] # use the CLS token\n",
        "        #x = self.dense(x)\n",
        "        #x = self.tanh(x)\n",
        "        # - - - - - - - - - - - - - - - - - -\n",
        "\n",
        "        x = self.dropout(x)\n",
        "        x = self.fc(x)\n",
        "        output = self.sigm(x)\n",
        "        return output\n"
      ],
      "execution_count": 10,
      "outputs": []
    },
    {
      "cell_type": "code",
      "metadata": {
        "id": "XGGhVr_tmavA"
      },
      "source": [
        "# compute the loss of an epoch by averaging all batch losses\n",
        "def epoch_loss(model, data_loader, criterion):\n",
        "    loss = 0\n",
        "    batch_count = 0\n",
        "    \n",
        "    model.eval()\n",
        "    with torch.no_grad():\n",
        "        for idx,batch in enumerate(data_loader):\n",
        "            ids = batch['ids'].to(device, dtype=torch.long)\n",
        "            mask = batch['mask'].to(device, dtype=torch.long)\n",
        "            token_type_ids = batch['token_type_ids'].to(device, dtype=torch.long)\n",
        "            labels = batch['labels'].to(device, dtype=torch.float)\n",
        "            \n",
        "            outputs = model(ids, mask, token_type_ids)\n",
        "            loss += criterion(outputs, labels)\n",
        "            batch_count += 1\n",
        "    model.train()\n",
        "    return loss / batch_count"
      ],
      "execution_count": 11,
      "outputs": []
    },
    {
      "cell_type": "code",
      "metadata": {
        "colab": {
          "base_uri": "https://localhost:8080/"
        },
        "id": "gr7rj2zwWj0K",
        "outputId": "d6875f97-c2c5-46d2-b7a8-8e8f68fa7af3"
      },
      "source": [
        "# define the model\r\n",
        "D_out = len(multilab_bin.classes_)\r\n",
        "\r\n",
        "config = PretrainedConfig.from_json_file(f'{path_to_model}/config.json')\r\n",
        "\r\n",
        "# choose appropriate nn.module class based on pathname\r\n",
        "model = None\r\n",
        "if re.search(r'xlnet', path_to_model):\r\n",
        "    model = XLNetClass(config, path_to_model, D_out)\r\n",
        "    print('Using XLNetClass')\r\n",
        "elif re.search(r'bert', path_to_model):\r\n",
        "    model = BERTClass(config, path_to_model, D_out)\r\n",
        "    print('Using BertClass')\r\n",
        "\r\n",
        "model.train()\r\n",
        "model.to(device)\r\n",
        "\r\n",
        "# number of epochs trained\r\n",
        "epochs_trained = 0\r\n",
        "\r\n",
        "# losses over entire train-/test-set per epoch\r\n",
        "train_losses = []\r\n",
        "test_losses = []"
      ],
      "execution_count": 12,
      "outputs": [
        {
          "output_type": "stream",
          "text": [
            "Using XLNetClass\n"
          ],
          "name": "stdout"
        }
      ]
    },
    {
      "cell_type": "code",
      "metadata": {
        "id": "Bs7jzf1amavA",
        "scrolled": false,
        "colab": {
          "base_uri": "https://localhost:8080/"
        },
        "outputId": "27be7cc3-19d0-4d02-a0f1-4d724faf2470"
      },
      "source": [
        "\n",
        "model.train()\n",
        "\n",
        "# training loop\n",
        "learning_rate = 0.00005\n",
        "\n",
        "criterion = torch.nn.BCELoss()\n",
        "optimizer = torch.optim.Adam(model.parameters(), lr=learning_rate)\n",
        "\n",
        "# if the test loss has not improved in the last k epochs, stop training\n",
        "k = 5\n",
        "\n",
        "num_epochs = 100\n",
        "for epoch in range(num_epochs):\n",
        "    # keep track of time taken per epoch\n",
        "    start_time = time.time()\n",
        "\n",
        "    for idx,batch in enumerate(train_loader):\n",
        "        ids = batch['ids'].to(device, dtype=torch.long)\n",
        "        mask = batch['mask'].to(device, dtype=torch.long)\n",
        "        token_type_ids = batch['token_type_ids'].to(device, dtype=torch.long)\n",
        "        labels = batch['labels'].to(device, dtype=torch.float)\n",
        "        \n",
        "        # forward pass\n",
        "        outputs = model(ids, mask, token_type_ids)\n",
        "        \n",
        "        # zero the parameter gradients\n",
        "        optimizer.zero_grad()\n",
        "        \n",
        "        # backward pass\n",
        "        loss = criterion(outputs, labels)\n",
        "        loss.backward()\n",
        "        optimizer.step()\n",
        "    \n",
        "    # save the losses\n",
        "    train_losses.append(epoch_loss(model, train_loader, criterion))\n",
        "    test_losses.append(epoch_loss(model, test_loader, criterion))\n",
        "\n",
        "    epochs_trained += 1\n",
        "    \n",
        "    print(f'End of epoch {epochs_trained}, Train Loss: {train_losses[-1]:.7f}, Test Loss: {test_losses[-1]:.7f}, Time elapsed: {time.time()-start_time:.2f} s')\n",
        "\n",
        "    # if the test loss has not improved in the last k epochs break\n",
        "    if len(test_losses) > k and all(test_losses[-(k+1)] < tl for tl in test_losses[-k:]):\n",
        "      print(f'Test loss has not improved in the last {k} epochs. Stopping ...')\n",
        "      break"
      ],
      "execution_count": 13,
      "outputs": [
        {
          "output_type": "stream",
          "text": [
            "End of epoch 1, Train Loss: 0.0369643, Test Loss: 0.0379913, Time elapsed: 315.12 s\n",
            "End of epoch 2, Train Loss: 0.0356564, Test Loss: 0.0367738, Time elapsed: 315.21 s\n",
            "End of epoch 3, Train Loss: 0.0285309, Test Loss: 0.0297655, Time elapsed: 315.12 s\n",
            "End of epoch 4, Train Loss: 0.0231028, Test Loss: 0.0255094, Time elapsed: 315.13 s\n",
            "End of epoch 5, Train Loss: 0.0195583, Test Loss: 0.0235497, Time elapsed: 315.39 s\n",
            "End of epoch 6, Train Loss: 0.0155060, Test Loss: 0.0209626, Time elapsed: 315.26 s\n",
            "End of epoch 7, Train Loss: 0.0127895, Test Loss: 0.0196917, Time elapsed: 315.22 s\n",
            "End of epoch 8, Train Loss: 0.0112476, Test Loss: 0.0197346, Time elapsed: 315.30 s\n",
            "End of epoch 9, Train Loss: 0.0088503, Test Loss: 0.0193547, Time elapsed: 315.17 s\n",
            "End of epoch 10, Train Loss: 0.0077548, Test Loss: 0.0197270, Time elapsed: 315.00 s\n",
            "End of epoch 11, Train Loss: 0.0065298, Test Loss: 0.0201052, Time elapsed: 315.18 s\n",
            "End of epoch 12, Train Loss: 0.0053648, Test Loss: 0.0208720, Time elapsed: 315.07 s\n",
            "End of epoch 13, Train Loss: 0.0044942, Test Loss: 0.0216680, Time elapsed: 315.07 s\n",
            "End of epoch 14, Train Loss: 0.0041215, Test Loss: 0.0221203, Time elapsed: 314.97 s\n",
            "Test loss has not improved in the last 5 epochs. Stopping ...\n"
          ],
          "name": "stdout"
        }
      ]
    },
    {
      "cell_type": "code",
      "metadata": {
        "id": "m-OJN96cmavB"
      },
      "source": [
        "# get the predicitons and corresponding labels\n",
        "def get_pred_true(model, data_loader, D_out):\n",
        "\n",
        "    y_pred = np.zeros((1,D_out))\n",
        "    y_true = np.zeros((1,D_out))\n",
        "  \n",
        "    with torch.no_grad():\n",
        "        for idx,batch in enumerate(data_loader):\n",
        "            ids = batch['ids'].to(device, dtype=torch.long)\n",
        "            mask = batch['mask'].to(device, dtype=torch.long)\n",
        "            token_type_ids = batch['token_type_ids'].to(device, dtype=torch.long)\n",
        "            labels = batch['labels'].to(device, dtype=torch.float)\n",
        "            \n",
        "            outputs = model(ids, mask, token_type_ids)\n",
        "            \n",
        "            y_pred = np.concatenate((y_pred,outputs.detach().cpu().numpy()), axis=0)\n",
        "            y_true = np.concatenate((y_true,np.array(labels.cpu())), axis=0)\n",
        "            \n",
        "    return y_pred[1:,:], y_true[1:,:]\n",
        "\n",
        "model.eval()  \n",
        "y_pred_temp, y_true = get_pred_true(model, test_loader, D_out)"
      ],
      "execution_count": 14,
      "outputs": []
    },
    {
      "cell_type": "code",
      "metadata": {
        "id": "JtdtWDQAmavC",
        "colab": {
          "base_uri": "https://localhost:8080/",
          "height": 736
        },
        "outputId": "a708e417-2b83-46b0-e2da-798af8ecd5c8"
      },
      "source": [
        "# set all values above threshold to 1, else 0\n",
        "th = 0.5\n",
        "y_pred = np.copy(y_pred_temp)\n",
        "y_pred[y_pred > th] = 1\n",
        "y_pred[y_pred <= th] = 0\n",
        "\n",
        "# number of labels in test set\n",
        "#labels_in_test = np.count_nonzero(np.sum(y_true, axis=0))\n",
        "label_counts_test = np.sum(multilab_bin.transform(test_dataset['labels']), axis=0)\n",
        "labels_in_test = np.count_nonzero(label_counts_test)\n",
        "\n",
        "# number of labels in train set\n",
        "label_counts_train = np.sum(multilab_bin.transform(train_dataset['labels']), axis=0)\n",
        "labels_in_train = np.count_nonzero(label_counts_train)\n",
        "\n",
        "# compute size of intersection between labels in train and test\n",
        "label_counts_test[label_counts_test > 0] = 1\n",
        "labels_bin_test = label_counts_test\n",
        "\n",
        "label_counts_train[label_counts_train > 0] = 1\n",
        "labels_bin_train = label_counts_train\n",
        "\n",
        "labels_bin_sum = labels_bin_test + labels_bin_train\n",
        "labels_intersect = np.count_nonzero(labels_bin_sum[labels_bin_sum == 2])\n",
        "\n",
        "print(f'SEED: {SEED}')\n",
        "print(path_to_model)\n",
        "print(f'Number of labels in training set: {labels_in_train}/{y_true.shape[1]} ({labels_in_train/y_true.shape[1]*100:.2f} %)')\n",
        "print(f'Number of labels in test set: {labels_in_test}/{y_true.shape[1]} ({labels_in_test/y_true.shape[1]*100:.2f} %)')\n",
        "print(f'Number of labels present in both sets: {labels_intersect}/{y_true.shape[1]} ({labels_intersect/y_true.shape[1]*100:.2f} %)')\n",
        "print()\n",
        "print(f\"Micro-average F1-score: {f1_score(y_true, y_pred, average='micro')}\")\n",
        "print(f\"Weighted-average F1-score: {f1_score(y_true, y_pred, average='weighted', zero_division=1)}\")\n",
        "print(f\"Macro-average F1-score: {f1_score(y_true, y_pred, average='macro', zero_division=1)}\")\n",
        "#print(f\"Sample-average Jaccard score: {jaccard_score(y_true, y_pred, average='samples', zero_division=1)}\")\n",
        "print(f\"Accuracy (exact match): {accuracy_score(y_true, y_pred)}\")\n",
        "print(f\"Hamming Loss: {hamming_loss(y_true, y_pred)}\")\n",
        "\n",
        "x = [x for x in range(1,len(train_losses)+1)]\n",
        "xticks = [x*len(train_losses)//5 for x in range(1,6)]\n",
        "plt.plot(x, test_losses)\n",
        "plt.plot(x, train_losses)\n",
        "plt.legend(['Test Loss', 'Train Loss'])\n",
        "plt.xticks(xticks,xticks)\n",
        "plt.xlabel('Epoch')\n",
        "plt.ylabel('Loss')\n",
        "#plt.gca().set_ylim([0,0.1])\n",
        "plt.show()\n",
        "\n",
        "# plot f1-score in relation to label frequency in training set\n",
        "f1_per_label = f1_score(y_true, y_pred, average=None, zero_division=0)\n",
        "label_counts_train = np.sum(multilab_bin.transform(train_dataset['labels']), axis=0)\n",
        "label_counts_test = np.sum(multilab_bin.transform(test_dataset['labels']), axis=0)\n",
        "\n",
        "# only include labels that are present in the test set\n",
        "zipped = [(f1_per_label[i], label_counts_test[i], label_counts_train[i]) for i in range(len(label_counts_test)) if label_counts_test[i] > 0]\n",
        "zipped = sorted(zipped, key=lambda tup: tup[2])\n",
        "\n",
        "f1_per_label = [zipped[i][0] for i in range(len(zipped))]\n",
        "label_counts_train = [zipped[i][2] for i in range(len(zipped))]\n",
        "\n",
        "# make a regression over the data points\n",
        "#s = UnivariateSpline(label_counts_train, f1_per_label, k=3, s=5)\n",
        "#xs = np.linspace(1,label_counts_train[-1])\n",
        "#ys = s(xs)\n",
        "\n",
        "fig = plt.figure()\n",
        "ax = fig.add_subplot(1,1,1)\n",
        "plt.plot(label_counts_train, f1_per_label)\n",
        "plt.plot(label_counts_train, f1_per_label, '.')\n",
        "#plt.plot(xs,ys)\n",
        "ax.set_xscale('log')\n",
        "ax.set_ylim((0,1))\n",
        "plt.xlabel('Label frequency in training set')\n",
        "plt.ylabel('F1-score')\n",
        "plt.grid(True, which='both', linestyle=':')\n",
        "plt.show()"
      ],
      "execution_count": 15,
      "outputs": [
        {
          "output_type": "stream",
          "text": [
            "SEED: 4\n",
            "./xlnet/xlnet-base-cased\n",
            "Number of labels in training set: 211/217 (97.24 %)\n",
            "Number of labels in test set: 149/217 (68.66 %)\n",
            "Number of labels present in both sets: 143/217 (65.90 %)\n",
            "\n",
            "Micro-average F1-score: 0.7086458744571653\n",
            "Weighted-average F1-score: 0.6728787778495866\n",
            "Macro-average F1-score: 0.4763043114301504\n",
            "Accuracy (exact match): 0.4350152905198777\n",
            "Hamming Loss: 0.0052001860229146405\n"
          ],
          "name": "stdout"
        },
        {
          "output_type": "display_data",
          "data": {
            "image/png": "[encoded data removed]",
            "text/plain": [
              "<Figure size 432x288 with 1 Axes>"
            ]
          },
          "metadata": {
            "tags": [],
            "needs_background": "light"
          }
        },
        {
          "output_type": "display_data",
          "data": {
            "image/png": "[encoded data removed]",
            "text/plain": [
              "<Figure size 432x288 with 1 Axes>"
            ]
          },
          "metadata": {
            "tags": [],
            "needs_background": "light"
          }
        }
      ]
    },
    {
      "cell_type": "code",
      "metadata": {
        "id": "aZQ1B-mOmavC",
        "scrolled": true
      },
      "source": [
        "model.eval()\n",
        "\n",
        "# get a list of tuples containing the samples sorted by loss\n",
        "sorted_samples = []\n",
        "\n",
        "for i in range(len(test_dataset)):\n",
        "    text = str(test_dataset['text'][i])\n",
        "    text = ' '.join(text.split())\n",
        "\n",
        "    inputs = tok.encode_plus(\n",
        "        text,\n",
        "        None,\n",
        "        add_special_tokens=True,\n",
        "        max_length=max_len,\n",
        "        truncation=True,\n",
        "        padding='max_length',\n",
        "        return_token_type_ids=True\n",
        "    )\n",
        "    ids = torch.tensor(inputs['input_ids'], dtype=torch.long).view(1,-1).to(device)\n",
        "    mask = torch.tensor(inputs['attention_mask'], dtype=torch.long).view(1,-1).to(device)\n",
        "    token_type_ids = torch.tensor(inputs['token_type_ids'], dtype=torch.long).view(1,-1).to(device)\n",
        "    \n",
        "    # get the prediction\n",
        "    y_pred_row = model(ids, mask, token_type_ids).detach().cpu()\n",
        "\n",
        "    # get the true labels\n",
        "    y_true_row = torch.tensor(multilab_bin.transform([test_dataset['labels'][i]]), dtype=torch.float)\n",
        "\n",
        "    # get the loss\n",
        "    loss = criterion(y_pred_row, y_true_row)\n",
        "\n",
        "    # convert predictions according to threshold\n",
        "    y_pred_row[y_pred_row > th] = 1\n",
        "    y_pred_row[y_pred_row <= th] = 0\n",
        "\n",
        "    # get the suggested labels\n",
        "    y_suggested_row = test_dataset['suggested'][i]\n",
        "\n",
        "    sorted_samples.append((y_pred_row, y_true_row, y_suggested_row, text, loss))\n",
        "\n",
        "# sort samples with regard to loss\n",
        "sorted_samples = sorted(sorted_samples, key=lambda tup: tup[-1])"
      ],
      "execution_count": 16,
      "outputs": []
    },
    {
      "cell_type": "code",
      "metadata": {
        "id": "SmnfecMFmavD"
      },
      "source": [
        "# print the m percent best/worst predictions based on loss\r\n",
        "m = 50\r\n",
        "best_worst = 'best'\r\n",
        "\r\n",
        "nbr_elements = (len(test_dataset) * m) // 100\r\n",
        "\r\n",
        "top_m = []\r\n",
        "if best_worst == 'best':\r\n",
        "  top_m = sorted_samples[:nbr_elements]\r\n",
        "elif best_worst == 'worst':\r\n",
        "  top_m = sorted_samples[len(sorted_samples)-nbr_elements:]\r\n",
        "else:\r\n",
        "  print('Please choose either \"best\" or \"worst\"')\r\n",
        "\r\n",
        "for i in range(len(top_m)):\r\n",
        "  tup = top_m[i]\r\n",
        "  pred = multilab_bin.inverse_transform(tup[0])\r\n",
        "  labels = multilab_bin.inverse_transform(tup[1])\r\n",
        "  suggested = [id2sym[j] for j in tup[2] if j in id2sym]\r\n",
        "  text = tup[3]\r\n",
        "  loss = tup[-1]\r\n",
        "\r\n",
        "  print(f'Loss: {loss}')\r\n",
        "  print(f'{text}')\r\n",
        "  print(f'Prediction: {pred}')\r\n",
        "  print(f'Labels: {labels}')\r\n",
        "  print(f'Suggested: {suggested}')\r\n",
        "  print('- - - - - - - - - - - - - - - - - - - - - - - - -')"
      ],
      "execution_count": null,
      "outputs": []
    },
    {
      "cell_type": "code",
      "metadata": {
        "id": "I1wAgyf_r9wl"
      },
      "source": [
        ""
      ],
      "execution_count": 21,
      "outputs": []
    }
  ]
}