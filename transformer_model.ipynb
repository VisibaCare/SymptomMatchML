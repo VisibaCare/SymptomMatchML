{
  "nbformat": 4,
  "nbformat_minor": 0,
  "metadata": {
    "kernelspec": {
      "name": "python3",
      "display_name": "Python 3"
    },
    "colab": {
      "name": "transformer_model.ipynb",
      "provenance": [],
      "collapsed_sections": []
    },
    "accelerator": "GPU"
  },
  "cells": [
    {
      "cell_type": "code",
      "metadata": {
        "colab": {
          "base_uri": "https://localhost:8080/"
        },
        "id": "ReHiq1Llr_7M",
        "outputId": "554a58e1-c45f-42a0-ff01-98b5f2bbc6bf"
      },
      "source": [
        "from google.colab import drive\n",
        "drive.mount('/content/drive')"
      ],
      "execution_count": 1,
      "outputs": [
        {
          "output_type": "stream",
          "text": [
            "Drive already mounted at /content/drive; to attempt to forcibly remount, call drive.mount(\"/content/drive\", force_remount=True).\n"
          ],
          "name": "stdout"
        }
      ]
    },
    {
      "cell_type": "code",
      "metadata": {
        "colab": {
          "base_uri": "https://localhost:8080/"
        },
        "id": "AqMdrxYy2iin",
        "outputId": "2e0bbc66-d4c4-4a59-e026-085128cc7dd2"
      },
      "source": [
        "import os\r\n",
        "\r\n",
        "if os.getcwd() == '/content':\r\n",
        "  % cd drive/MyDrive/exjobb_project\r\n",
        "\r\n",
        "print(os.getcwd())\r\n",
        "print(os.listdir('bert'))"
      ],
      "execution_count": 2,
      "outputs": [
        {
          "output_type": "stream",
          "text": [
            "/content/drive/MyDrive/exjobb_project\n",
            "/content/drive/MyDrive/exjobb_project\n",
            "['bert-base-swedish-cased', 'electra-small-swedish-cased-discriminator', 'electra-base-swedish-cased-discriminator', 'bert-base-multilingual-cased']\n"
          ],
          "name": "stdout"
        }
      ]
    },
    {
      "cell_type": "code",
      "metadata": {
        "id": "ztQ8dAWOmau7"
      },
      "source": [
        "from transformers import BertModel\n",
        "from transformers import BertTokenizer\n",
        "from transformers import PretrainedConfig\n",
        "\n",
        "# metrics\n",
        "from sklearn.metrics import f1_score\n",
        "from sklearn.metrics import jaccard_score\n",
        "from sklearn.metrics import accuracy_score\n",
        "from sklearn.metrics import hamming_loss\n",
        "from sklearn.metrics import multilabel_confusion_matrix\n",
        "\n",
        "from sklearn.preprocessing import MultiLabelBinarizer\n",
        "from sklearn.model_selection import train_test_split\n",
        "\n",
        "import json\n",
        "import pandas as pd\n",
        "import numpy as np\n",
        "import torch\n",
        "import matplotlib.pyplot as plt\n",
        "from scipy.interpolate import UnivariateSpline\n",
        "from torch.utils.data import Dataset, DataLoader\n",
        "from torch import nn\n",
        "from torch.nn import BCELoss\n",
        "from collections import Counter\n",
        "\n",
        "%matplotlib inline"
      ],
      "execution_count": 3,
      "outputs": []
    },
    {
      "cell_type": "code",
      "metadata": {
        "id": "LuzjiHVMmau9"
      },
      "source": [
        "path_to_data = './data'\n",
        "\n",
        "# create dataframe from sessions.json\n",
        "df = pd.read_json(f'{path_to_data}/sessions.json')\n",
        "df.head()\n",
        "\n",
        "# create dictionaries for switching between symptom and id\n",
        "id2sym = {}\n",
        "sym2id = {}\n",
        "\n",
        "with open(f'{path_to_data}/symptoms.json') as json_file:\n",
        "    data = json.load(json_file)\n",
        "    for sym in data:\n",
        "        id2sym[sym['id']] = sym['name']\n",
        "        sym2id[sym['name']] = sym['id']\n",
        "        \n",
        "        \n",
        "# remove labels that have less than m occurrences\n",
        "m = 0\n",
        "\n",
        "labels_list = df['confirmed'].tolist()\n",
        "labels_list = sum(labels_list, [])\n",
        "c = Counter(labels_list)\n",
        "for i in range(len(df)):\n",
        "    to_remove = []\n",
        "    \n",
        "    # find labels that should be removed \n",
        "    for j in range(len(df['confirmed'][i])):\n",
        "        if c[df['confirmed'][i][j]] < m:\n",
        "            to_remove.append(j)\n",
        "            \n",
        "    # remove the labels\n",
        "    shift = 0\n",
        "    for j in range(len(to_remove)):\n",
        "        df['confirmed'][i].pop(to_remove[j]-shift)\n",
        "        shift += 1\n",
        "    \n",
        "        \n",
        "# add column with the symptom names\n",
        "sym_names = []\n",
        "\n",
        "for syms in df['confirmed']:\n",
        "    if len(syms) != 0:\n",
        "        sym_names.append([id2sym[x] for x in syms])\n",
        "    else:\n",
        "        sym_names.append([])\n",
        "\n",
        "df['labels'] = sym_names\n",
        "\n",
        "# remove all rows with no confirmed labels\n",
        "df = df[df['confirmed'].map(len) > 0]\n",
        "df = df.reset_index(drop=True)"
      ],
      "execution_count": 4,
      "outputs": []
    },
    {
      "cell_type": "code",
      "metadata": {
        "colab": {
          "base_uri": "https://localhost:8080/",
          "height": 204
        },
        "id": "m9xph3WAmau-",
        "outputId": "e7cebb05-561b-4ff0-b8de-cd4144ab9164"
      },
      "source": [
        "df.drop('confirmed', inplace=True, axis=1)\n",
        "df.drop('suggested', inplace=True, axis=1)\n",
        "#df = df[0:100]\n",
        "df.head()"
      ],
      "execution_count": 5,
      "outputs": [
        {
          "output_type": "execute_result",
          "data": {
            "text/html": [
              "<div>\n",
              "<style scoped>\n",
              "    .dataframe tbody tr th:only-of-type {\n",
              "        vertical-align: middle;\n",
              "    }\n",
              "\n",
              "    .dataframe tbody tr th {\n",
              "        vertical-align: top;\n",
              "    }\n",
              "\n",
              "    .dataframe thead th {\n",
              "        text-align: right;\n",
              "    }\n",
              "</style>\n",
              "<table border=\"1\" class=\"dataframe\">\n",
              "  <thead>\n",
              "    <tr style=\"text-align: right;\">\n",
              "      <th></th>\n",
              "      <th>text</th>\n",
              "      <th>labels</th>\n",
              "    </tr>\n",
              "  </thead>\n",
              "  <tbody>\n",
              "    <tr>\n",
              "      <th>0</th>\n",
              "      <td>Slut på medicin.</td>\n",
              "      <td>[Känd astma, Känd lungsjukdom]</td>\n",
              "    </tr>\n",
              "    <tr>\n",
              "      <th>1</th>\n",
              "      <td>Behöver att prata med psykolog angående använd...</td>\n",
              "      <td>[Nedstämdhet, Trötthet]</td>\n",
              "    </tr>\n",
              "    <tr>\n",
              "      <th>2</th>\n",
              "      <td>Har fått besvärlig eksem på händerna</td>\n",
              "      <td>[Hudbesvär, Synliga hudbesvär]</td>\n",
              "    </tr>\n",
              "    <tr>\n",
              "      <th>3</th>\n",
              "      <td>Muskelsvaghet och trötthet känner mig skakig o...</td>\n",
              "      <td>[Muskelsvaghet, Trötthet]</td>\n",
              "    </tr>\n",
              "    <tr>\n",
              "      <th>4</th>\n",
              "      <td>Svår smärta i vänsterhanden/handleden precis n...</td>\n",
              "      <td>[Smärta i handled eller fingrar, Förvärras av ...</td>\n",
              "    </tr>\n",
              "  </tbody>\n",
              "</table>\n",
              "</div>"
            ],
            "text/plain": [
              "                                                text                                             labels\n",
              "0                                   Slut på medicin.                     [Känd astma, Känd lungsjukdom]\n",
              "1  Behöver att prata med psykolog angående använd...                            [Nedstämdhet, Trötthet]\n",
              "2              Har fått besvärlig eksem på händerna                      [Hudbesvär, Synliga hudbesvär]\n",
              "3  Muskelsvaghet och trötthet känner mig skakig o...                          [Muskelsvaghet, Trötthet]\n",
              "4  Svår smärta i vänsterhanden/handleden precis n...  [Smärta i handled eller fingrar, Förvärras av ..."
            ]
          },
          "metadata": {
            "tags": []
          },
          "execution_count": 5
        }
      ]
    },
    {
      "cell_type": "code",
      "metadata": {
        "id": "Mp_L0-yhmau_"
      },
      "source": [
        "# choose which transformer model to use\n",
        "#path_to_bert = r'./bert/electra-small-swedish-cased-discriminator'\n",
        "#path_to_bert = r'./bert/electra-base-swedish-cased-discriminator'\n",
        "path_to_bert = r'./bert/bert-base-swedish-cased'\n",
        "\n",
        "tok = BertTokenizer.from_pretrained(path_to_bert)\n",
        "\n",
        "# train a multilabel_binarizer on the labels\n",
        "labels = df['labels'].tolist()\n",
        "multilab_bin = MultiLabelBinarizer()\n",
        "multilab_bin.fit(labels)\n",
        "\n",
        "\n",
        "class CustomDataset(Dataset):\n",
        "    def __init__(self, dataframe, tokenizer, multilab_bin, max_len):\n",
        "        self.tokenizer = tokenizer\n",
        "        self.multilab_bin = multilab_bin\n",
        "        self.data = dataframe\n",
        "        self.text = self.data['text']\n",
        "        self.labels = self.data['labels']\n",
        "        self.max_len = max_len\n",
        "        \n",
        "    def __len__(self):\n",
        "        return len(self.text)\n",
        "    \n",
        "    def __getitem__(self, index):\n",
        "        text = str(self.text[index])\n",
        "        text = ' '.join(text.split())\n",
        "        \n",
        "        inputs = self.tokenizer.encode_plus(\n",
        "            text,\n",
        "            None,\n",
        "            add_special_tokens=True,\n",
        "            max_length=self.max_len,\n",
        "            truncation=True,\n",
        "            padding='max_length',\n",
        "            return_token_type_ids=True\n",
        "        )\n",
        "        ids = inputs['input_ids']\n",
        "        mask = inputs['attention_mask']\n",
        "        token_type_ids = inputs['token_type_ids']\n",
        "        \n",
        "        return {\n",
        "            'ids': torch.tensor(ids, dtype=torch.long),\n",
        "            'mask': torch.tensor(mask, dtype=torch.long),\n",
        "            'token_type_ids': torch.tensor(token_type_ids, dtype=torch.long),\n",
        "            #'labels': torch.tensor(np.sum(self.multilab_bin.transform([self.labels[index]]), axis=0), dtype=torch.float)\n",
        "            'labels': torch.tensor(self.multilab_bin.transform([self.labels[index]]).reshape(-1,), dtype=torch.float)\n",
        "        }        "
      ],
      "execution_count": 6,
      "outputs": []
    },
    {
      "cell_type": "code",
      "metadata": {
        "colab": {
          "base_uri": "https://localhost:8080/"
        },
        "id": "vqxfp2B8mau_",
        "outputId": "d1821750-b1b5-4ae2-ee05-3129014d7314"
      },
      "source": [
        "batch_size = 16\n",
        "\n",
        "# max number of tokens in text\n",
        "#max_len = 200\n",
        "max_len = 0\n",
        "for i in range(len(df['text'])):\n",
        "  text = df['text'][i]\n",
        "  inputs = tok.encode_plus(\n",
        "            text,\n",
        "            None,\n",
        "            add_special_tokens=True,\n",
        "            padding=False,\n",
        "            return_token_type_ids=True\n",
        "            )\n",
        "  if len(inputs['input_ids']) > max_len:\n",
        "    max_len = len(inputs['input_ids'])\n",
        "print(f'Max token length: {max_len}')\n",
        "\n",
        "\n",
        "train_dataset, test_dataset = train_test_split(df,\n",
        "                                        random_state=42,\n",
        "                                        test_size=0.2,\n",
        "                                        shuffle=True)\n",
        "train_dataset = train_dataset.reset_index(drop=True)\n",
        "test_dataset = test_dataset.reset_index(drop=True)\n",
        "\n",
        "train_set = CustomDataset(train_dataset, tok, multilab_bin, max_len)\n",
        "test_set = CustomDataset(test_dataset, tok, multilab_bin, max_len)\n",
        "\n",
        "train_params = {'batch_size': batch_size,\n",
        "                'shuffle': True,\n",
        "                'num_workers': 0\n",
        "               }\n",
        "test_params = {'batch_size': batch_size,\n",
        "               'shuffle': True,\n",
        "               'num_workers': 0\n",
        "              }\n",
        "\n",
        "train_loader = DataLoader(train_set, **train_params)\n",
        "test_loader = DataLoader(test_set, **test_params)\n",
        "\n",
        "print(f'Train set: {len(train_dataset)} samples')\n",
        "print(f'Test set: {len(test_dataset)} samples')"
      ],
      "execution_count": 7,
      "outputs": [
        {
          "output_type": "stream",
          "text": [
            "Max token length: 174\n",
            "Train set: 3027 samples\n",
            "Test set: 757 samples\n"
          ],
          "name": "stdout"
        }
      ]
    },
    {
      "cell_type": "code",
      "metadata": {
        "colab": {
          "base_uri": "https://localhost:8080/"
        },
        "id": "vHjybrQHmau_",
        "outputId": "0163ed0d-5af0-4d72-bbdd-fe8d7692b7e1"
      },
      "source": [
        "# decide which device to use. use cuda if available\n",
        "dev = ''\n",
        "if torch.cuda.is_available():\n",
        "    dev = 'cuda:0'\n",
        "else:\n",
        "    dev = 'cpu'\n",
        "\n",
        "print(f'dev = {dev}')\n",
        "print(f'Number of available GPUs: {torch.cuda.device_count()}')\n",
        "\n",
        "# print the device names\n",
        "for i in range(torch.cuda.device_count()):\n",
        "  print(f'Device {i}: {torch.cuda.get_device_name(i)}')\n",
        "\n",
        "device = torch.device(dev)"
      ],
      "execution_count": 8,
      "outputs": [
        {
          "output_type": "stream",
          "text": [
            "dev = cuda:0\n",
            "Number of available GPUs: 1\n",
            "Device 0: Tesla K80\n"
          ],
          "name": "stdout"
        }
      ]
    },
    {
      "cell_type": "code",
      "metadata": {
        "id": "lBYDTZNvmavA"
      },
      "source": [
        "class BERTClass(nn.Module):\n",
        "    def __init__(self, config, path_to_bert, output_dim):\n",
        "        super(BERTClass, self).__init__()\n",
        "        #config = PretrainedConfig.from_json_file(f'{path_to_bert}/config.json')\n",
        "        self.bert = BertModel.from_pretrained(path_to_bert)\n",
        "        #self.bert = BertModel(config)\n",
        "        self.dropout = torch.nn.Dropout(config.hidden_dropout_prob)\n",
        "        self.fc = nn.Linear(config.hidden_size, output_dim)\n",
        "        self.sigm = nn.Sigmoid()\n",
        "        \n",
        "    def forward(self, ids, mask, token_type_ids):\n",
        "        x = self.bert(ids, attention_mask=mask, token_type_ids=token_type_ids)\n",
        "        x = self.dropout(x[1])\n",
        "        x = self.fc(x)\n",
        "        output = self.sigm(x)\n",
        "        return output"
      ],
      "execution_count": 9,
      "outputs": []
    },
    {
      "cell_type": "code",
      "metadata": {
        "id": "XGGhVr_tmavA"
      },
      "source": [
        "# compute the loss of an epoch by averaging all batch losses\n",
        "def epoch_loss(model, data_loader, criterion):\n",
        "    loss = 0\n",
        "    batch_count = 0\n",
        "    \n",
        "    model.eval()\n",
        "    with torch.no_grad():\n",
        "        for idx,batch in enumerate(data_loader):\n",
        "            ids = batch['ids'].to(device, dtype=torch.long)\n",
        "            mask = batch['mask'].to(device, dtype=torch.long)\n",
        "            token_type_ids = batch['token_type_ids'].to(device, dtype=torch.long)\n",
        "            labels = batch['labels'].to(device, dtype=torch.float)\n",
        "            \n",
        "            outputs = model(ids, mask, token_type_ids)\n",
        "            loss += criterion(outputs, labels)\n",
        "            batch_count += 1\n",
        "    model.train()\n",
        "    return loss / batch_count"
      ],
      "execution_count": 10,
      "outputs": []
    },
    {
      "cell_type": "code",
      "metadata": {
        "id": "gr7rj2zwWj0K"
      },
      "source": [
        "# define the model\r\n",
        "D_out = len(multilab_bin.classes_)\r\n",
        "\r\n",
        "config = PretrainedConfig.from_json_file(f'{path_to_bert}/config.json')\r\n",
        "\r\n",
        "model = BERTClass(config, path_to_bert, D_out)\r\n",
        "model.train()\r\n",
        "model.to(device)\r\n",
        "\r\n",
        "# number of epochs trained\r\n",
        "epochs_trained = 0\r\n",
        "\r\n",
        "# losses over entire train-/test-set per epoch\r\n",
        "train_losses = []\r\n",
        "test_losses = []"
      ],
      "execution_count": 11,
      "outputs": []
    },
    {
      "cell_type": "code",
      "metadata": {
        "scrolled": false,
        "colab": {
          "base_uri": "https://localhost:8080/"
        },
        "id": "Bs7jzf1amavA",
        "outputId": "e163e963-bb49-4d35-d26a-5a4a98adc35d"
      },
      "source": [
        "model.train()\n",
        "\n",
        "# training loop\n",
        "learning_rate = 0.00005\n",
        "\n",
        "criterion = torch.nn.BCELoss()\n",
        "optimizer = torch.optim.Adam(model.parameters(), lr=learning_rate)\n",
        "\n",
        "# if the test loss has not improved in the last k epochs, stop training\n",
        "k = 5\n",
        "\n",
        "num_epochs = 40\n",
        "for epoch in range(num_epochs):\n",
        "    for idx,batch in enumerate(train_loader):\n",
        "        ids = batch['ids'].to(device, dtype=torch.long)\n",
        "        mask = batch['mask'].to(device, dtype=torch.long)\n",
        "        token_type_ids = batch['token_type_ids'].to(device, dtype=torch.long)\n",
        "        labels = batch['labels'].to(device, dtype=torch.float)\n",
        "        \n",
        "        # forward pass\n",
        "        outputs = model(ids, mask, token_type_ids)\n",
        "        \n",
        "        # zero the parameter gradients\n",
        "        optimizer.zero_grad()\n",
        "        \n",
        "        # backward pass\n",
        "        loss = criterion(outputs, labels)\n",
        "        loss.backward()\n",
        "        optimizer.step()\n",
        "    \n",
        "    # save the losses\n",
        "    train_losses.append(epoch_loss(model, train_loader, criterion))\n",
        "    test_losses.append(epoch_loss(model, test_loader, criterion))\n",
        "\n",
        "    epochs_trained += 1\n",
        "    \n",
        "    print(f'End of epoch {epochs_trained}, Train Loss: {train_losses[-1]:.7f}, Test Loss: {test_losses[-1]:.7f}')\n",
        "\n",
        "    # if the test loss has not improved in the last k epochs break\n",
        "    if len(test_losses) > k and all(test_losses[-(k+1)] < tl for tl in test_losses[-k:]):\n",
        "      break"
      ],
      "execution_count": 12,
      "outputs": [
        {
          "output_type": "stream",
          "text": [
            "End of epoch 1, Train Loss: 0.0507826, Test Loss: 0.0507109\n",
            "End of epoch 2, Train Loss: 0.0429983, Test Loss: 0.0430003\n",
            "End of epoch 3, Train Loss: 0.0413684, Test Loss: 0.0414742\n",
            "End of epoch 4, Train Loss: 0.0375288, Test Loss: 0.0379335\n",
            "End of epoch 5, Train Loss: 0.0335651, Test Loss: 0.0346084\n",
            "End of epoch 6, Train Loss: 0.0300117, Test Loss: 0.0312249\n",
            "End of epoch 7, Train Loss: 0.0270455, Test Loss: 0.0291368\n",
            "End of epoch 8, Train Loss: 0.0240660, Test Loss: 0.0268002\n",
            "End of epoch 9, Train Loss: 0.0227196, Test Loss: 0.0265048\n",
            "End of epoch 10, Train Loss: 0.0202163, Test Loss: 0.0246107\n",
            "End of epoch 11, Train Loss: 0.0181994, Test Loss: 0.0230408\n",
            "End of epoch 12, Train Loss: 0.0168196, Test Loss: 0.0228556\n",
            "End of epoch 13, Train Loss: 0.0157457, Test Loss: 0.0223537\n",
            "End of epoch 14, Train Loss: 0.0138574, Test Loss: 0.0211048\n",
            "End of epoch 15, Train Loss: 0.0127457, Test Loss: 0.0209108\n",
            "End of epoch 16, Train Loss: 0.0118666, Test Loss: 0.0202653\n",
            "End of epoch 17, Train Loss: 0.0107080, Test Loss: 0.0198421\n",
            "End of epoch 18, Train Loss: 0.0098362, Test Loss: 0.0200591\n",
            "End of epoch 19, Train Loss: 0.0089786, Test Loss: 0.0196269\n",
            "End of epoch 20, Train Loss: 0.0082051, Test Loss: 0.0195592\n",
            "End of epoch 21, Train Loss: 0.0077655, Test Loss: 0.0200636\n",
            "End of epoch 22, Train Loss: 0.0069014, Test Loss: 0.0194766\n",
            "End of epoch 23, Train Loss: 0.0063683, Test Loss: 0.0194687\n",
            "End of epoch 24, Train Loss: 0.0059339, Test Loss: 0.0195649\n",
            "End of epoch 25, Train Loss: 0.0053862, Test Loss: 0.0197195\n",
            "End of epoch 26, Train Loss: 0.0048942, Test Loss: 0.0196902\n",
            "End of epoch 27, Train Loss: 0.0046613, Test Loss: 0.0200360\n",
            "End of epoch 28, Train Loss: 0.0042420, Test Loss: 0.0202286\n"
          ],
          "name": "stdout"
        }
      ]
    },
    {
      "cell_type": "code",
      "metadata": {
        "id": "m-OJN96cmavB"
      },
      "source": [
        "# get the predicitons and corresponding labels\n",
        "def get_pred_true(model, data_loader, D_out):\n",
        "\n",
        "    y_pred = np.zeros((1,D_out))\n",
        "    y_true = np.zeros((1,D_out))\n",
        "  \n",
        "    with torch.no_grad():\n",
        "        for idx,batch in enumerate(data_loader):\n",
        "            ids = batch['ids'].to(device, dtype=torch.long)\n",
        "            mask = batch['mask'].to(device, dtype=torch.long)\n",
        "            token_type_ids = batch['token_type_ids'].to(device, dtype=torch.long)\n",
        "            labels = batch['labels'].to(device, dtype=torch.float)\n",
        "            \n",
        "            outputs = model(ids, mask, token_type_ids)\n",
        "            \n",
        "            y_pred = np.concatenate((y_pred,outputs.detach().cpu().numpy()), axis=0)\n",
        "            y_true = np.concatenate((y_true,np.array(labels.cpu())), axis=0)\n",
        "            \n",
        "    return y_pred[1:,:], y_true[1:,:]\n",
        "\n",
        "model.eval()  \n",
        "y_pred_temp, y_true = get_pred_true(model, test_loader, D_out)"
      ],
      "execution_count": 13,
      "outputs": []
    },
    {
      "cell_type": "code",
      "metadata": {
        "id": "JtdtWDQAmavC",
        "colab": {
          "base_uri": "https://localhost:8080/",
          "height": 719
        },
        "outputId": "9108750f-e6b4-4c4b-eba2-51067474ccb0"
      },
      "source": [
        "# set all values above threshold to 1, else 0\n",
        "th = 0.2\n",
        "y_pred = np.copy(y_pred_temp)\n",
        "y_pred[y_pred > th] = 1\n",
        "y_pred[y_pred <= th] = 0\n",
        "\n",
        "# number of labels in test set\n",
        "#labels_in_test = np.count_nonzero(np.sum(y_true, axis=0))\n",
        "label_counts_test = np.sum(multilab_bin.transform(test_dataset['labels']), axis=0)\n",
        "labels_in_test = np.count_nonzero(label_counts_test)\n",
        "\n",
        "# number of labels in train set\n",
        "label_counts_train = np.sum(multilab_bin.transform(train_dataset['labels']), axis=0)\n",
        "labels_in_train = np.count_nonzero(label_counts_train)\n",
        "\n",
        "# compute size of intersection between labels in train and test\n",
        "label_counts_test[label_counts_test > 0] = 1\n",
        "labels_bin_test = label_counts_test\n",
        "\n",
        "label_counts_train[label_counts_train > 0] = 1\n",
        "labels_bin_train = label_counts_train\n",
        "\n",
        "labels_bin_sum = labels_bin_test + labels_bin_train\n",
        "labels_intersect = np.count_nonzero(labels_bin_sum[labels_bin_sum == 2])\n",
        "\n",
        "print(path_to_bert)\n",
        "print(f'Number of labels in training set: {labels_in_train}/{y_true.shape[1]} ({labels_in_train/y_true.shape[1]*100:.2f} %)')\n",
        "print(f'Number of labels in test set: {labels_in_test}/{y_true.shape[1]} ({labels_in_test/y_true.shape[1]*100:.2f} %)')\n",
        "print(f'Number of labels present in both sets: {labels_intersect}/{y_true.shape[1]} ({labels_intersect/y_true.shape[1]*100:.2f} %)')\n",
        "print()\n",
        "print(f\"Micro-average F1-score: {f1_score(y_true, y_pred, average='micro')}\")\n",
        "print(f\"Weighted-average F1-score: {f1_score(y_true, y_pred, average='weighted', zero_division=1)}\")\n",
        "print(f\"Macro-average F1-score: {f1_score(y_true, y_pred, average='macro', zero_division=1)}\")\n",
        "#print(f\"Sample-average Jaccard score: {jaccard_score(y_true, y_pred, average='samples', zero_division=1)}\")\n",
        "print(f\"Accuracy (exact match): {accuracy_score(y_true, y_pred)}\")\n",
        "print(f\"Hamming Loss: {hamming_loss(y_true, y_pred)}\")\n",
        "\n",
        "x = [x for x in range(1,len(train_losses)+1)]\n",
        "xticks = [x*len(train_losses)//5 for x in range(1,6)]\n",
        "plt.plot(x, test_losses)\n",
        "plt.plot(x, train_losses)\n",
        "plt.legend(['Test Loss', 'Train Loss'])\n",
        "plt.xticks(xticks,xticks)\n",
        "plt.xlabel('Epoch')\n",
        "plt.ylabel('Loss')\n",
        "#plt.gca().set_ylim([0,0.1])\n",
        "plt.show()\n",
        "\n",
        "# plot f1-score in relation to label frequency in training set\n",
        "f1_per_label = f1_score(y_true, y_pred, average=None, zero_division=0)\n",
        "label_counts_train = np.sum(multilab_bin.transform(train_dataset['labels']), axis=0)\n",
        "label_counts_test = np.sum(multilab_bin.transform(test_dataset['labels']), axis=0)\n",
        "\n",
        "# only include labels that are present in the test set\n",
        "zipped = [(f1_per_label[i], label_counts_test[i], label_counts_train[i]) for i in range(len(label_counts_test)) if label_counts_test[i] > 0]\n",
        "zipped = sorted(zipped, key=lambda tup: tup[2])\n",
        "\n",
        "f1_per_label = [zipped[i][0] for i in range(len(zipped))]\n",
        "label_counts_train = [zipped[i][2] for i in range(len(zipped))]\n",
        "\n",
        "# make a regression over the data points\n",
        "s = UnivariateSpline(label_counts_train, f1_per_label, k=3, s=5)\n",
        "xs = np.linspace(1,label_counts_train[-1])\n",
        "ys = s(xs)\n",
        "\n",
        "fig = plt.figure()\n",
        "ax = fig.add_subplot(1,1,1)\n",
        "plt.plot(label_counts_train, f1_per_label)\n",
        "plt.plot(label_counts_train, f1_per_label, '.')\n",
        "plt.plot(xs,ys)\n",
        "ax.set_xscale('log')\n",
        "ax.set_ylim((0,1))\n",
        "plt.xlabel('Label frequency in training set')\n",
        "plt.ylabel('F1-score')\n",
        "plt.grid(True, which='both', linestyle=':')\n",
        "plt.show()"
      ],
      "execution_count": 14,
      "outputs": [
        {
          "output_type": "stream",
          "text": [
            "./bert/bert-base-swedish-cased\n",
            "Number of labels in training set: 186/197 (94.42 %)\n",
            "Number of labels in test set: 140/197 (71.07 %)\n",
            "Number of labels present in both sets: 129/197 (65.48 %)\n",
            "\n",
            "Micro-average F1-score: 0.7384716732542821\n",
            "Weighted-average F1-score: 0.7116092667652282\n",
            "Macro-average F1-score: 0.5210282571106714\n",
            "Accuracy (exact match): 0.46499339498018494\n",
            "Hamming Loss: 0.005324249475286497\n"
          ],
          "name": "stdout"
        },
        {
          "output_type": "display_data",
          "data": {
            "image/png": "[encoded data removed]",
            "text/plain": [
              "<Figure size 432x288 with 1 Axes>"
            ]
          },
          "metadata": {
            "tags": [],
            "needs_background": "light"
          }
        },
        {
          "output_type": "display_data",
          "data": {
            "image/png": "[encoded data removed]",
            "text/plain": [
              "<Figure size 432x288 with 1 Axes>"
            ]
          },
          "metadata": {
            "tags": [],
            "needs_background": "light"
          }
        }
      ]
    },
    {
      "cell_type": "code",
      "metadata": {
        "scrolled": true,
        "id": "aZQ1B-mOmavC"
      },
      "source": [
        "model.eval()\n",
        "for i in range(len(test_dataset)):\n",
        "    text = str(test_dataset['text'][i])\n",
        "    text = ' '.join(text.split())\n",
        "\n",
        "    inputs = tok.encode_plus(\n",
        "        text,\n",
        "        None,\n",
        "        add_special_tokens=True,\n",
        "        max_length=max_len,\n",
        "        truncation=True,\n",
        "        padding='max_length',\n",
        "        return_token_type_ids=True\n",
        "    )\n",
        "    ids = torch.tensor(inputs['input_ids'], dtype=torch.long).view(1,-1).to(device)\n",
        "    mask = torch.tensor(inputs['attention_mask'], dtype=torch.long).view(1,-1).to(device)\n",
        "    token_type_ids = torch.tensor(inputs['token_type_ids'], dtype=torch.long).view(1,-1).to(device)\n",
        "    \n",
        "    y_pred_row = model(ids, mask, token_type_ids).detach().cpu().numpy()\n",
        "    \n",
        "    y_pred_row[y_pred_row > th] = 1\n",
        "    y_pred_row[y_pred_row <= th] = 0\n",
        "    \n",
        "    print(test_dataset['text'][i])\n",
        "    print(f'Prediction: {multilab_bin.inverse_transform(y_pred_row)}')\n",
        "    print(f'Labels: {test_dataset[\"labels\"][i]}')\n",
        "    print('- - - - - - - - - - - - - - - - - - - - - - - - - - - - - - - -')"
      ],
      "execution_count": null,
      "outputs": []
    },
    {
      "cell_type": "code",
      "metadata": {
        "id": "SmnfecMFmavD"
      },
      "source": [
        ""
      ],
      "execution_count": 15,
      "outputs": []
    }
  ]
}