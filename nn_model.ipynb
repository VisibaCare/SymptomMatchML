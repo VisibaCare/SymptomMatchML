{
 "cells": [
  {
   "cell_type": "code",
   "execution_count": 1,
   "metadata": {},
   "outputs": [],
   "source": [
    "from sklearn.preprocessing import MultiLabelBinarizer\n",
    "from sklearn.model_selection import train_test_split\n",
    "\n",
    "# metrics\n",
    "from sklearn.metrics import f1_score\n",
    "from sklearn.metrics import jaccard_score\n",
    "from sklearn.metrics import accuracy_score\n",
    "from sklearn.metrics import hamming_loss\n",
    "\n",
    "# some vectorizers\n",
    "from sklearn.feature_extraction import DictVectorizer\n",
    "from sklearn.feature_extraction.text import TfidfVectorizer\n",
    "\n",
    "# imports for creating a baseline\n",
    "from sklearn.multiclass import OneVsRestClassifier\n",
    "from sklearn.naive_bayes import MultinomialNB\n",
    "\n",
    "import pandas as pd\n",
    "import numpy as np\n",
    "import matplotlib.pyplot as plt\n",
    "import regex as re\n",
    "import json\n",
    "import torch\n",
    "import torch.nn as nn\n",
    "\n",
    "%matplotlib inline"
   ]
  },
  {
   "cell_type": "code",
   "execution_count": 2,
   "metadata": {},
   "outputs": [],
   "source": [
    "path_to_data = './data'\n",
    "\n",
    "# create dataframe from sessions.json\n",
    "df = pd.read_json(f'{path_to_data}/sessions_altered.json')\n",
    "df.head()\n",
    "\n",
    "# create dictionaries for switching between symptom and id\n",
    "id2sym = {}\n",
    "sym2id = {}\n",
    "\n",
    "with open(f'{path_to_data}/symptoms.json') as json_file:\n",
    "    data = json.load(json_file)\n",
    "    for sym in data:\n",
    "        id2sym[sym['id']] = sym['name']\n",
    "        sym2id[sym['name']] = sym['id']\n",
    "        \n",
    "# add column with the symptom names\n",
    "sym_names = []\n",
    "\n",
    "for syms in df['confirmed']:\n",
    "    if len(syms) != 0:\n",
    "        sym_names.append([id2sym[x] for x in syms])\n",
    "    else:\n",
    "        sym_names.append([])\n",
    "\n",
    "df['labels'] = sym_names"
   ]
  },
  {
   "cell_type": "code",
   "execution_count": 3,
   "metadata": {},
   "outputs": [
    {
     "data": {
      "text/html": [
       "<div>\n",
       "<style scoped>\n",
       "    .dataframe tbody tr th:only-of-type {\n",
       "        vertical-align: middle;\n",
       "    }\n",
       "\n",
       "    .dataframe tbody tr th {\n",
       "        vertical-align: top;\n",
       "    }\n",
       "\n",
       "    .dataframe thead th {\n",
       "        text-align: right;\n",
       "    }\n",
       "</style>\n",
       "<table border=\"1\" class=\"dataframe\">\n",
       "  <thead>\n",
       "    <tr style=\"text-align: right;\">\n",
       "      <th></th>\n",
       "      <th>text</th>\n",
       "      <th>confirmed</th>\n",
       "      <th>suggested</th>\n",
       "      <th>labels</th>\n",
       "    </tr>\n",
       "  </thead>\n",
       "  <tbody>\n",
       "    <tr>\n",
       "      <th>0</th>\n",
       "      <td>Slut på medicin.</td>\n",
       "      <td>[89, 651]</td>\n",
       "      <td>[348]</td>\n",
       "      <td>[Känd astma, Känd lungsjukdom]</td>\n",
       "    </tr>\n",
       "    <tr>\n",
       "      <th>1</th>\n",
       "      <td>Ångest</td>\n",
       "      <td>[]</td>\n",
       "      <td>[118]</td>\n",
       "      <td>[]</td>\n",
       "    </tr>\n",
       "    <tr>\n",
       "      <th>2</th>\n",
       "      <td>Tänkte bara höra med Er, när jag har möjlighet...</td>\n",
       "      <td>[]</td>\n",
       "      <td>[89, 913]</td>\n",
       "      <td>[]</td>\n",
       "    </tr>\n",
       "    <tr>\n",
       "      <th>3</th>\n",
       "      <td>Behöver att prata med psykolog angående använd...</td>\n",
       "      <td>[116, 215]</td>\n",
       "      <td>[215, 348, 446]</td>\n",
       "      <td>[Nedstämdhet, Trötthet]</td>\n",
       "    </tr>\n",
       "    <tr>\n",
       "      <th>4</th>\n",
       "      <td>Har fått besvärlig eksem på händerna</td>\n",
       "      <td>[2, 141]</td>\n",
       "      <td>[141]</td>\n",
       "      <td>[Hudbesvär, Synliga hudbesvär]</td>\n",
       "    </tr>\n",
       "  </tbody>\n",
       "</table>\n",
       "</div>"
      ],
      "text/plain": [
       "                                                text   confirmed  \\\n",
       "0                                   Slut på medicin.   [89, 651]   \n",
       "1                                             Ångest          []   \n",
       "2  Tänkte bara höra med Er, när jag har möjlighet...          []   \n",
       "3  Behöver att prata med psykolog angående använd...  [116, 215]   \n",
       "4              Har fått besvärlig eksem på händerna     [2, 141]   \n",
       "\n",
       "         suggested                          labels  \n",
       "0            [348]  [Känd astma, Känd lungsjukdom]  \n",
       "1            [118]                              []  \n",
       "2        [89, 913]                              []  \n",
       "3  [215, 348, 446]         [Nedstämdhet, Trötthet]  \n",
       "4            [141]  [Hudbesvär, Synliga hudbesvär]  "
      ]
     },
     "execution_count": 3,
     "metadata": {},
     "output_type": "execute_result"
    }
   ],
   "source": [
    "df.head()"
   ]
  },
  {
   "cell_type": "code",
   "execution_count": 4,
   "metadata": {},
   "outputs": [],
   "source": [
    "# functions for preprocessing\n",
    "def clean_text(text):\n",
    "    # turn text to lowercase\n",
    "    text = text.lower()\n",
    "    \n",
    "    # remove all characters that are not letters or whitespace\n",
    "    text = re.sub(r'[^\\p{L} ]', '', text)\n",
    "    \n",
    "    return text"
   ]
  },
  {
   "cell_type": "code",
   "execution_count": 5,
   "metadata": {},
   "outputs": [],
   "source": [
    "# create X matrix\n",
    "texts = df['text'].tolist()\n",
    "\n",
    "for i in range(len(texts)):\n",
    "    texts[i] = clean_text(texts[i])\n",
    "    \n",
    "v = TfidfVectorizer(ngram_range=(1,3), max_features=10000)\n",
    "X = v.fit_transform(texts).todense()"
   ]
  },
  {
   "cell_type": "code",
   "execution_count": 6,
   "metadata": {},
   "outputs": [],
   "source": [
    "# create y matrix (labels)\n",
    "labels = df['labels'].tolist()\n",
    "\n",
    "multilab_bin = MultiLabelBinarizer()\n",
    "y = multilab_bin.fit_transform(labels)"
   ]
  },
  {
   "cell_type": "code",
   "execution_count": 7,
   "metadata": {},
   "outputs": [
    {
     "name": "stdout",
     "output_type": "stream",
     "text": [
      "X: 4653 x 10000 matrix\t | 0.305 % nonzero elements\n",
      "y: 4653 x 197 matrix\t | 0.826 % nonzero elements\n"
     ]
    }
   ],
   "source": [
    "# turn X and y into tensors\n",
    "X = torch.tensor(X, dtype=torch.float)\n",
    "y = torch.tensor(y, dtype=torch.float)\n",
    "\n",
    "# matrix info\n",
    "x_nnz = torch.count_nonzero(X)\n",
    "y_nnz = torch.count_nonzero(y)\n",
    "\n",
    "print(f'X: {X.shape[0]} x {X.shape[1]} matrix\\t | {(x_nnz / (X.shape[0]*X.shape[1])) * 100:.3f} % nonzero elements')\n",
    "print(f'y: {y.shape[0]} x {y.shape[1]} matrix\\t | {(y_nnz / (y.shape[0]*y.shape[1])) * 100:.3f} % nonzero elements')"
   ]
  },
  {
   "cell_type": "code",
   "execution_count": 8,
   "metadata": {},
   "outputs": [],
   "source": [
    "# define the NN\n",
    "\n",
    "# single-layered NN\n",
    "class Net1(nn.Module):\n",
    "    def __init__(self, D_in, H1, D_out):\n",
    "        super(Net1, self).__init__()\n",
    "        self.fc1 = nn.Linear(D_in, H1)\n",
    "        self.fc2 = nn.Linear(H1, D_out)\n",
    "        self.sigm = nn.Sigmoid()\n",
    "        self.relu = nn.ReLU()\n",
    "    \n",
    "    def forward(self, x):\n",
    "        x = self.relu(self.fc1(x))\n",
    "        x = self.fc2(x)\n",
    "        x = self.sigm(x)\n",
    "        return x\n",
    "\n",
    "# multi-layered NN\n",
    "class Net(nn.Module):\n",
    "    def __init__(self, D_in, H1, H2, D_out):\n",
    "        super(Net, self).__init__()\n",
    "        self.fc1 = nn.Linear(D_in, H1)\n",
    "        self.fc2 = nn.Linear(H1, H2)\n",
    "        self.fc3 = nn.Linear(H2, D_out)\n",
    "        self.sigm = nn.Sigmoid()\n",
    "        self.relu = nn.ReLU()\n",
    "    \n",
    "    def forward(self, x):\n",
    "        x = self.relu(self.fc1(x))\n",
    "        x = self.relu(self.fc2(x))\n",
    "        x = self.fc3(x)\n",
    "        x = self.sigm(x)\n",
    "        return x"
   ]
  },
  {
   "cell_type": "code",
   "execution_count": 9,
   "metadata": {},
   "outputs": [
    {
     "name": "stdout",
     "output_type": "stream",
     "text": [
      "dev = cuda:0\n",
      "Number of available GPUs: 1\n"
     ]
    }
   ],
   "source": [
    "# decide which device to use. use cuda if available\n",
    "dev = ''\n",
    "if torch.cuda.is_available():\n",
    "    dev = 'cuda:0'\n",
    "else:\n",
    "    dev = 'cpu'\n",
    "print(f'dev = {dev}')\n",
    "print(f'Number of available GPUs: {torch.cuda.device_count()}')\n",
    "\n",
    "device = torch.device(dev)"
   ]
  },
  {
   "cell_type": "code",
   "execution_count": 10,
   "metadata": {},
   "outputs": [],
   "source": [
    "# prepare the data for the training and test\n",
    "batch_size = 64\n",
    "\n",
    "# add a column in y that keeps track of the index of the corresponding text\n",
    "# make sure to handle it later\n",
    "y = torch.cat((torch.tensor([i for i in range(y.shape[0])]).view(-1,1), y),1)\n",
    "\n",
    "X_train, X_test, y_train, y_test = train_test_split(X, y,\n",
    "                                                    random_state=42,\n",
    "                                                    test_size=0.2,\n",
    "                                                    shuffle=True)\n",
    "\n",
    "# create datasets. (do not include the index added above in y)\n",
    "train_set = torch.utils.data.TensorDataset(X_train, y_train[:,1:])\n",
    "test_set = torch.utils.data.TensorDataset(X_test, y_test[:,1:])\n",
    "\n",
    "train_loader = torch.utils.data.DataLoader(dataset=train_set,\n",
    "                                          batch_size=batch_size,\n",
    "                                          shuffle=True\n",
    "                                          )\n",
    "# might be unnecessary to use a loader for the test set right now\n",
    "test_loader = torch.utils.data.DataLoader(dataset=train_set,\n",
    "                                         batch_size=batch_size,\n",
    "                                         shuffle=True)"
   ]
  },
  {
   "cell_type": "code",
   "execution_count": 11,
   "metadata": {
    "scrolled": false
   },
   "outputs": [
    {
     "name": "stdout",
     "output_type": "stream",
     "text": [
      "End of epoch 1, Train Loss: 0.1684514, Test Loss: 0.1717182\n",
      "End of epoch 2, Train Loss: 0.0570007, Test Loss: 0.0585959\n",
      "End of epoch 3, Train Loss: 0.0457722, Test Loss: 0.0471033\n",
      "End of epoch 4, Train Loss: 0.0416739, Test Loss: 0.0429863\n",
      "End of epoch 5, Train Loss: 0.0391534, Test Loss: 0.0405667\n",
      "End of epoch 6, Train Loss: 0.0371815, Test Loss: 0.0387484\n",
      "End of epoch 7, Train Loss: 0.0354168, Test Loss: 0.0372103\n",
      "End of epoch 8, Train Loss: 0.0338037, Test Loss: 0.0358356\n",
      "End of epoch 9, Train Loss: 0.0322700, Test Loss: 0.0345640\n",
      "End of epoch 10, Train Loss: 0.0308262, Test Loss: 0.0334001\n",
      "End of epoch 11, Train Loss: 0.0295093, Test Loss: 0.0323547\n",
      "End of epoch 12, Train Loss: 0.0283289, Test Loss: 0.0314607\n",
      "End of epoch 13, Train Loss: 0.0272760, Test Loss: 0.0306979\n",
      "End of epoch 14, Train Loss: 0.0262702, Test Loss: 0.0300268\n",
      "End of epoch 15, Train Loss: 0.0253302, Test Loss: 0.0294219\n",
      "End of epoch 16, Train Loss: 0.0243805, Test Loss: 0.0288315\n",
      "End of epoch 17, Train Loss: 0.0234517, Test Loss: 0.0282716\n",
      "End of epoch 18, Train Loss: 0.0225303, Test Loss: 0.0277666\n",
      "End of epoch 19, Train Loss: 0.0216150, Test Loss: 0.0272589\n",
      "End of epoch 20, Train Loss: 0.0207093, Test Loss: 0.0267997\n"
     ]
    }
   ],
   "source": [
    "# define the model\n",
    "D_in, H1, H2, D_out = X.shape[1], 1000, 1000, y.shape[1]-1\n",
    "\n",
    "model = Net1(D_in, H1, D_out)\n",
    "model = model.to(device)\n",
    "\n",
    "\n",
    "# training loop\n",
    "learning_rate = 0.0004\n",
    "\n",
    "criterion = torch.nn.BCELoss()\n",
    "optimizer = torch.optim.Adam(model.parameters(), lr=learning_rate)\n",
    "\n",
    "# losses over entire train-/test-set per epoch\n",
    "train_losses = []\n",
    "test_losses = []\n",
    "\n",
    "num_epochs = 20\n",
    "for epoch in range(num_epochs):\n",
    "    for idx, batch in enumerate(train_loader):\n",
    "        inputs, labels = batch\n",
    "        inputs = inputs.to(device)\n",
    "        labels = labels.to(device)\n",
    "        \n",
    "        # zero the parameter gradients\n",
    "        optimizer.zero_grad()\n",
    "        \n",
    "        # forward pass\n",
    "        outputs = model(inputs)\n",
    "        \n",
    "        # backward pass\n",
    "        loss = criterion(outputs, labels)\n",
    "        loss.backward()\n",
    "        optimizer.step()\n",
    "    \n",
    "    # save the losses\n",
    "    model = model.to(torch.device('cpu'))\n",
    "    \n",
    "    y_pred_train = model(X_train)\n",
    "    temp_loss = criterion(y_pred_train, y_train[:,1:])\n",
    "    train_losses.append(temp_loss)\n",
    "    \n",
    "    y_pred_test = model(X_test)\n",
    "    temp_loss = criterion(y_pred_test, y_test[:,1:])\n",
    "    test_losses.append(temp_loss)\n",
    "    \n",
    "    model = model.to(device)\n",
    "    \n",
    "    \n",
    "    \n",
    "    print(f'End of epoch {epoch+1}, Train Loss: {train_losses[-1]:.7f}, Test Loss: {test_losses[-1]:.7f}')"
   ]
  },
  {
   "cell_type": "code",
   "execution_count": 12,
   "metadata": {},
   "outputs": [
    {
     "name": "stdout",
     "output_type": "stream",
     "text": [
      "Micro-average F1-score: 0.5057019268580416\n",
      "Weighted-average F1-score: 0.39694330381140086\n",
      "Sample-average Jaccard score: 0.4063732692894884\n",
      "Accuracy (exact match): 0.2964554242749731\n",
      "Hamming Loss: 0.006853609731362489\n"
     ]
    },
    {
     "data": {
      "image/png": "[encoded data removed]",
      "text/plain": [
       "<Figure size 432x288 with 1 Axes>"
      ]
     },
     "metadata": {
      "needs_background": "light"
     },
     "output_type": "display_data"
    }
   ],
   "source": [
    "model = model.to(torch.device('cpu'))\n",
    "y_pred = model(X_test).detach().numpy()\n",
    "#y_pred = y_pred.cpu().detach().numpy()\n",
    "\n",
    "# set all values above threshold to 1, else 0\n",
    "th = 0.2\n",
    "y_pred[y_pred > th] = 1\n",
    "y_pred[y_pred <= th] = 0\n",
    "\n",
    "print(f\"Micro-average F1-score: {f1_score(y_test[:,1:], y_pred, average='micro')}\")\n",
    "print(f\"Weighted-average F1-score: {f1_score(y_test[:,1:], y_pred, average='weighted', zero_division=1)}\")\n",
    "print(f\"Sample-average Jaccard score: {jaccard_score(y_test[:,1:], y_pred, average='samples', zero_division=1)}\")\n",
    "print(f\"Accuracy (exact match): {accuracy_score(y_test[:,1:], y_pred)}\")\n",
    "print(f\"Hamming Loss: {hamming_loss(y_test[:,1:], y_pred)}\")\n",
    "\n",
    "x = [x for x in range(1,num_epochs+1)]\n",
    "plt.plot(x, test_losses)\n",
    "plt.plot(x, train_losses)\n",
    "plt.legend(['Test Loss', 'Train Loss'])\n",
    "plt.xticks(x, x)\n",
    "plt.xlabel('Epoch')\n",
    "plt.ylabel('Loss')\n",
    "plt.gca().set_ylim([0,0.1])\n",
    "plt.show()"
   ]
  },
  {
   "cell_type": "code",
   "execution_count": null,
   "metadata": {},
   "outputs": [],
   "source": [
    "# find the 'per' % best/worst samples in the test-set w.r.t. BCE-loss\n",
    "per = 2\n",
    "\n",
    "loss_sorted = []\n",
    "\n",
    "for i in range(y_test.shape[0]):\n",
    "    y_pred = model(X_test[i,:])\n",
    "    y_pred = y_pred.detach()\n",
    "    loss = criterion(y_pred, y_test[i,1:])\n",
    "    loss_sorted.append((loss, y_pred, y_test[i,:]))\n",
    "    \n",
    "loss_sorted = sorted(loss_sorted, key=lambda tup: tup[0])\n",
    "\n",
    "nbr_elems = (len(loss_sorted) * per) // 100\n",
    "min_loss = loss_sorted[:nbr_elems]\n",
    "max_loss = loss_sorted[len(loss_sorted)-nbr_elems:]"
   ]
  },
  {
   "cell_type": "code",
   "execution_count": null,
   "metadata": {},
   "outputs": [],
   "source": [
    "# print the top 'per' % best samples\n",
    "for i in range(len(min_loss)):\n",
    "    loss, y_pred, y_test_row = min_loss[i]\n",
    "    \n",
    "    # turn y_pred into binary (threshold th defined above)\n",
    "    y_pred[y_pred > th] = 1\n",
    "    y_pred[y_pred <= th] = 0\n",
    "    \n",
    "    y_pred_syms = multilab_bin.inverse_transform(y_pred.view(1,-1))\n",
    "    y_test_syms = multilab_bin.inverse_transform(y_test_row[1:].view(1,-1))\n",
    "    \n",
    "    print(f'Loss: {loss}')\n",
    "    print(f'{df[\"text\"][int(y_test_row[0])]}')\n",
    "    print(f'Prediction:\\t {y_pred_syms}')\n",
    "    print(f'Labels:\\t\\t {y_test_syms}')\n",
    "    print('- - - - - - - - - - - - - -')"
   ]
  },
  {
   "cell_type": "code",
   "execution_count": null,
   "metadata": {
    "scrolled": true
   },
   "outputs": [],
   "source": [
    "# print the top 'per' % worst samples\n",
    "for i in range(len(max_loss)):\n",
    "    loss, y_pred, y_test_row = max_loss[i]\n",
    "    \n",
    "    # turn y_pred into binary (threshold th defined above)\n",
    "    y_pred[y_pred > th] = 1\n",
    "    y_pred[y_pred <= th] = 0\n",
    "    \n",
    "    y_pred_syms = multilab_bin.inverse_transform(y_pred.view(1,-1))\n",
    "    y_test_syms = multilab_bin.inverse_transform(y_test_row[1:].view(1,-1))\n",
    "    \n",
    "    print(f'Loss: {loss}')\n",
    "    print(f'{df[\"text\"][int(y_test_row[0])]}')\n",
    "    print(f'Prediction:\\t {y_pred_syms}')\n",
    "    print(f'Labels:\\t\\t {y_test_syms}')\n",
    "    print('- - - - - - - - - - - - - -')"
   ]
  },
  {
   "cell_type": "code",
   "execution_count": null,
   "metadata": {},
   "outputs": [],
   "source": [
    "# simple classifier used as a baseline\n",
    "#clf = OneVsRestClassifier(MultinomialNB(), n_jobs=-1)\n",
    "#clf.fit(X_train, y_train[:,1:])"
   ]
  },
  {
   "cell_type": "code",
   "execution_count": null,
   "metadata": {},
   "outputs": [],
   "source": [
    "if False:\n",
    "    y_pred_test_bl = clf.predict(X_test)\n",
    "    y_pred_train_bl = clf.predict(X_train)\n",
    "\n",
    "    bl_test_loss = criterion(torch.tensor(y_pred_test_bl, dtype=torch.float), y_test[:,1:])\n",
    "    bl_train_loss = criterion(torch.tensor(y_pred_train_bl, dtype=torch.float), y_train[:,1:])\n",
    "\n",
    "    print(\"Baseline metrics\")\n",
    "    print(f\"Micro-average F1-score for baseline: {f1_score(y_test[:,1:], y_pred_test_bl, average='micro')}\")\n",
    "    print(f\"Sample-average Jaccard score: {jaccard_score(y_test[:,1:], y_pred_test_bl, average='samples', zero_division=1)}\")\n",
    "    print(f\"Accuracy (exact match): {accuracy_score(y_test[:,1:], y_pred_test_bl)}\")\n",
    "    print(f\"Hamming Loss: {hamming_loss(y_test[:,1:], y_pred_test_bl)}\")\n",
    "\n",
    "    x = [x for x in range(1,num_epochs+1)]\n",
    "    plt.plot(x, test_losses)\n",
    "    plt.plot(x, train_losses)\n",
    "    plt.plot(x, [bl_test_loss for i in range(len(x))])\n",
    "    plt.plot(x, [bl_train_loss for i in range(len(x))])\n",
    "    plt.legend(['Test Loss', 'Train Loss', 'Test Loss Baseline', 'Train Loss Baseline'])\n",
    "    plt.xticks(x, x)\n",
    "    plt.xlabel('Epoch')\n",
    "    plt.ylabel('Loss')\n",
    "    #plt.gca().set_ylim([0,0.1])\n",
    "    plt.show()"
   ]
  },
  {
   "cell_type": "code",
   "execution_count": null,
   "metadata": {},
   "outputs": [],
   "source": []
  }
 ],
 "metadata": {
  "kernelspec": {
   "display_name": "py37",
   "language": "python",
   "name": "py37"
  },
  "language_info": {
   "codemirror_mode": {
    "name": "ipython",
    "version": 3
   },
   "file_extension": ".py",
   "mimetype": "text/x-python",
   "name": "python",
   "nbconvert_exporter": "python",
   "pygments_lexer": "ipython3",
   "version": "3.7.9"
  }
 },
 "nbformat": 4,
 "nbformat_minor": 4
}
