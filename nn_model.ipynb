{
 "cells": [
  {
   "cell_type": "code",
   "execution_count": 1,
   "metadata": {},
   "outputs": [],
   "source": [
    "from sklearn.preprocessing import MultiLabelBinarizer\n",
    "from sklearn.model_selection import train_test_split\n",
    "from sklearn.metrics import f1_score\n",
    "\n",
    "# some vectorizers\n",
    "from sklearn.feature_extraction import DictVectorizer\n",
    "from sklearn.feature_extraction.text import TfidfVectorizer\n",
    "\n",
    "import pandas as pd\n",
    "import numpy as np\n",
    "import matplotlib.pyplot as plt\n",
    "import regex as re\n",
    "import json\n",
    "import torch\n",
    "import torch.nn as nn\n",
    "\n",
    "%matplotlib inline"
   ]
  },
  {
   "cell_type": "code",
   "execution_count": 2,
   "metadata": {},
   "outputs": [],
   "source": [
    "path_to_data = './data'\n",
    "\n",
    "# create dataframe from sessions.json\n",
    "df = pd.read_json(f'{path_to_data}/sessions.json')\n",
    "df.head()\n",
    "\n",
    "# create dictionaries for switching between symptom and id\n",
    "id2sym = {}\n",
    "sym2id = {}\n",
    "\n",
    "with open(f'{path_to_data}/symptoms.json') as json_file:\n",
    "    data = json.load(json_file)\n",
    "    for sym in data:\n",
    "        id2sym[sym['id']] = sym['name']\n",
    "        sym2id[sym['name']] = sym['id']\n",
    "        \n",
    "# add column with the symptom names\n",
    "sym_names = []\n",
    "\n",
    "for syms in df['confirmed']:\n",
    "    if len(syms) != 0:\n",
    "        sym_names.append([id2sym[x] for x in syms])\n",
    "    else:\n",
    "        sym_names.append([])\n",
    "\n",
    "df['labels'] = sym_names"
   ]
  },
  {
   "cell_type": "code",
   "execution_count": 3,
   "metadata": {},
   "outputs": [
    {
     "data": {
      "text/html": [
       "<div>\n",
       "<style scoped>\n",
       "    .dataframe tbody tr th:only-of-type {\n",
       "        vertical-align: middle;\n",
       "    }\n",
       "\n",
       "    .dataframe tbody tr th {\n",
       "        vertical-align: top;\n",
       "    }\n",
       "\n",
       "    .dataframe thead th {\n",
       "        text-align: right;\n",
       "    }\n",
       "</style>\n",
       "<table border=\"1\" class=\"dataframe\">\n",
       "  <thead>\n",
       "    <tr style=\"text-align: right;\">\n",
       "      <th></th>\n",
       "      <th>text</th>\n",
       "      <th>confirmed</th>\n",
       "      <th>suggested</th>\n",
       "      <th>labels</th>\n",
       "    </tr>\n",
       "  </thead>\n",
       "  <tbody>\n",
       "    <tr>\n",
       "      <th>0</th>\n",
       "      <td>Slut på medicin.</td>\n",
       "      <td>[89, 651]</td>\n",
       "      <td>[348]</td>\n",
       "      <td>[Känd astma, Känd lungsjukdom]</td>\n",
       "    </tr>\n",
       "    <tr>\n",
       "      <th>1</th>\n",
       "      <td>Ångest</td>\n",
       "      <td>[]</td>\n",
       "      <td>[118]</td>\n",
       "      <td>[]</td>\n",
       "    </tr>\n",
       "    <tr>\n",
       "      <th>2</th>\n",
       "      <td>Tänkte bara höra med Er, när jag har möjlighet...</td>\n",
       "      <td>[]</td>\n",
       "      <td>[89, 913]</td>\n",
       "      <td>[]</td>\n",
       "    </tr>\n",
       "    <tr>\n",
       "      <th>3</th>\n",
       "      <td>Behöver att prata med psykolog angående använd...</td>\n",
       "      <td>[116, 215]</td>\n",
       "      <td>[215, 348, 446]</td>\n",
       "      <td>[Nedstämdhet, Trötthet]</td>\n",
       "    </tr>\n",
       "    <tr>\n",
       "      <th>4</th>\n",
       "      <td>Har fått besvärlig eksem på händerna</td>\n",
       "      <td>[2, 141]</td>\n",
       "      <td>[141]</td>\n",
       "      <td>[Hudbesvär, Synliga hudbesvär]</td>\n",
       "    </tr>\n",
       "  </tbody>\n",
       "</table>\n",
       "</div>"
      ],
      "text/plain": [
       "                                                text   confirmed  \\\n",
       "0                                   Slut på medicin.   [89, 651]   \n",
       "1                                             Ångest          []   \n",
       "2  Tänkte bara höra med Er, när jag har möjlighet...          []   \n",
       "3  Behöver att prata med psykolog angående använd...  [116, 215]   \n",
       "4              Har fått besvärlig eksem på händerna     [2, 141]   \n",
       "\n",
       "         suggested                          labels  \n",
       "0            [348]  [Känd astma, Känd lungsjukdom]  \n",
       "1            [118]                              []  \n",
       "2        [89, 913]                              []  \n",
       "3  [215, 348, 446]         [Nedstämdhet, Trötthet]  \n",
       "4            [141]  [Hudbesvär, Synliga hudbesvär]  "
      ]
     },
     "execution_count": 3,
     "metadata": {},
     "output_type": "execute_result"
    }
   ],
   "source": [
    "df.head()"
   ]
  },
  {
   "cell_type": "code",
   "execution_count": 4,
   "metadata": {},
   "outputs": [],
   "source": [
    "# functions for preprocessing\n",
    "def clean_text(text):\n",
    "    # turn text to lowercase\n",
    "    text = text.lower()\n",
    "    \n",
    "    # remove all characters that are not letters or whitespace\n",
    "    text = re.sub(r'[^\\p{L} ]', '', text)\n",
    "    \n",
    "    return text"
   ]
  },
  {
   "cell_type": "code",
   "execution_count": 5,
   "metadata": {},
   "outputs": [],
   "source": [
    "# create X matrix\n",
    "texts = df['text'].tolist()\n",
    "\n",
    "for i in range(len(texts)):\n",
    "    texts[i] = clean_text(texts[i])\n",
    "    \n",
    "if False:\n",
    "    # create list of dicts for DictVectorizer\n",
    "    dicts = []\n",
    "\n",
    "    for i in range(len(texts)):\n",
    "        temp_dict = {}\n",
    "        text_list = texts[i].split()\n",
    "\n",
    "        for w in text_list:\n",
    "            if w in temp_dict:\n",
    "                temp_dict[w] += 1\n",
    "            else:\n",
    "                temp_dict[w] = 1\n",
    "\n",
    "        dicts.append(temp_dict)\n",
    "\n",
    "v = TfidfVectorizer(ngram_range=(1,3), max_features=10000)\n",
    "X = v.fit_transform(texts).todense()"
   ]
  },
  {
   "cell_type": "code",
   "execution_count": 6,
   "metadata": {},
   "outputs": [],
   "source": [
    "# create y matrix (labels)\n",
    "labels = df['labels'].tolist()\n",
    "\n",
    "multilab_bin = MultiLabelBinarizer()\n",
    "y = multilab_bin.fit_transform(labels)"
   ]
  },
  {
   "cell_type": "code",
   "execution_count": 7,
   "metadata": {},
   "outputs": [
    {
     "name": "stdout",
     "output_type": "stream",
     "text": [
      "X: 4799 x 10000 matrix\t | 0.296 % nonzero elements\n",
      "y: 4799 x 197 matrix\t | 0.802 % nonzero elements\n"
     ]
    }
   ],
   "source": [
    "# turn X and y into tensors\n",
    "X = torch.tensor(X, dtype=torch.float)\n",
    "y = torch.tensor(y, dtype=torch.float)\n",
    "\n",
    "# matrix info\n",
    "x_nnz = torch.count_nonzero(X)\n",
    "y_nnz = torch.count_nonzero(y)\n",
    "\n",
    "print(f'X: {X.shape[0]} x {X.shape[1]} matrix\\t | {(x_nnz / (X.shape[0]*X.shape[1])) * 100:.3f} % nonzero elements')\n",
    "print(f'y: {y.shape[0]} x {y.shape[1]} matrix\\t | {(y_nnz / (y.shape[0]*y.shape[1])) * 100:.3f} % nonzero elements')"
   ]
  },
  {
   "cell_type": "code",
   "execution_count": 8,
   "metadata": {},
   "outputs": [],
   "source": [
    "# define the NN\n",
    "class Net(nn.Module):\n",
    "    def __init__(self, D_in, H1, D_out):\n",
    "        super(Net, self).__init__()\n",
    "        self.fc1 = nn.Linear(D_in, H1)\n",
    "        self.fc2 = nn.Linear(H1,D_out)\n",
    "        #self.fc3 = nn.Linear(H2,D_out)\n",
    "        self.sigm = nn.Sigmoid()\n",
    "        self.relu = nn.ReLU()\n",
    "    \n",
    "    def forward(self, x):\n",
    "        x = self.relu(self.fc1(x))\n",
    "        x = self.fc2(x)#self.relu(self.fc2(x))\n",
    "        #x = self.relu(self.fc3(x))\n",
    "        x = self.sigm(x)\n",
    "        return x"
   ]
  },
  {
   "cell_type": "code",
   "execution_count": 9,
   "metadata": {},
   "outputs": [
    {
     "name": "stdout",
     "output_type": "stream",
     "text": [
      "dev = cuda:0\n",
      "Number of available GPUs: 1\n"
     ]
    }
   ],
   "source": [
    "# decide which device to use. use cuda if available\n",
    "dev = ''\n",
    "if torch.cuda.is_available():\n",
    "    dev = 'cuda:0'\n",
    "else:\n",
    "    dev = 'cpu'\n",
    "print(f'dev = {dev}')\n",
    "print(f'Number of available GPUs: {torch.cuda.device_count()}')\n",
    "\n",
    "device = torch.device(dev)"
   ]
  },
  {
   "cell_type": "code",
   "execution_count": 10,
   "metadata": {},
   "outputs": [],
   "source": [
    "# prepare the data for the training and test\n",
    "batch_size = 64\n",
    "\n",
    "# add a column in y that keeps track of the index of the corresponding text\n",
    "# make sure to handle it later\n",
    "y = torch.cat((torch.tensor([i for i in range(y.shape[0])]).view(-1,1), y),1)\n",
    "\n",
    "X_train, X_test, y_train, y_test = train_test_split(X, y,\n",
    "                                                    random_state=42,\n",
    "                                                    test_size=0.2,\n",
    "                                                    shuffle=True)\n",
    "\n",
    "# create datasets. (do not include the index added above in y)\n",
    "train_set = torch.utils.data.TensorDataset(X_train, y_train[:,1:])\n",
    "test_set = torch.utils.data.TensorDataset(X_test, y_test[:,1:])\n",
    "\n",
    "train_loader = torch.utils.data.DataLoader(dataset=train_set,\n",
    "                                          batch_size=batch_size,\n",
    "                                          shuffle=True\n",
    "                                          )\n",
    "# might be unnecessary to use a loader for the test set right now\n",
    "test_loader = torch.utils.data.DataLoader(dataset=train_set,\n",
    "                                         batch_size=batch_size,\n",
    "                                         shuffle=True)"
   ]
  },
  {
   "cell_type": "code",
   "execution_count": 11,
   "metadata": {
    "scrolled": false
   },
   "outputs": [
    {
     "name": "stdout",
     "output_type": "stream",
     "text": [
      "End of epoch 1, Latest batch loss: 0.0332448\n",
      "End of epoch 2, Latest batch loss: 0.0238707\n",
      "End of epoch 3, Latest batch loss: 0.0182561\n",
      "End of epoch 4, Latest batch loss: 0.0128762\n",
      "End of epoch 5, Latest batch loss: 0.0063349\n",
      "End of epoch 6, Latest batch loss: 0.0043092\n",
      "End of epoch 7, Latest batch loss: 0.0024574\n",
      "End of epoch 8, Latest batch loss: 0.0023018\n",
      "End of epoch 9, Latest batch loss: 0.0026296\n",
      "End of epoch 10, Latest batch loss: 0.0022470\n",
      "End of epoch 11, Latest batch loss: 0.0027636\n",
      "End of epoch 12, Latest batch loss: 0.0007089\n",
      "End of epoch 13, Latest batch loss: 0.0038109\n",
      "End of epoch 14, Latest batch loss: 0.0011390\n",
      "End of epoch 15, Latest batch loss: 0.0009329\n",
      "End of epoch 16, Latest batch loss: 0.0005819\n",
      "End of epoch 17, Latest batch loss: 0.0009953\n",
      "End of epoch 18, Latest batch loss: 0.0013471\n",
      "End of epoch 19, Latest batch loss: 0.0015235\n",
      "End of epoch 20, Latest batch loss: 0.0021342\n"
     ]
    }
   ],
   "source": [
    "# define the model\n",
    "D_in, H1, D_out = X.shape[1], 1000, y.shape[1]-1\n",
    "\n",
    "model = Net(D_in, H1, D_out)\n",
    "model = model.to(device)\n",
    "\n",
    "\n",
    "# training loop\n",
    "learning_rate = 0.004\n",
    "\n",
    "criterion = torch.nn.BCELoss()\n",
    "optimizer = torch.optim.Adam(model.parameters(), lr=learning_rate)\n",
    "\n",
    "losses = []\n",
    "\n",
    "num_epochs = 20\n",
    "for epoch in range(num_epochs):\n",
    "    for idx, batch in enumerate(train_loader):\n",
    "        inputs, labels = batch\n",
    "        inputs = inputs.to(device)\n",
    "        labels = labels.to(device)\n",
    "        \n",
    "        # zero the parameter gradients\n",
    "        optimizer.zero_grad()\n",
    "        \n",
    "        # forward pass\n",
    "        outputs = model(inputs)\n",
    "        \n",
    "        # backward pass\n",
    "        loss = criterion(outputs, labels)\n",
    "        loss.backward()\n",
    "        optimizer.step()\n",
    "        \n",
    "        # save the loss\n",
    "        losses.append(loss)\n",
    "    \n",
    "    print(f'End of epoch {epoch+1}, Latest batch loss: {losses[-1]:.7f}')"
   ]
  },
  {
   "cell_type": "code",
   "execution_count": 12,
   "metadata": {},
   "outputs": [
    {
     "name": "stdout",
     "output_type": "stream",
     "text": [
      "Micro-average F1-score: 0.5424567188788129\n"
     ]
    },
    {
     "data": {
      "image/png": "[encoded data removed]",
      "text/plain": [
       "<Figure size 432x288 with 1 Axes>"
      ]
     },
     "metadata": {
      "needs_background": "light"
     },
     "output_type": "display_data"
    }
   ],
   "source": [
    "y_pred = model(X_test.to(device))\n",
    "y_pred = y_pred.cpu().detach().numpy()\n",
    "\n",
    "# set all values above threshold to 1, else 0\n",
    "th = 0.2\n",
    "y_pred[y_pred > th] = 1\n",
    "y_pred[y_pred <= th] = 0\n",
    "\n",
    "print(f\"Micro-average F1-score: {f1_score(y_test[:,1:], y_pred, average='micro')}\")\n",
    "\n",
    "plt.plot(losses)\n",
    "plt.xticks([(len(losses) / num_epochs) * i for i in range(1,num_epochs+1)],\n",
    "            [e for e in range(1,num_epochs+1)])\n",
    "plt.xlabel('Epoch')\n",
    "plt.ylabel('Loss')\n",
    "plt.gca().set_ylim([0,0.07])\n",
    "plt.show()"
   ]
  },
  {
   "cell_type": "code",
   "execution_count": 13,
   "metadata": {},
   "outputs": [],
   "source": [
    "if False:\n",
    "    for i in range(y_pred.shape[0]):\n",
    "        y_pred_syms = multilab_bin.inverse_transform(y_pred)\n",
    "        y_test_syms = multilab_bin.inverse_transform(y_test[:,1:])\n",
    "\n",
    "        print(df['text'][int(y_test[i,0])])\n",
    "        print()\n",
    "        print(f'Prediction:\\t {y_pred_syms[i]}')\n",
    "        print(f'Label:\\t\\t {y_test_syms[i]}')\n",
    "        #print(f'Suggested:\\t {[id2sym[x] for x in df[\"suggested\"][int(y_test[i,0])]]}')\n",
    "        print('- - - - - - - - - - - - - -')"
   ]
  },
  {
   "cell_type": "code",
   "execution_count": null,
   "metadata": {},
   "outputs": [],
   "source": [
    "# find the 'per' % best/worst samples in the test-set w.r.t. BCE-loss\n",
    "per = 5\n",
    "\n",
    "loss_sorted = []\n",
    "\n",
    "for i in range(y_test.shape[0]):\n",
    "    y_pred = model(X_test[i,:].to(device))\n",
    "    y_pred = y_pred.cpu().detach()\n",
    "    loss = criterion(y_pred, y_test[i,1:])\n",
    "    loss_sorted.append((loss, y_pred, y_test[i,:]))\n",
    "    \n",
    "loss_sorted = sorted(loss_sorted, key=lambda tup: tup[0])\n",
    "\n",
    "nbr_elems = (len(loss_sorted) * per) // 100\n",
    "min_loss = loss_sorted[:nbr_elems]\n",
    "max_loss = loss_sorted[len(loss_sorted)-nbr_elems:]"
   ]
  },
  {
   "cell_type": "code",
   "execution_count": null,
   "metadata": {},
   "outputs": [],
   "source": [
    "# print the top 'per' % best samples\n",
    "for i in range(len(min_loss)):\n",
    "    loss, y_pred, y_test_1 = min_loss[i]\n",
    "    \n",
    "    # turn y_pred into binary (threshold th defined above)\n",
    "    y_pred[y_pred > th] = 1\n",
    "    y_pred[y_pred <= th] = 0\n",
    "    \n",
    "    y_pred_syms = multilab_bin.inverse_transform(y_pred.view(1,-1))\n",
    "    y_test_syms = multilab_bin.inverse_transform(y_test_1[1:].view(1,-1))\n",
    "    \n",
    "    print(f'Loss: {loss}')\n",
    "    print(f'{df[\"text\"][int(y_test_1[0])]}')\n",
    "    print(f'Prediction:\\t {y_pred_syms}')\n",
    "    print(f'Label:\\t\\t {y_test_syms}')\n",
    "    print('- - - - - - - - - - - - - -')"
   ]
  },
  {
   "cell_type": "code",
   "execution_count": null,
   "metadata": {
    "scrolled": true
   },
   "outputs": [],
   "source": [
    "# print the top 'per' % worst samples\n",
    "for i in range(len(max_loss)):\n",
    "    loss, y_pred, y_test_1 = max_loss[i]\n",
    "    \n",
    "    # turn y_pred into binary (threshold th defined above)\n",
    "    y_pred[y_pred > th] = 1\n",
    "    y_pred[y_pred <= th] = 0\n",
    "    \n",
    "    y_pred_syms = multilab_bin.inverse_transform(y_pred.view(1,-1))\n",
    "    y_test_syms = multilab_bin.inverse_transform(y_test_1[1:].view(1,-1))\n",
    "    \n",
    "    print(f'Loss: {loss}')\n",
    "    print(f'{df[\"text\"][int(y_test_1[0])]}')\n",
    "    print(f'Prediction:\\t {y_pred_syms}')\n",
    "    print(f'Label:\\t\\t {y_test_syms}')\n",
    "    print('- - - - - - - - - - - - - -')"
   ]
  }
 ],
 "metadata": {
  "kernelspec": {
   "display_name": "py37",
   "language": "python",
   "name": "py37"
  },
  "language_info": {
   "codemirror_mode": {
    "name": "ipython",
    "version": 3
   },
   "file_extension": ".py",
   "mimetype": "text/x-python",
   "name": "python",
   "nbconvert_exporter": "python",
   "pygments_lexer": "ipython3",
   "version": "3.7.9"
  }
 },
 "nbformat": 4,
 "nbformat_minor": 4
}
