{
 "cells": [
  {
   "cell_type": "code",
   "execution_count": 1,
   "metadata": {
    "colab": {
     "base_uri": "https://localhost:8080/"
    },
    "id": "4V4du-Uio_PV",
    "outputId": "ce58a6ef-a481-4417-c7ce-42443069476e"
   },
   "outputs": [
    {
     "name": "stdout",
     "output_type": "stream",
     "text": [
      "Drive already mounted at /content/drive; to attempt to forcibly remount, call drive.mount(\"/content/drive\", force_remount=True).\n"
     ]
    }
   ],
   "source": [
    "from google.colab import drive\n",
    "drive.mount('/content/drive')"
   ]
  },
  {
   "cell_type": "code",
   "execution_count": 2,
   "metadata": {
    "colab": {
     "base_uri": "https://localhost:8080/"
    },
    "id": "49ui7QY2pDFp",
    "outputId": "b3f35c2c-7de8-4b77-e11c-c079f83c288d"
   },
   "outputs": [
    {
     "name": "stdout",
     "output_type": "stream",
     "text": [
      "/content/drive/MyDrive/exjobb_project\n",
      "/content/drive/MyDrive/exjobb_project\n"
     ]
    }
   ],
   "source": [
    "import os\n",
    "\n",
    "if os.getcwd() == '/content':\n",
    "  % cd drive/MyDrive/exjobb_project\n",
    "\n",
    "print(os.getcwd())"
   ]
  },
  {
   "cell_type": "code",
   "execution_count": 3,
   "metadata": {
    "id": "9DZ8_MoqozSX"
   },
   "outputs": [],
   "source": [
    "# metrics\n",
    "from sklearn.metrics import f1_score\n",
    "from sklearn.metrics import jaccard_score\n",
    "from sklearn.metrics import accuracy_score\n",
    "from sklearn.metrics import hamming_loss\n",
    "from sklearn.metrics import multilabel_confusion_matrix\n",
    "\n",
    "from sklearn.preprocessing import MultiLabelBinarizer\n",
    "from sklearn.model_selection import train_test_split\n",
    "\n",
    "import regex as re\n",
    "import json\n",
    "import pandas as pd\n",
    "import numpy as np\n",
    "import torch\n",
    "from scipy.interpolate import UnivariateSpline\n",
    "import matplotlib.pyplot as plt\n",
    "from torch.utils.data import Dataset, DataLoader\n",
    "from torch import nn\n",
    "from torch.nn import BCELoss\n",
    "from collections import Counter"
   ]
  },
  {
   "cell_type": "code",
   "execution_count": 4,
   "metadata": {
    "id": "b8JLV36KozSY"
   },
   "outputs": [],
   "source": [
    "path_to_data = './data'\n",
    "\n",
    "# create dataframe from sessions.json\n",
    "df = pd.read_json(f'{path_to_data}/sessions.json')\n",
    "df.head()\n",
    "\n",
    "# create dictionaries for switching between symptom and id\n",
    "id2sym = {}\n",
    "sym2id = {}\n",
    "\n",
    "with open(f'{path_to_data}/symptoms.json') as json_file:\n",
    "    data = json.load(json_file)\n",
    "    for sym in data:\n",
    "        id2sym[sym['id']] = sym['name']\n",
    "        sym2id[sym['name']] = sym['id']\n",
    "        \n",
    "        \n",
    "# remove labels that have less than m occurrences\n",
    "m = 0\n",
    "\n",
    "labels_list = df['confirmed'].tolist()\n",
    "labels_list = sum(labels_list, [])\n",
    "c = Counter(labels_list)\n",
    "for i in range(len(df)):\n",
    "    to_remove = []\n",
    "    \n",
    "    # find labels that should be removed \n",
    "    for j in range(len(df['confirmed'][i])):\n",
    "        if c[df['confirmed'][i][j]] < m:\n",
    "            to_remove.append(j)\n",
    "            \n",
    "    # remove the labels\n",
    "    shift = 0\n",
    "    for j in range(len(to_remove)):\n",
    "        df['confirmed'][i].pop(to_remove[j]-shift)\n",
    "        shift += 1\n",
    "    \n",
    "        \n",
    "# add column with the symptom names\n",
    "sym_names = []\n",
    "\n",
    "for syms in df['confirmed']:\n",
    "    if len(syms) != 0:\n",
    "        sym_names.append([id2sym[x] for x in syms])\n",
    "    else:\n",
    "        sym_names.append([])\n",
    "\n",
    "df['labels'] = sym_names\n",
    "\n",
    "# remove all rows with no confirmed labels\n",
    "df = df[df['confirmed'].map(len) > 0]\n",
    "df = df.reset_index(drop=True)"
   ]
  },
  {
   "cell_type": "code",
   "execution_count": 5,
   "metadata": {
    "colab": {
     "base_uri": "https://localhost:8080/",
     "height": 204
    },
    "id": "pzv2HOX1ozSZ",
    "outputId": "755756f3-2b62-4065-967b-3d15b1b50961"
   },
   "outputs": [
    {
     "data": {
      "text/html": [
       "<div>\n",
       "<style scoped>\n",
       "    .dataframe tbody tr th:only-of-type {\n",
       "        vertical-align: middle;\n",
       "    }\n",
       "\n",
       "    .dataframe tbody tr th {\n",
       "        vertical-align: top;\n",
       "    }\n",
       "\n",
       "    .dataframe thead th {\n",
       "        text-align: right;\n",
       "    }\n",
       "</style>\n",
       "<table border=\"1\" class=\"dataframe\">\n",
       "  <thead>\n",
       "    <tr style=\"text-align: right;\">\n",
       "      <th></th>\n",
       "      <th>text</th>\n",
       "      <th>labels</th>\n",
       "    </tr>\n",
       "  </thead>\n",
       "  <tbody>\n",
       "    <tr>\n",
       "      <th>0</th>\n",
       "      <td>Slut på medicin.</td>\n",
       "      <td>[Känd astma, Känd lungsjukdom]</td>\n",
       "    </tr>\n",
       "    <tr>\n",
       "      <th>1</th>\n",
       "      <td>Behöver att prata med psykolog angående använd...</td>\n",
       "      <td>[Nedstämdhet, Trötthet]</td>\n",
       "    </tr>\n",
       "    <tr>\n",
       "      <th>2</th>\n",
       "      <td>Har fått besvärlig eksem på händerna</td>\n",
       "      <td>[Hudbesvär, Synliga hudbesvär]</td>\n",
       "    </tr>\n",
       "    <tr>\n",
       "      <th>3</th>\n",
       "      <td>Muskelsvaghet och trötthet känner mig skakig o...</td>\n",
       "      <td>[Muskelsvaghet, Trötthet]</td>\n",
       "    </tr>\n",
       "    <tr>\n",
       "      <th>4</th>\n",
       "      <td>Svår smärta i vänsterhanden/handleden precis n...</td>\n",
       "      <td>[Smärta i handled eller fingrar, Förvärras av ...</td>\n",
       "    </tr>\n",
       "  </tbody>\n",
       "</table>\n",
       "</div>"
      ],
      "text/plain": [
       "                                                text                                             labels\n",
       "0                                   Slut på medicin.                     [Känd astma, Känd lungsjukdom]\n",
       "1  Behöver att prata med psykolog angående använd...                            [Nedstämdhet, Trötthet]\n",
       "2              Har fått besvärlig eksem på händerna                      [Hudbesvär, Synliga hudbesvär]\n",
       "3  Muskelsvaghet och trötthet känner mig skakig o...                          [Muskelsvaghet, Trötthet]\n",
       "4  Svår smärta i vänsterhanden/handleden precis n...  [Smärta i handled eller fingrar, Förvärras av ..."
      ]
     },
     "execution_count": 5,
     "metadata": {
      "tags": []
     },
     "output_type": "execute_result"
    }
   ],
   "source": [
    "df.drop('confirmed', inplace=True, axis=1)\n",
    "df.drop('suggested', inplace=True, axis=1)\n",
    "#df = df[0:500]\n",
    "df.head()"
   ]
  },
  {
   "cell_type": "code",
   "execution_count": 6,
   "metadata": {
    "colab": {
     "base_uri": "https://localhost:8080/"
    },
    "id": "Fdk9K-ANozSa",
    "outputId": "bedbb6ce-d438-45a7-f329-e1b7e3884bc3"
   },
   "outputs": [
    {
     "name": "stdout",
     "output_type": "stream",
     "text": [
      "['hej', 'hur', 'är', 'läget', 'sdfs']\n"
     ]
    }
   ],
   "source": [
    "# a basic tokenizer to start off with\n",
    "def basic_tokenization(text):\n",
    "    text = text.lower()\n",
    "\n",
    "    tokens = re.sub(r'[^\\p{L} ]', ' ', text).split()\n",
    "    \n",
    "    return tokens\n",
    "\n",
    "test = 'Hej, hur är läget?sdfs'\n",
    "print(basic_tokenization(test))"
   ]
  },
  {
   "cell_type": "code",
   "execution_count": 7,
   "metadata": {
    "colab": {
     "base_uri": "https://localhost:8080/"
    },
    "id": "0x2IW7_cE5nI",
    "outputId": "31ce0bb0-3c72-4651-a992-f7201d32b428"
   },
   "outputs": [
    {
     "name": "stdout",
     "output_type": "stream",
     "text": [
      "Using pretrained embeddings ...\n",
      "[192250, 300]\n"
     ]
    }
   ],
   "source": [
    "# create dictionary that assigns a unique integer id for each word in the embeddings\n",
    "word2id = {}\n",
    "id_count = 0\n",
    "\n",
    "use_pretrained = True\n",
    "embedding_weights = None\n",
    "\n",
    "# ids for padding and unkown tokens \n",
    "pad_tok = None\n",
    "unk_tok = None\n",
    "\n",
    "if use_pretrained:\n",
    "  print('Using pretrained embeddings ...')\n",
    "  with open('./embeddings/swectors-300dim.txt', encoding='utf-8') as file:\n",
    "      # initialize the embedding weights matrix with zeros\n",
    "      dims = [int(x) for x in file.readline().split()]\n",
    "      print(dims)\n",
    "      embedding_weights = torch.zeros((dims[0],dims[1]), dtype=torch.float64)    \n",
    "      \n",
    "      line = file.readline().split()\n",
    "      while line != []:\n",
    "          word2id[line[0]] = id_count\n",
    "          embedding_weights[id_count,:] = torch.tensor([float(x) for x in line[1:]])\n",
    "          id_count += 1\n",
    "          \n",
    "          line = file.readline()\n",
    "          line = line.split()\n",
    "          \n",
    "      pad_tok = word2id['<>']\n",
    "      unk_tok = word2id['<>det']\n",
    "else:\n",
    "  print('Not using pretrained embeddings ...')\n",
    "  pad_tok = 0\n",
    "  unk_tok = 1\n",
    "  id_count += 2\n",
    "\n",
    "  for i in range(len(df)):\n",
    "    text = df['text'][i]\n",
    "    tokens = basic_tokenization(text)\n",
    "\n",
    "    for tok in tokens:\n",
    "      if tok not in word2id:\n",
    "        word2id[tok] = id_count\n",
    "        id_count += 1\n",
    "  print(f'Vocabulary size: {len(word2id)}')"
   ]
  },
  {
   "cell_type": "code",
   "execution_count": 8,
   "metadata": {
    "id": "P0R5lOB2ozSc"
   },
   "outputs": [],
   "source": [
    "# train a multilabel_binarizer on the labels\n",
    "labels = df['labels'].tolist()\n",
    "multilab_bin = MultiLabelBinarizer()\n",
    "multilab_bin.fit(labels)\n",
    "\n",
    "\n",
    "class CustomDataset(Dataset):\n",
    "    def __init__(self, dataframe, tokenizer, word2id, multilab_bin, unk_tok):\n",
    "        self.tokenizer = tokenizer\n",
    "        self.word2id = word2id\n",
    "        self.multilab_bin = multilab_bin\n",
    "        self.data = dataframe\n",
    "        self.text = self.data['text']\n",
    "        self.labels = self.data['labels']\n",
    "        self.unk_tok = unk_tok\n",
    "        \n",
    "    def __len__(self):\n",
    "        return len(self.text)\n",
    "    \n",
    "    def __getitem__(self, index):\n",
    "        text = str(self.text[index])\n",
    "        text = ' '.join(text.split())\n",
    "        \n",
    "        tokens = self.tokenizer(text)\n",
    "        # if tokens is empty, set tokens to ['x']\n",
    "        if len(tokens) <= 1:\n",
    "            tokens = ['x']\n",
    "        \n",
    "        text_len = len(tokens)\n",
    "        ids = [0 for i in range(len(tokens))]\n",
    "        for i in range(len(tokens)):\n",
    "            if tokens[i] in word2id:\n",
    "                ids[i] = word2id[tokens[i]]\n",
    "            else:\n",
    "                ids[i] = self.unk_tok\n",
    "        \n",
    "        return {\n",
    "            'lens': text_len,\n",
    "            'ids': torch.tensor(ids, dtype=torch.long),\n",
    "            'labels': torch.tensor(np.sum(self.multilab_bin.transform([self.labels[index]]), axis=0), dtype=torch.float)\n",
    "        }      \n",
    "    \n",
    "# collate function for the dataloader\n",
    "def collate_fn(batch):\n",
    "    # sort token-id sequences by length\n",
    "    for_sorting = [(batch[i]['lens'],batch[i]['ids'],batch[i]['labels']) for i in range(len(batch))]\n",
    "    for_sorting = sorted(for_sorting, key=lambda tup: tup[0], reverse=True)\n",
    "    \n",
    "    # pad token-id sequences to max_len_batch\n",
    "    max_len_batch = for_sorting[0][0]\n",
    "    \n",
    "    lens = [0 for i in range(len(batch))]\n",
    "    ids = torch.zeros((len(batch), max_len_batch), dtype=torch.long)\n",
    "    labels = torch.zeros((len(batch), len(batch[0]['labels'])))\n",
    "    \n",
    "    for i in range(len(batch)):\n",
    "        temp = torch.tensor([pad_tok for j in range(max_len_batch)])\n",
    "        temp[:for_sorting[i][0]] = for_sorting[i][1]\n",
    "        \n",
    "        lens[i] = for_sorting[i][0]\n",
    "        ids[i,:] = temp\n",
    "        labels[i,:] = for_sorting[i][2]\n",
    "        \n",
    "    return lens, ids, labels"
   ]
  },
  {
   "cell_type": "code",
   "execution_count": 9,
   "metadata": {
    "colab": {
     "base_uri": "https://localhost:8080/"
    },
    "id": "zjhY4k_uozSc",
    "outputId": "0abfc0a9-99c8-4a6f-d277-e7d1604341ec"
   },
   "outputs": [
    {
     "name": "stdout",
     "output_type": "stream",
     "text": [
      "99\n",
      "Train set: 3027 samples\n",
      "Test set: 757 samples\n"
     ]
    }
   ],
   "source": [
    "batch_size = 16\n",
    "\n",
    "# max number of tokens in text\n",
    "max_len = 0\n",
    "for i in range(len(df['text'])):\n",
    "    text = df['text'][i]\n",
    "            \n",
    "    tokens = basic_tokenization(text)\n",
    "    \n",
    "    if len(tokens) > max_len:\n",
    "        max_len = len(tokens)\n",
    "\n",
    "print(max_len)\n",
    "\n",
    "train_dataset, test_dataset = train_test_split(df,\n",
    "                                        random_state=42,\n",
    "                                        test_size=0.2,\n",
    "                                        shuffle=True)\n",
    "train_dataset = train_dataset.reset_index(drop=True)\n",
    "test_dataset = test_dataset.reset_index(drop=True)\n",
    "\n",
    "train_set = CustomDataset(train_dataset, basic_tokenization, word2id, multilab_bin, unk_tok)\n",
    "test_set = CustomDataset(test_dataset, basic_tokenization, word2id, multilab_bin, unk_tok)\n",
    "\n",
    "train_params = {'batch_size': batch_size,\n",
    "                'shuffle': True,\n",
    "                'num_workers': 0,\n",
    "                'collate_fn': collate_fn\n",
    "               }\n",
    "test_params = {'batch_size': batch_size,\n",
    "               'shuffle': True,\n",
    "               'num_workers': 0,\n",
    "               'collate_fn': collate_fn\n",
    "              }\n",
    "\n",
    "train_loader = DataLoader(train_set, **train_params)\n",
    "test_loader = DataLoader(test_set, **test_params)\n",
    "\n",
    "print(f'Train set: {len(train_dataset)} samples')\n",
    "print(f'Test set: {len(test_dataset)} samples')"
   ]
  },
  {
   "cell_type": "code",
   "execution_count": 10,
   "metadata": {
    "colab": {
     "base_uri": "https://localhost:8080/"
    },
    "id": "LY8cCk9_ozSd",
    "outputId": "eecbea6c-782e-4582-855b-653692e9951b"
   },
   "outputs": [
    {
     "name": "stdout",
     "output_type": "stream",
     "text": [
      "dev = cuda:0\n",
      "Number of available GPUs: 1\n",
      "Device 0: Tesla K80\n"
     ]
    }
   ],
   "source": [
    "# decide which device to use. use cuda if available\n",
    "dev = ''\n",
    "if torch.cuda.is_available():\n",
    "    dev = 'cuda:0'\n",
    "else:\n",
    "    dev = 'cpu'\n",
    "\n",
    "print(f'dev = {dev}')\n",
    "print(f'Number of available GPUs: {torch.cuda.device_count()}')\n",
    "\n",
    "# print the device names\n",
    "for i in range(torch.cuda.device_count()):\n",
    "    print(f'Device {i}: {torch.cuda.get_device_name(i)}')\n",
    "\n",
    "device = torch.device(dev)"
   ]
  },
  {
   "cell_type": "code",
   "execution_count": 11,
   "metadata": {
    "id": "estS0oVZozSd"
   },
   "outputs": [],
   "source": [
    "class RNN(nn.Module):\n",
    "    def __init__(self, embeddings, hidden_dim, output_dim):\n",
    "        super(RNN, self).__init__()\n",
    "        self.hidden_dim = hidden_dim\n",
    "        self.output_dim = output_dim\n",
    "        \n",
    "        self.word_embeddings = None\n",
    "        embedding_dim = 0\n",
    "        if embeddings != None:\n",
    "          embedding_dim = embeddings.shape[1]\n",
    "          self.word_embeddings = nn.Embedding.from_pretrained(embeddings)\n",
    "          #self.word_embeddings.weight.requires_grad = False\n",
    "        else:\n",
    "          embedding_dim = 50\n",
    "          self.word_embeddings = nn.Embedding(id_count, embedding_dim)\n",
    "\n",
    "        self.rnn = nn.LSTM(embedding_dim, hidden_dim, batch_first=True, bidirectional=True)\n",
    "        self.fc = nn.Linear(2*hidden_dim, output_dim)\n",
    "        self.sigm = nn.Sigmoid()\n",
    "        \n",
    "    # sentences contains padded token-id sequences sorted by length\n",
    "    def forward(self, sentences, sent_lengths):\n",
    "        embeds = self.word_embeddings(sentences)\n",
    "        \n",
    "        # pack_padded_sequnce so that padded items won't be shown to the RNN\n",
    "        if len(sent_lengths) > 1:\n",
    "            X = torch.nn.utils.rnn.pack_padded_sequence(embeds, sent_lengths, batch_first=True)\n",
    "        else:\n",
    "            X = embeds.view(1,sent_lengths[0],-1)\n",
    "        \n",
    "        X = X.float()\n",
    "        _, hc = self.rnn(X)\n",
    "        \n",
    "        # make use of the final hidden state\n",
    "        X = hc[0]\n",
    "        \n",
    "        # undo the packing\n",
    "        #X, _ = torch.nn.utils.rnn.pad_packed_sequence(X, batch_first=True)\n",
    "        \n",
    "        # reshape X to fit the linear layer\n",
    "        X = torch.cat((X[0,:,:],X[1,:,:]), 1)\n",
    "        \n",
    "        X = self.fc(X)\n",
    "        X = self.sigm(X)\n",
    "        \n",
    "        return X"
   ]
  },
  {
   "cell_type": "code",
   "execution_count": 12,
   "metadata": {
    "id": "GM4I7iasozSd"
   },
   "outputs": [],
   "source": [
    "# compute the loss of an epoch by averaging all batch losses\n",
    "def epoch_loss(model, data_loader, criterion):\n",
    "    loss = 0\n",
    "    batch_count = 0\n",
    "    \n",
    "    model.eval()\n",
    "    with torch.no_grad():\n",
    "        for idx,batch in enumerate(data_loader):\n",
    "            lens, ids, labels = batch\n",
    "            lens = torch.tensor(lens, dtype=torch.long)#.to(device)\n",
    "            ids = ids.to(device)\n",
    "            labels = labels.to(device)\n",
    "            \n",
    "            outputs = model(ids, lens)\n",
    "            loss += criterion(outputs, labels)\n",
    "            batch_count += 1\n",
    "    model.train()\n",
    "    return loss / batch_count"
   ]
  },
  {
   "cell_type": "code",
   "execution_count": 13,
   "metadata": {
    "id": "SYxcOHjYozSe"
   },
   "outputs": [],
   "source": [
    "# define the model\n",
    "output_dim = len(multilab_bin.classes_)\n",
    "hidden_dim = 1000\n",
    "if embedding_weights != None: embedding_weights = embedding_weights.to(device)\n",
    "\n",
    "model = RNN(embedding_weights, hidden_dim, output_dim)\n",
    "model.train()\n",
    "model.to(device)\n",
    "\n",
    "# number of epochs trained\n",
    "epochs_trained = 0\n",
    "\n",
    "# losses over entire train-/test-set per epoch\n",
    "train_losses = []\n",
    "test_losses = []"
   ]
  },
  {
   "cell_type": "code",
   "execution_count": 14,
   "metadata": {
    "colab": {
     "base_uri": "https://localhost:8080/"
    },
    "id": "-PROe1XUozSe",
    "outputId": "1ad27151-c35a-4517-d2ea-52011ed5017a"
   },
   "outputs": [
    {
     "name": "stdout",
     "output_type": "stream",
     "text": [
      "End of epoch 1, Train Loss: 0.0508938, Test Loss: 0.0507579\n",
      "End of epoch 2, Train Loss: 0.0430240, Test Loss: 0.0436029\n",
      "End of epoch 3, Train Loss: 0.0394469, Test Loss: 0.0406962\n",
      "End of epoch 4, Train Loss: 0.0369317, Test Loss: 0.0383078\n",
      "End of epoch 5, Train Loss: 0.0354493, Test Loss: 0.0368201\n",
      "End of epoch 6, Train Loss: 0.0338659, Test Loss: 0.0353474\n",
      "End of epoch 7, Train Loss: 0.0327199, Test Loss: 0.0343164\n",
      "End of epoch 8, Train Loss: 0.0316627, Test Loss: 0.0338047\n",
      "End of epoch 9, Train Loss: 0.0305121, Test Loss: 0.0330141\n",
      "End of epoch 10, Train Loss: 0.0299099, Test Loss: 0.0328911\n",
      "End of epoch 11, Train Loss: 0.0288648, Test Loss: 0.0317584\n",
      "End of epoch 12, Train Loss: 0.0283150, Test Loss: 0.0315066\n",
      "End of epoch 13, Train Loss: 0.0271419, Test Loss: 0.0310110\n",
      "End of epoch 14, Train Loss: 0.0264246, Test Loss: 0.0305693\n",
      "End of epoch 15, Train Loss: 0.0260619, Test Loss: 0.0302029\n",
      "End of epoch 16, Train Loss: 0.0248826, Test Loss: 0.0297786\n",
      "End of epoch 17, Train Loss: 0.0250062, Test Loss: 0.0301862\n",
      "End of epoch 18, Train Loss: 0.0234901, Test Loss: 0.0292930\n",
      "End of epoch 19, Train Loss: 0.0227270, Test Loss: 0.0289551\n",
      "End of epoch 20, Train Loss: 0.0222596, Test Loss: 0.0285293\n",
      "End of epoch 21, Train Loss: 0.0214559, Test Loss: 0.0285474\n",
      "End of epoch 22, Train Loss: 0.0207579, Test Loss: 0.0281583\n",
      "End of epoch 23, Train Loss: 0.0203843, Test Loss: 0.0282298\n",
      "End of epoch 24, Train Loss: 0.0195812, Test Loss: 0.0279678\n",
      "End of epoch 25, Train Loss: 0.0188932, Test Loss: 0.0279397\n",
      "End of epoch 26, Train Loss: 0.0184603, Test Loss: 0.0280245\n",
      "End of epoch 27, Train Loss: 0.0177136, Test Loss: 0.0277013\n",
      "End of epoch 28, Train Loss: 0.0172212, Test Loss: 0.0274462\n",
      "End of epoch 29, Train Loss: 0.0166549, Test Loss: 0.0276596\n",
      "End of epoch 30, Train Loss: 0.0158437, Test Loss: 0.0272083\n",
      "End of epoch 31, Train Loss: 0.0153695, Test Loss: 0.0272524\n",
      "End of epoch 32, Train Loss: 0.0152676, Test Loss: 0.0275281\n",
      "End of epoch 33, Train Loss: 0.0142300, Test Loss: 0.0272773\n",
      "End of epoch 34, Train Loss: 0.0138180, Test Loss: 0.0272714\n",
      "End of epoch 35, Train Loss: 0.0130999, Test Loss: 0.0270789\n",
      "End of epoch 36, Train Loss: 0.0127327, Test Loss: 0.0273903\n",
      "End of epoch 37, Train Loss: 0.0121520, Test Loss: 0.0272624\n",
      "End of epoch 38, Train Loss: 0.0123090, Test Loss: 0.0281574\n",
      "End of epoch 39, Train Loss: 0.0111813, Test Loss: 0.0276353\n",
      "End of epoch 40, Train Loss: 0.0108987, Test Loss: 0.0275166\n",
      "Test loss has not improved in the last 5 epochs. Stopping ...\n"
     ]
    }
   ],
   "source": [
    "model.train()\n",
    "\n",
    "# training loop\n",
    "learning_rate = 0.00005\n",
    "\n",
    "criterion = torch.nn.BCELoss()\n",
    "optimizer = torch.optim.Adam(model.parameters(), lr=learning_rate)\n",
    "\n",
    "# if the test loss has not improved in the last k epochs, stop training\n",
    "k = 5\n",
    "\n",
    "num_epochs = 40\n",
    "for epoch in range(num_epochs):\n",
    "    for idx,batch in enumerate(train_loader):\n",
    "        lens, ids, labels = batch\n",
    "        lens = torch.tensor(lens, dtype=torch.long)#.to(device)\n",
    "        ids = ids.to(device)\n",
    "        labels = labels.to(device)\n",
    "        \n",
    "        # zero the parameter gradients\n",
    "        optimizer.zero_grad()\n",
    "\n",
    "        # forward pass\n",
    "        outputs = model(ids, lens)\n",
    "        \n",
    "        # backward pass\n",
    "        loss = criterion(outputs, labels)\n",
    "        loss.backward()\n",
    "        optimizer.step()\n",
    "        \n",
    "    # save the losses\n",
    "    train_losses.append(epoch_loss(model, train_loader, criterion))\n",
    "    test_losses.append(epoch_loss(model, test_loader, criterion))\n",
    "\n",
    "    epochs_trained += 1\n",
    "    \n",
    "    print(f'End of epoch {epochs_trained}, Train Loss: {train_losses[-1]:.7f}, Test Loss: {test_losses[-1]:.7f}')\n",
    "    \n",
    "    # if the test loss has not improved in the last k epochs break\n",
    "    if len(test_losses) > k and all(test_losses[-(k+1)] < tl for tl in test_losses[-k:]):\n",
    "        print(f'Test loss has not improved in the last {k} epochs. Stopping ...')\n",
    "        break"
   ]
  },
  {
   "cell_type": "code",
   "execution_count": 15,
   "metadata": {
    "id": "XsAoIyRjozSf"
   },
   "outputs": [],
   "source": [
    "# get the predicitons and corresponding labels\n",
    "def get_pred_true(model, data_loader, D_out):\n",
    "\n",
    "    y_pred = np.zeros((1,D_out))\n",
    "    y_true = np.zeros((1,D_out))\n",
    "  \n",
    "    with torch.no_grad():\n",
    "        for idx,batch in enumerate(data_loader):\n",
    "            lens, ids, labels = batch\n",
    "            lens = torch.tensor(lens, dtype=torch.long)#.to(device)\n",
    "            ids = ids.to(device)\n",
    "            labels = labels.to(device)\n",
    "            \n",
    "            outputs = model(ids, lens)\n",
    "            \n",
    "            y_pred = np.concatenate((y_pred,outputs.detach().cpu().numpy()), axis=0)\n",
    "            y_true = np.concatenate((y_true,np.array(labels.cpu())), axis=0)\n",
    "            \n",
    "    return y_pred[1:,:], y_true[1:,:]\n",
    "\n",
    "model.eval()  \n",
    "y_pred_temp, y_true = get_pred_true(model, test_loader, output_dim)"
   ]
  },
  {
   "cell_type": "code",
   "execution_count": 16,
   "metadata": {
    "colab": {
     "base_uri": "https://localhost:8080/",
     "height": 702
    },
    "id": "9zHmy5LMozSf",
    "outputId": "e8b23e52-2530-45a8-dbca-be68207073fc"
   },
   "outputs": [
    {
     "name": "stdout",
     "output_type": "stream",
     "text": [
      "Number of labels in training set: 186/197 (94.42 %)\n",
      "Number of labels in test set: 140/197 (71.07 %)\n",
      "Number of labels present in both sets: 129/197 (65.48 %)\n",
      "\n",
      "Micro-average F1-score: 0.565587734241908\n",
      "Weighted-average F1-score: 0.49613141445872344\n",
      "Macro-average F1-score: 0.35945676411653993\n",
      "Accuracy (exact match): 0.2575957727873184\n",
      "Hamming Loss: 0.006839715950619933\n"
     ]
    },
    {
     "data": {
      "image/png": "[encoded data removed]",
      "text/plain": [
       "<Figure size 432x288 with 1 Axes>"
      ]
     },
     "metadata": {
      "needs_background": "light",
      "tags": []
     },
     "output_type": "display_data"
    },
    {
     "data": {
      "image/png": "[encoded data removed]",
      "text/plain": [
       "<Figure size 432x288 with 1 Axes>"
      ]
     },
     "metadata": {
      "needs_background": "light",
      "tags": []
     },
     "output_type": "display_data"
    }
   ],
   "source": [
    "# set all values above threshold to 1, else 0\n",
    "th = 0.5\n",
    "y_pred = np.copy(y_pred_temp)\n",
    "y_pred[y_pred > th] = 1\n",
    "y_pred[y_pred <= th] = 0\n",
    "\n",
    "# number of labels in test set\n",
    "#labels_in_test = np.count_nonzero(np.sum(y_true, axis=0))\n",
    "label_counts_test = np.sum(multilab_bin.transform(test_dataset['labels']), axis=0)\n",
    "labels_in_test = np.count_nonzero(label_counts_test)\n",
    "\n",
    "# number of labels in train set\n",
    "label_counts_train = np.sum(multilab_bin.transform(train_dataset['labels']), axis=0)\n",
    "labels_in_train = np.count_nonzero(label_counts_train)\n",
    "\n",
    "# compute size of intersection between labels in train and test\n",
    "label_counts_test[label_counts_test > 0] = 1\n",
    "labels_bin_test = label_counts_test\n",
    "\n",
    "label_counts_train[label_counts_train > 0] = 1\n",
    "labels_bin_train = label_counts_train\n",
    "\n",
    "labels_bin_sum = labels_bin_test + labels_bin_train\n",
    "labels_intersect = np.count_nonzero(labels_bin_sum[labels_bin_sum == 2])\n",
    "\n",
    "print(f'Number of labels in training set: {labels_in_train}/{y_true.shape[1]} ({labels_in_train/y_true.shape[1]*100:.2f} %)')\n",
    "print(f'Number of labels in test set: {labels_in_test}/{y_true.shape[1]} ({labels_in_test/y_true.shape[1]*100:.2f} %)')\n",
    "print(f'Number of labels present in both sets: {labels_intersect}/{y_true.shape[1]} ({labels_intersect/y_true.shape[1]*100:.2f} %)')\n",
    "print()\n",
    "print(f\"Micro-average F1-score: {f1_score(y_true, y_pred, average='micro')}\")\n",
    "print(f\"Weighted-average F1-score: {f1_score(y_true, y_pred, average='weighted', zero_division=1)}\")\n",
    "print(f\"Macro-average F1-score: {f1_score(y_true, y_pred, average='macro', zero_division=1)}\")\n",
    "#print(f\"Sample-average Jaccard score: {jaccard_score(y_true, y_pred, average='samples', zero_division=1)}\")\n",
    "print(f\"Accuracy (exact match): {accuracy_score(y_true, y_pred)}\")\n",
    "print(f\"Hamming Loss: {hamming_loss(y_true, y_pred)}\")\n",
    "\n",
    "x = [x for x in range(1,len(train_losses)+1)]\n",
    "xticks = [x*len(train_losses)//5 for x in range(1,6)]\n",
    "plt.plot(x, test_losses)\n",
    "plt.plot(x, train_losses)\n",
    "plt.legend(['Test Loss', 'Train Loss'])\n",
    "plt.xticks(xticks,xticks)\n",
    "plt.xlabel('Epoch')\n",
    "plt.ylabel('Loss')\n",
    "plt.show()\n",
    "\n",
    "# plot f1-score in relation to label frequency in training set\n",
    "f1_per_label = f1_score(y_true, y_pred, average=None, zero_division=0)\n",
    "label_counts_train = np.sum(multilab_bin.transform(train_dataset['labels']), axis=0)\n",
    "label_counts_test = np.sum(multilab_bin.transform(test_dataset['labels']), axis=0)\n",
    "\n",
    "# only include labels that are present in the test set\n",
    "zipped = [(f1_per_label[i], label_counts_test[i], label_counts_train[i]) for i in range(len(label_counts_test)) if label_counts_test[i] > 0]\n",
    "zipped = sorted(zipped, key=lambda tup: tup[2])\n",
    "\n",
    "f1_per_label = [zipped[i][0] for i in range(len(zipped))]\n",
    "label_counts_train = [zipped[i][2] for i in range(len(zipped))]\n",
    "\n",
    "# make a regression over the data points\n",
    "s = UnivariateSpline(label_counts_train, f1_per_label, k=3, s=5)\n",
    "xs = np.linspace(1,label_counts_train[-1])\n",
    "ys = s(xs)\n",
    "\n",
    "fig = plt.figure()\n",
    "ax = fig.add_subplot(1,1,1)\n",
    "plt.plot(label_counts_train, f1_per_label)\n",
    "plt.plot(label_counts_train, f1_per_label, '.')\n",
    "#plt.plot(xs,ys)\n",
    "ax.set_xscale('log')\n",
    "ax.set_ylim((0,1))\n",
    "plt.xlabel('Label frequency in training set')\n",
    "plt.ylabel('F1-score')\n",
    "plt.grid(True, which='both', linestyle=':')\n",
    "plt.show()"
   ]
  },
  {
   "cell_type": "code",
   "execution_count": 17,
   "metadata": {
    "id": "sQ2nbUNTozSg"
   },
   "outputs": [],
   "source": [
    "model.eval()\n",
    "\n",
    "# get a list of tuples containing the samples sorted by loss\n",
    "sorted_samples = []\n",
    "\n",
    "for i in range(len(test_dataset)):\n",
    "    text = str(test_dataset['text'][i])\n",
    "    text = ' '.join(text.split())\n",
    "\n",
    "    tokens = basic_tokenization(text)\n",
    "    # if tokens is empty, add set tokens to ['x']\n",
    "    if len(tokens) <= 1:\n",
    "        tokens = ['x']\n",
    "\n",
    "    text_len = len(tokens)\n",
    "    ids = [0 for j in range(len(tokens))]\n",
    "    for j in range(len(tokens)):\n",
    "        if tokens[j] in word2id:\n",
    "            ids[j] = word2id[tokens[j]]\n",
    "        else:\n",
    "            ids[j] = unk_tok\n",
    "\n",
    "    text_len = torch.tensor([text_len], dtype=torch.long).cpu()\n",
    "    ids = torch.tensor(ids, dtype=torch.long).to(device)\n",
    "    \n",
    "    y_pred_row = model(ids, text_len).detach().cpu()#.numpy()\n",
    "    y_true = torch.tensor(multilab_bin.transform([test_dataset['labels'][i]]), dtype=torch.float)\n",
    "    \n",
    "    loss = criterion(y_pred_row, y_true)\n",
    "\n",
    "    # turn y_pred_row to ones and zeros based on threshold 'th'\n",
    "    y_pred_row[y_pred_row > th] = 1\n",
    "    y_pred_row[y_pred_row <= th] = 0\n",
    "\n",
    "    sorted_samples.append((y_pred_row, y_true, test_dataset['text'][i], loss))\n",
    "\n",
    "    if False:\n",
    "      print(text)\n",
    "      print(f'Prediction: {multilab_bin.inverse_transform(y_pred_row)}')\n",
    "      print(f'Labels: {test_dataset[\"labels\"][i]}')\n",
    "      print('- - - - - - - - - - - - - - - - - - - - - - - - - - - - - - - -')\n",
    "\n",
    "sorted_samples = sorted(sorted_samples, key=lambda tup: tup[-1])"
   ]
  },
  {
   "cell_type": "code",
   "execution_count": null,
   "metadata": {
    "id": "rwe6d2uRozSg"
   },
   "outputs": [],
   "source": [
    "# print the m percent best/worst predictions based on loss\n",
    "m = 10\n",
    "best_worst = 'worst'\n",
    "\n",
    "nbr_elements = (len(test_dataset) * m) // 100\n",
    "\n",
    "top_m = []\n",
    "if best_worst == 'best':\n",
    "  top_m = sorted_samples[:nbr_elements]\n",
    "elif best_worst == 'worst':\n",
    "  top_m = sorted_samples[len(sorted_samples)-nbr_elements:]\n",
    "else:\n",
    "  print('Please choose either \"best\" or \"worst\"')\n",
    "\n",
    "for i in range(len(top_m)):\n",
    "  tup = top_m[i]\n",
    "  pred = multilab_bin.inverse_transform(tup[0])\n",
    "  labels = multilab_bin.inverse_transform(tup[1])\n",
    "  text = tup[2]\n",
    "  loss = tup[3]\n",
    "\n",
    "  print(f'Loss: {loss}')\n",
    "  print(f'{text}')\n",
    "  print(f'Prediction: {pred}')\n",
    "  print(f'Labels: {labels}')\n",
    "  print('- - - - - - - - - - - - - - - - - - - - - - - - -')"
   ]
  },
  {
   "cell_type": "code",
   "execution_count": 19,
   "metadata": {
    "colab": {
     "base_uri": "https://localhost:8080/"
    },
    "id": "a9nyRGILozSg",
    "outputId": "744855a9-9d9d-406c-df33-4d2c885ec084"
   },
   "outputs": [
    {
     "name": "stdout",
     "output_type": "stream",
     "text": [
      "[()]\n"
     ]
    }
   ],
   "source": [
    "text = ''\n",
    "#text = str(test_dataset['text'][i])\n",
    "text = ' '.join(text.split())\n",
    "\n",
    "tokens = basic_tokenization(text)\n",
    "# if tokens is empty, add set tokens to ['x']\n",
    "if len(tokens) <= 1:\n",
    "    tokens = ['x']\n",
    "\n",
    "text_len = len(tokens)\n",
    "ids = [0 for i in range(len(tokens))]\n",
    "for i in range(len(tokens)):\n",
    "    if tokens[i] in word2id:\n",
    "        ids[i] = word2id[tokens[i]]\n",
    "    else:\n",
    "        ids[i] = unk_tok\n",
    "\n",
    "text_len = torch.tensor([text_len], dtype=torch.long).cpu()\n",
    "ids = torch.tensor(ids, dtype=torch.long).to(device)\n",
    "\n",
    "y_pred_row = model(ids, text_len).detach().cpu()#.numpy()\n",
    "\n",
    "y_pred_row[y_pred_row > th] = 1\n",
    "y_pred_row[y_pred_row <= th] = 0\n",
    "\n",
    "print(multilab_bin.inverse_transform(y_pred_row))\n"
   ]
  }
 ],
 "metadata": {
  "accelerator": "GPU",
  "colab": {
   "collapsed_sections": [],
   "name": "rnn_model.ipynb",
   "provenance": []
  },
  "kernelspec": {
   "display_name": "Python 3",
   "language": "python",
   "name": "python3"
  },
  "language_info": {
   "codemirror_mode": {
    "name": "ipython",
    "version": 3
   },
   "file_extension": ".py",
   "mimetype": "text/x-python",
   "name": "python",
   "nbconvert_exporter": "python",
   "pygments_lexer": "ipython3",
   "version": "3.8.5"
  }
 },
 "nbformat": 4,
 "nbformat_minor": 1
}
