{
  "nbformat": 4,
  "nbformat_minor": 0,
  "metadata": {
    "kernelspec": {
      "name": "python3",
      "display_name": "Python 3"
    },
    "colab": {
      "name": "rnn_model.ipynb",
      "provenance": [],
      "collapsed_sections": []
    },
    "accelerator": "GPU"
  },
  "cells": [
    {
      "cell_type": "code",
      "metadata": {
        "colab": {
          "base_uri": "https://localhost:8080/"
        },
        "id": "4V4du-Uio_PV",
        "outputId": "433d5ad0-ded3-4117-c794-67f155946684"
      },
      "source": [
        "from google.colab import drive\r\n",
        "drive.mount('/content/drive')"
      ],
      "execution_count": 1,
      "outputs": [
        {
          "output_type": "stream",
          "text": [
            "Drive already mounted at /content/drive; to attempt to forcibly remount, call drive.mount(\"/content/drive\", force_remount=True).\n"
          ],
          "name": "stdout"
        }
      ]
    },
    {
      "cell_type": "code",
      "metadata": {
        "colab": {
          "base_uri": "https://localhost:8080/"
        },
        "id": "49ui7QY2pDFp",
        "outputId": "893647bc-8791-4350-fb94-15a8aade6cd7"
      },
      "source": [
        "import os\r\n",
        "\r\n",
        "if os.getcwd() == '/content':\r\n",
        "  % cd drive/MyDrive/exjobb_project\r\n",
        "\r\n",
        "print(os.getcwd())"
      ],
      "execution_count": 2,
      "outputs": [
        {
          "output_type": "stream",
          "text": [
            "/content/drive/MyDrive/exjobb_project\n",
            "/content/drive/MyDrive/exjobb_project\n"
          ],
          "name": "stdout"
        }
      ]
    },
    {
      "cell_type": "code",
      "metadata": {
        "id": "9DZ8_MoqozSX"
      },
      "source": [
        "# metrics\n",
        "from sklearn.metrics import f1_score\n",
        "from sklearn.metrics import jaccard_score\n",
        "from sklearn.metrics import accuracy_score\n",
        "from sklearn.metrics import hamming_loss\n",
        "from sklearn.metrics import multilabel_confusion_matrix\n",
        "\n",
        "from sklearn.preprocessing import MultiLabelBinarizer\n",
        "from sklearn.model_selection import train_test_split\n",
        "\n",
        "import regex as re\n",
        "import json\n",
        "import pandas as pd\n",
        "import numpy as np\n",
        "import torch\n",
        "from scipy.interpolate import UnivariateSpline\n",
        "import matplotlib.pyplot as plt\n",
        "from torch.utils.data import Dataset, DataLoader\n",
        "from torch import nn\n",
        "from torch.nn import BCELoss\n",
        "from collections import Counter"
      ],
      "execution_count": 3,
      "outputs": []
    },
    {
      "cell_type": "code",
      "metadata": {
        "id": "b8JLV36KozSY"
      },
      "source": [
        "path_to_data = './data'\n",
        "\n",
        "# create dataframe from sessions.json\n",
        "df = pd.read_json(f'{path_to_data}/sessions.json')\n",
        "df.head()\n",
        "\n",
        "# create dictionaries for switching between symptom and id\n",
        "id2sym = {}\n",
        "sym2id = {}\n",
        "\n",
        "with open(f'{path_to_data}/symptoms.json') as json_file:\n",
        "    data = json.load(json_file)\n",
        "    for sym in data:\n",
        "        id2sym[sym['id']] = sym['name']\n",
        "        sym2id[sym['name']] = sym['id']\n",
        "        \n",
        "        \n",
        "# remove labels that have less than m occurrences\n",
        "m = 0\n",
        "\n",
        "labels_list = df['confirmed'].tolist()\n",
        "labels_list = sum(labels_list, [])\n",
        "c = Counter(labels_list)\n",
        "for i in range(len(df)):\n",
        "    to_remove = []\n",
        "    \n",
        "    # find labels that should be removed \n",
        "    for j in range(len(df['confirmed'][i])):\n",
        "        if c[df['confirmed'][i][j]] < m:\n",
        "            to_remove.append(j)\n",
        "            \n",
        "    # remove the labels\n",
        "    shift = 0\n",
        "    for j in range(len(to_remove)):\n",
        "        df['confirmed'][i].pop(to_remove[j]-shift)\n",
        "        shift += 1\n",
        "    \n",
        "        \n",
        "# add column with the symptom names\n",
        "sym_names = []\n",
        "\n",
        "for syms in df['confirmed']:\n",
        "    if len(syms) != 0:\n",
        "        sym_names.append([id2sym[x] for x in syms])\n",
        "    else:\n",
        "        sym_names.append([])\n",
        "\n",
        "df['labels'] = sym_names\n",
        "\n",
        "# remove all rows with no confirmed labels\n",
        "df = df[df['confirmed'].map(len) > 0]\n",
        "df = df.reset_index(drop=True)"
      ],
      "execution_count": 4,
      "outputs": []
    },
    {
      "cell_type": "code",
      "metadata": {
        "colab": {
          "base_uri": "https://localhost:8080/",
          "height": 204
        },
        "id": "pzv2HOX1ozSZ",
        "outputId": "ec34bae6-01dd-4235-81dc-f93eefef29f3"
      },
      "source": [
        "df.drop('confirmed', inplace=True, axis=1)\n",
        "df.drop('suggested', inplace=True, axis=1)\n",
        "#df = df[0:500]\n",
        "df.head()"
      ],
      "execution_count": 5,
      "outputs": [
        {
          "output_type": "execute_result",
          "data": {
            "text/html": [
              "<div>\n",
              "<style scoped>\n",
              "    .dataframe tbody tr th:only-of-type {\n",
              "        vertical-align: middle;\n",
              "    }\n",
              "\n",
              "    .dataframe tbody tr th {\n",
              "        vertical-align: top;\n",
              "    }\n",
              "\n",
              "    .dataframe thead th {\n",
              "        text-align: right;\n",
              "    }\n",
              "</style>\n",
              "<table border=\"1\" class=\"dataframe\">\n",
              "  <thead>\n",
              "    <tr style=\"text-align: right;\">\n",
              "      <th></th>\n",
              "      <th>text</th>\n",
              "      <th>labels</th>\n",
              "    </tr>\n",
              "  </thead>\n",
              "  <tbody>\n",
              "    <tr>\n",
              "      <th>0</th>\n",
              "      <td>Slut på medicin.</td>\n",
              "      <td>[Känd astma, Känd lungsjukdom]</td>\n",
              "    </tr>\n",
              "    <tr>\n",
              "      <th>1</th>\n",
              "      <td>Behöver att prata med psykolog angående använd...</td>\n",
              "      <td>[Nedstämdhet, Trötthet]</td>\n",
              "    </tr>\n",
              "    <tr>\n",
              "      <th>2</th>\n",
              "      <td>Har fått besvärlig eksem på händerna</td>\n",
              "      <td>[Hudbesvär, Synliga hudbesvär]</td>\n",
              "    </tr>\n",
              "    <tr>\n",
              "      <th>3</th>\n",
              "      <td>Muskelsvaghet och trötthet känner mig skakig o...</td>\n",
              "      <td>[Muskelsvaghet, Trötthet]</td>\n",
              "    </tr>\n",
              "    <tr>\n",
              "      <th>4</th>\n",
              "      <td>Svår smärta i vänsterhanden/handleden precis n...</td>\n",
              "      <td>[Smärta i handled eller fingrar, Förvärras av ...</td>\n",
              "    </tr>\n",
              "  </tbody>\n",
              "</table>\n",
              "</div>"
            ],
            "text/plain": [
              "                                                text                                             labels\n",
              "0                                   Slut på medicin.                     [Känd astma, Känd lungsjukdom]\n",
              "1  Behöver att prata med psykolog angående använd...                            [Nedstämdhet, Trötthet]\n",
              "2              Har fått besvärlig eksem på händerna                      [Hudbesvär, Synliga hudbesvär]\n",
              "3  Muskelsvaghet och trötthet känner mig skakig o...                          [Muskelsvaghet, Trötthet]\n",
              "4  Svår smärta i vänsterhanden/handleden precis n...  [Smärta i handled eller fingrar, Förvärras av ..."
            ]
          },
          "metadata": {
            "tags": []
          },
          "execution_count": 5
        }
      ]
    },
    {
      "cell_type": "code",
      "metadata": {
        "colab": {
          "base_uri": "https://localhost:8080/"
        },
        "id": "Fdk9K-ANozSa",
        "outputId": "b7b01940-7cfe-43c4-f44e-7e8c4b961183"
      },
      "source": [
        "# a basic tokenizer to start off with\n",
        "def basic_tokenization(text):\n",
        "    text = text.lower()\n",
        "\n",
        "    # substitute all characters that are not letters or whitespace with ' '\n",
        "    tokens = re.sub(r'[^\\p{L} ]', ' ', text).split()\n",
        "    \n",
        "    return tokens\n",
        "\n",
        "test = 'Hej, hur är läget?sdfs'\n",
        "print(basic_tokenization(test))"
      ],
      "execution_count": 6,
      "outputs": [
        {
          "output_type": "stream",
          "text": [
            "['hej', 'hur', 'är', 'läget', 'sdfs']\n"
          ],
          "name": "stdout"
        }
      ]
    },
    {
      "cell_type": "code",
      "metadata": {
        "colab": {
          "base_uri": "https://localhost:8080/"
        },
        "id": "0x2IW7_cE5nI",
        "outputId": "4df0e322-a43a-4e46-c19b-2f3f424adb86"
      },
      "source": [
        "# create dictionary that assigns a unique integer index for each word in the embeddings\n",
        "word2idx = {}\n",
        "id_count = 0\n",
        "\n",
        "use_pretrained = True\n",
        "embedding_weights = None\n",
        "\n",
        "# ids for padding and unkown tokens \n",
        "pad_tok = None\n",
        "unk_tok = None\n",
        "\n",
        "if use_pretrained:\n",
        "  print('Using pretrained embeddings ...')\n",
        "\n",
        "  #path_to_embeds = './embeddings/swectors-300dim.txt'\n",
        "  #path_to_embeds = './embeddings/sgns-300-iter40-win10.txt'\n",
        "  #path_to_embeds = './embeddings/sgns-100-iter40-win10.txt'\n",
        "  #path_to_embeds = './embeddings/ltcorpus_cbow-300-iter20-win10.txt'\n",
        "  path_to_embeds = './embeddings/ltcorpus_cbow-300-iter40-win10.txt'\n",
        "  #path_to_embeds = './embeddings/ltcorpus_cbow-150-iter40-win10.txt'\n",
        "\n",
        "  #path_to_embeds = './embeddings/ltcorpus_sgns-300-iter40-win6.txt'\n",
        "  \n",
        "\n",
        "  with open(path_to_embeds, encoding='utf-8') as file:\n",
        "      # initialize the embedding weights matrix with zeros\n",
        "      dims = [int(x) for x in file.readline().split()]\n",
        "      print(dims)\n",
        "      embedding_weights = torch.zeros((dims[0]+2,dims[1]), dtype=torch.float64)    \n",
        "      \n",
        "      # set first two rows as padding and unknown token\n",
        "      pad_tok = 0\n",
        "      unk_tok = 1\n",
        "      id_count += 2\n",
        "\n",
        "      line = file.readline().split()\n",
        "      while line != []:\n",
        "          word2idx[line[0]] = id_count\n",
        "          embedding_weights[id_count,:] = torch.tensor([float(x) for x in line[1:]])\n",
        "          id_count += 1\n",
        "          \n",
        "          line = file.readline()\n",
        "          line = line.split()\n",
        "          \n",
        "      #pad_tok = word2idx['<>']\n",
        "      #unk_tok = word2idx['<>det']\n",
        "else:\n",
        "  print('Not using pretrained embeddings ...')\n",
        "  pad_tok = 0\n",
        "  unk_tok = 1\n",
        "  id_count += 2\n",
        "\n",
        "  for i in range(len(df)):\n",
        "    text = df['text'][i]\n",
        "    tokens = basic_tokenization(text)\n",
        "\n",
        "    for tok in tokens:\n",
        "      if tok not in word2idx:\n",
        "        word2idx[tok] = id_count\n",
        "        id_count += 1\n",
        "  print(f'Vocabulary size: {len(word2idx)}')"
      ],
      "execution_count": 7,
      "outputs": [
        {
          "output_type": "stream",
          "text": [
            "Using pretrained embeddings ...\n",
            "[149690, 300]\n"
          ],
          "name": "stdout"
        }
      ]
    },
    {
      "cell_type": "code",
      "metadata": {
        "id": "P0R5lOB2ozSc"
      },
      "source": [
        "# train a multilabel_binarizer on the labels\n",
        "labels = df['labels'].tolist()\n",
        "multilab_bin = MultiLabelBinarizer()\n",
        "multilab_bin.fit(labels)\n",
        "\n",
        "class CustomDataset(Dataset):\n",
        "    def __init__(self, dataframe, tokenizer, word2idx, multilab_bin, unk_tok):\n",
        "        self.tokenizer = tokenizer\n",
        "        self.word2idx = word2idx\n",
        "        self.multilab_bin = multilab_bin\n",
        "        self.data = dataframe\n",
        "        self.text = self.data['text']\n",
        "        self.labels = self.data['labels']\n",
        "        self.unk_tok = unk_tok\n",
        "        \n",
        "    def __len__(self):\n",
        "        return len(self.text)\n",
        "    \n",
        "    def __getitem__(self, index):\n",
        "        text = str(self.text[index])\n",
        "        text = ' '.join(text.split())\n",
        "        \n",
        "        tokens = self.tokenizer(text)\n",
        "        # if tokens is empty, set tokens to ['x']\n",
        "        if len(tokens) <= 1:\n",
        "            tokens = ['x']\n",
        "        \n",
        "        text_len = len(tokens)\n",
        "        ids = [0 for i in range(len(tokens))]\n",
        "        for i in range(len(tokens)):\n",
        "            if tokens[i] in word2idx:\n",
        "                ids[i] = word2idx[tokens[i]]\n",
        "            else:\n",
        "                ids[i] = self.unk_tok\n",
        "\n",
        "        \n",
        "        return {\n",
        "            'lens': text_len,\n",
        "            'ids': torch.tensor(ids, dtype=torch.long),\n",
        "            'labels': torch.tensor(np.sum(self.multilab_bin.transform([self.labels[index]]), axis=0), dtype=torch.float)\n",
        "        }      \n",
        "    \n",
        "# collate function for the dataloader\n",
        "def collate_fn(batch):\n",
        "    # sort token-id sequences by length\n",
        "    for_sorting = [(batch[i]['lens'],batch[i]['ids'],batch[i]['labels']) for i in range(len(batch))]\n",
        "    for_sorting = sorted(for_sorting, key=lambda tup: tup[0], reverse=True)\n",
        "    \n",
        "    # pad token-id sequences to max_len_batch\n",
        "    max_len_batch = for_sorting[0][0]\n",
        "    \n",
        "    lens = [0 for i in range(len(batch))]\n",
        "    ids = torch.zeros((len(batch), max_len_batch), dtype=torch.long)\n",
        "    labels = torch.zeros((len(batch), len(batch[0]['labels'])))\n",
        "    \n",
        "    for i in range(len(batch)):\n",
        "        temp = torch.tensor([pad_tok for j in range(max_len_batch)])\n",
        "        temp[:for_sorting[i][0]] = for_sorting[i][1]\n",
        "        \n",
        "        lens[i] = for_sorting[i][0]\n",
        "        ids[i,:] = temp\n",
        "        labels[i,:] = for_sorting[i][2]\n",
        "        \n",
        "    return lens, ids, labels"
      ],
      "execution_count": 8,
      "outputs": []
    },
    {
      "cell_type": "code",
      "metadata": {
        "colab": {
          "base_uri": "https://localhost:8080/"
        },
        "id": "zjhY4k_uozSc",
        "outputId": "57638ab7-80b4-462b-8b6e-d5e2ab274838"
      },
      "source": [
        "batch_size = 16\n",
        "\n",
        "# max number of tokens in text\n",
        "max_len = 0\n",
        "for i in range(len(df['text'])):\n",
        "    text = df['text'][i]\n",
        "            \n",
        "    tokens = basic_tokenization(text)\n",
        "    \n",
        "    if len(tokens) > max_len:\n",
        "        max_len = len(tokens)\n",
        "\n",
        "print(f'Largest sequence among texts: {max_len}')\n",
        "\n",
        "train_dataset, test_dataset = train_test_split(df,\n",
        "                                        random_state=42,\n",
        "                                        test_size=0.2,\n",
        "                                        shuffle=True)\n",
        "train_dataset = train_dataset.reset_index(drop=True)\n",
        "test_dataset = test_dataset.reset_index(drop=True)\n",
        "\n",
        "train_set = CustomDataset(train_dataset, basic_tokenization, word2idx, multilab_bin, unk_tok)\n",
        "test_set = CustomDataset(test_dataset, basic_tokenization, word2idx, multilab_bin, unk_tok)\n",
        "\n",
        "train_params = {'batch_size': batch_size,\n",
        "                'shuffle': True,\n",
        "                'num_workers': 0,\n",
        "                'collate_fn': collate_fn\n",
        "               }\n",
        "test_params = {'batch_size': batch_size,\n",
        "               'shuffle': True,\n",
        "               'num_workers': 0,\n",
        "               'collate_fn': collate_fn\n",
        "              }\n",
        "\n",
        "train_loader = DataLoader(train_set, **train_params)\n",
        "test_loader = DataLoader(test_set, **test_params)\n",
        "\n",
        "print(f'Train set: {len(train_dataset)} samples')\n",
        "print(f'Test set: {len(test_dataset)} samples')"
      ],
      "execution_count": 9,
      "outputs": [
        {
          "output_type": "stream",
          "text": [
            "Largest sequence among texts: 99\n",
            "Train set: 3027 samples\n",
            "Test set: 757 samples\n"
          ],
          "name": "stdout"
        }
      ]
    },
    {
      "cell_type": "code",
      "metadata": {
        "colab": {
          "base_uri": "https://localhost:8080/"
        },
        "id": "LY8cCk9_ozSd",
        "outputId": "e71b0b00-7f66-4469-ecf2-aff553280185"
      },
      "source": [
        "# decide which device to use. use cuda if available\n",
        "dev = ''\n",
        "if torch.cuda.is_available():\n",
        "    dev = 'cuda:0'\n",
        "else:\n",
        "    dev = 'cpu'\n",
        "\n",
        "print(f'dev = {dev}')\n",
        "print(f'Number of available GPUs: {torch.cuda.device_count()}')\n",
        "\n",
        "# print the device names\n",
        "for i in range(torch.cuda.device_count()):\n",
        "    print(f'Device {i}: {torch.cuda.get_device_name(i)}')\n",
        "\n",
        "device = torch.device(dev)"
      ],
      "execution_count": 10,
      "outputs": [
        {
          "output_type": "stream",
          "text": [
            "dev = cuda:0\n",
            "Number of available GPUs: 1\n",
            "Device 0: Tesla T4\n"
          ],
          "name": "stdout"
        }
      ]
    },
    {
      "cell_type": "code",
      "metadata": {
        "id": "estS0oVZozSd"
      },
      "source": [
        "class RNN(nn.Module):\n",
        "    def __init__(self, embeddings, hidden_dim, num_layers, dropout, output_dim):\n",
        "        super(RNN, self).__init__()\n",
        "        self.hidden_dim = hidden_dim\n",
        "        self.num_layers = num_layers\n",
        "        self.dropout = dropout\n",
        "        self.output_dim = output_dim\n",
        "        \n",
        "        self.word_embeddings = None\n",
        "        embedding_dim = 0\n",
        "        if embeddings != None:\n",
        "          embedding_dim = embeddings.shape[1]\n",
        "          self.word_embeddings = nn.Embedding.from_pretrained(embeddings, freeze=False)\n",
        "        else:\n",
        "          embedding_dim = 50\n",
        "          self.word_embeddings = nn.Embedding(id_count, embedding_dim)\n",
        "\n",
        "        self.rnn = nn.LSTM(embedding_dim, hidden_dim, num_layers, dropout=dropout, batch_first=True, bidirectional=True)\n",
        "        self.fc = nn.Linear(2*num_layers*hidden_dim, output_dim)\n",
        "        self.sigm = nn.Sigmoid()\n",
        "        \n",
        "    # sentences contains padded token-id sequences sorted by length\n",
        "    def forward(self, sentences, sent_lengths):\n",
        "        embeds = self.word_embeddings(sentences)\n",
        "        \n",
        "        # pack_padded_sequnce so that padded items won't be shown to the RNN\n",
        "        if len(sent_lengths) > 1:\n",
        "            X = torch.nn.utils.rnn.pack_padded_sequence(embeds, sent_lengths, batch_first=True)\n",
        "        else:\n",
        "            X = embeds.view(1,sent_lengths[0],-1)\n",
        "        \n",
        "        X = X.float()\n",
        "        _, hc = self.rnn(X)\n",
        "        \n",
        "        # make use of the final hidden state\n",
        "        X = hc[0] # if LSTM\n",
        "        #X = hc # if GRU\n",
        "\n",
        "        # reshape X to fit the linear layer\n",
        "        temp_X = X[0,:,:]\n",
        "        for i in range(1,X.shape[0]):\n",
        "          temp_X = torch.cat((temp_X, X[i,:,:]), 1)\n",
        "        \n",
        "        X = self.fc(temp_X)\n",
        "        X = self.sigm(X)\n",
        "        \n",
        "        return X"
      ],
      "execution_count": 11,
      "outputs": []
    },
    {
      "cell_type": "code",
      "metadata": {
        "id": "GM4I7iasozSd"
      },
      "source": [
        "# compute the loss of an epoch by averaging all batch losses\n",
        "def epoch_loss(model, data_loader, criterion):\n",
        "    loss = 0\n",
        "    batch_count = 0\n",
        "    \n",
        "    model.eval()\n",
        "    with torch.no_grad():\n",
        "        for idx,batch in enumerate(data_loader):\n",
        "            lens, ids, labels = batch\n",
        "            lens = torch.tensor(lens, dtype=torch.long)#.to(device)\n",
        "            ids = ids.to(device)\n",
        "            labels = labels.to(device)\n",
        "            \n",
        "            outputs = model(ids, lens)\n",
        "            loss += criterion(outputs, labels)\n",
        "            batch_count += 1\n",
        "    model.train()\n",
        "    return loss / batch_count"
      ],
      "execution_count": 12,
      "outputs": []
    },
    {
      "cell_type": "code",
      "metadata": {
        "id": "SYxcOHjYozSe"
      },
      "source": [
        "# define the model\n",
        "output_dim = len(multilab_bin.classes_)\n",
        "hidden_dim = 512\n",
        "num_layers = 2\n",
        "dropout = 0\n",
        "if embedding_weights != None: embedding_weights = embedding_weights.to(device)\n",
        "\n",
        "model = RNN(embedding_weights, hidden_dim, num_layers, dropout, output_dim)\n",
        "model.train()\n",
        "model.to(device)\n",
        "\n",
        "# number of epochs trained\n",
        "epochs_trained = 0\n",
        "\n",
        "# losses over entire train-/test-set per epoch\n",
        "train_losses = []\n",
        "test_losses = []\n",
        "\n",
        "learning_rate = 0.0001\n",
        "\n",
        "criterion = torch.nn.BCELoss()\n",
        "optimizer = torch.optim.Adam(model.parameters(), lr=learning_rate)\n",
        "\n",
        "# define learning rate scheduler\n",
        "#lmbda = lambda epoch: 0.95\n",
        "#scheduler = torch.optim.lr_scheduler.MultiplicativeLR(optimizer, lr_lambda=lmbda)"
      ],
      "execution_count": 13,
      "outputs": []
    },
    {
      "cell_type": "code",
      "metadata": {
        "colab": {
          "base_uri": "https://localhost:8080/"
        },
        "id": "-PROe1XUozSe",
        "outputId": "ee52e23a-9b07-4658-8ca1-fbc9d6a19fb5"
      },
      "source": [
        "# training loop\n",
        "model.train()\n",
        "\n",
        "# if the test loss has not improved in the last k epochs, stop training\n",
        "k = 5\n",
        "\n",
        "num_epochs = 50\n",
        "for epoch in range(num_epochs):\n",
        "    for idx,batch in enumerate(train_loader):\n",
        "        lens, ids, labels = batch\n",
        "        lens = torch.tensor(lens, dtype=torch.long)#.to(device)\n",
        "        ids = ids.to(device)\n",
        "        labels = labels.to(device)\n",
        "        \n",
        "        # zero the parameter gradients\n",
        "        optimizer.zero_grad()\n",
        "\n",
        "        # forward pass\n",
        "        outputs = model(ids, lens)\n",
        "        \n",
        "        # backward pass\n",
        "        loss = criterion(outputs, labels)\n",
        "        loss.backward()\n",
        "        optimizer.step()\n",
        "        \n",
        "    # save the losses\n",
        "    train_losses.append(epoch_loss(model, train_loader, criterion))\n",
        "    test_losses.append(epoch_loss(model, test_loader, criterion))\n",
        "\n",
        "    epochs_trained += 1\n",
        "\n",
        "    # take a step with the lr_scheduler\n",
        "    #scheduler.step()\n",
        "    \n",
        "    print(f'End of epoch {epochs_trained}, Train Loss: {train_losses[-1]:.7f}, Test Loss: {test_losses[-1]:.7f}')\n",
        "    \n",
        "    # if the test loss has not improved in the last k epochs break\n",
        "    if len(test_losses) > k and all(test_losses[-(k+1)] < tl for tl in test_losses[-k:]):\n",
        "        print(f'Test loss has not improved in the last {k} epochs. Stopping ...')\n",
        "        break"
      ],
      "execution_count": 14,
      "outputs": [
        {
          "output_type": "stream",
          "text": [
            "End of epoch 1, Train Loss: 0.0429268, Test Loss: 0.0433895\n",
            "End of epoch 2, Train Loss: 0.0391439, Test Loss: 0.0396742\n",
            "End of epoch 3, Train Loss: 0.0353551, Test Loss: 0.0363418\n",
            "End of epoch 4, Train Loss: 0.0337866, Test Loss: 0.0353182\n",
            "End of epoch 5, Train Loss: 0.0311894, Test Loss: 0.0339788\n",
            "End of epoch 6, Train Loss: 0.0286400, Test Loss: 0.0316096\n",
            "End of epoch 7, Train Loss: 0.0268584, Test Loss: 0.0304024\n",
            "End of epoch 8, Train Loss: 0.0250883, Test Loss: 0.0294277\n",
            "End of epoch 9, Train Loss: 0.0235960, Test Loss: 0.0290799\n",
            "End of epoch 10, Train Loss: 0.0219180, Test Loss: 0.0284326\n",
            "End of epoch 11, Train Loss: 0.0203163, Test Loss: 0.0278309\n",
            "End of epoch 12, Train Loss: 0.0189761, Test Loss: 0.0278652\n",
            "End of epoch 13, Train Loss: 0.0176711, Test Loss: 0.0271721\n",
            "End of epoch 14, Train Loss: 0.0161509, Test Loss: 0.0271748\n",
            "End of epoch 15, Train Loss: 0.0147657, Test Loss: 0.0273765\n",
            "End of epoch 16, Train Loss: 0.0134813, Test Loss: 0.0267852\n",
            "End of epoch 17, Train Loss: 0.0127662, Test Loss: 0.0266385\n",
            "End of epoch 18, Train Loss: 0.0115855, Test Loss: 0.0270177\n",
            "End of epoch 19, Train Loss: 0.0104863, Test Loss: 0.0272022\n",
            "End of epoch 20, Train Loss: 0.0093453, Test Loss: 0.0272417\n",
            "End of epoch 21, Train Loss: 0.0087078, Test Loss: 0.0268229\n",
            "End of epoch 22, Train Loss: 0.0079399, Test Loss: 0.0272452\n",
            "Test loss has not improved in the last 5 epochs. Stopping ...\n"
          ],
          "name": "stdout"
        }
      ]
    },
    {
      "cell_type": "code",
      "metadata": {
        "id": "XsAoIyRjozSf"
      },
      "source": [
        "# get the predicitons and corresponding labels\n",
        "def get_pred_true(model, data_loader, D_out):\n",
        "\n",
        "    y_pred = np.zeros((1,D_out))\n",
        "    y_true = np.zeros((1,D_out))\n",
        "  \n",
        "    with torch.no_grad():\n",
        "        for idx,batch in enumerate(data_loader):\n",
        "            lens, ids, labels = batch\n",
        "            lens = torch.tensor(lens, dtype=torch.long)#.to(device)\n",
        "            ids = ids.to(device)\n",
        "            labels = labels.to(device)\n",
        "            \n",
        "            outputs = model(ids, lens)\n",
        "            \n",
        "            y_pred = np.concatenate((y_pred,outputs.detach().cpu().numpy()), axis=0)\n",
        "            y_true = np.concatenate((y_true,np.array(labels.cpu())), axis=0)\n",
        "            \n",
        "    return y_pred[1:,:], y_true[1:,:]\n",
        "\n",
        "model.eval()  \n",
        "y_pred_temp, y_true = get_pred_true(model, test_loader, output_dim)"
      ],
      "execution_count": 15,
      "outputs": []
    },
    {
      "cell_type": "code",
      "metadata": {
        "id": "9zHmy5LMozSf",
        "colab": {
          "base_uri": "https://localhost:8080/",
          "height": 705
        },
        "outputId": "0e1393c2-fcb6-4188-8710-fab5a17f7203"
      },
      "source": [
        "# set all values above threshold to 1, else 0\n",
        "th = 0.5\n",
        "y_pred = np.copy(y_pred_temp)\n",
        "y_pred[y_pred > th] = 1\n",
        "y_pred[y_pred <= th] = 0\n",
        "\n",
        "# number of labels in test set\n",
        "#labels_in_test = np.count_nonzero(np.sum(y_true, axis=0))\n",
        "label_counts_test = np.sum(multilab_bin.transform(test_dataset['labels']), axis=0)\n",
        "labels_in_test = np.count_nonzero(label_counts_test)\n",
        "\n",
        "# number of labels in train set\n",
        "label_counts_train = np.sum(multilab_bin.transform(train_dataset['labels']), axis=0)\n",
        "labels_in_train = np.count_nonzero(label_counts_train)\n",
        "\n",
        "# compute size of intersection between labels in train and test\n",
        "label_counts_test[label_counts_test > 0] = 1\n",
        "labels_bin_test = label_counts_test\n",
        "\n",
        "label_counts_train[label_counts_train > 0] = 1\n",
        "labels_bin_train = label_counts_train\n",
        "\n",
        "labels_bin_sum = labels_bin_test + labels_bin_train\n",
        "labels_intersect = np.count_nonzero(labels_bin_sum[labels_bin_sum == 2])\n",
        "\n",
        "print(f'Number of labels in training set: {labels_in_train}/{y_true.shape[1]} ({labels_in_train/y_true.shape[1]*100:.2f} %)')\n",
        "print(f'Number of labels in test set: {labels_in_test}/{y_true.shape[1]} ({labels_in_test/y_true.shape[1]*100:.2f} %)')\n",
        "print(f'Number of labels present in both sets: {labels_intersect}/{y_true.shape[1]} ({labels_intersect/y_true.shape[1]*100:.2f} %)')\n",
        "print()\n",
        "print(f\"Micro-average F1-score: {f1_score(y_true, y_pred, average='micro')}\")\n",
        "print(f\"Weighted-average F1-score: {f1_score(y_true, y_pred, average='weighted', zero_division=1)}\")\n",
        "print(f\"Macro-average F1-score: {f1_score(y_true, y_pred, average='macro', zero_division=1)}\")\n",
        "#print(f\"Sample-average Jaccard score: {jaccard_score(y_true, y_pred, average='samples', zero_division=1)}\")\n",
        "print(f\"Accuracy (exact match): {accuracy_score(y_true, y_pred)}\")\n",
        "print(f\"Hamming Loss: {hamming_loss(y_true, y_pred)}\")\n",
        "\n",
        "x = [x for x in range(1,len(train_losses)+1)]\n",
        "xticks = [x*len(train_losses)//5 for x in range(1,6)]\n",
        "plt.plot(x, test_losses)\n",
        "plt.plot(x, train_losses)\n",
        "plt.legend(['Test Loss', 'Train Loss'])\n",
        "plt.xticks(xticks,xticks)\n",
        "plt.xlabel('Epoch')\n",
        "plt.ylabel('Loss')\n",
        "plt.show()\n",
        "\n",
        "# plot f1-score in relation to label frequency in training set\n",
        "f1_per_label = f1_score(y_true, y_pred, average=None, zero_division=0)\n",
        "label_counts_train = np.sum(multilab_bin.transform(train_dataset['labels']), axis=0)\n",
        "label_counts_test = np.sum(multilab_bin.transform(test_dataset['labels']), axis=0)\n",
        "\n",
        "# only include labels that are present in the test set\n",
        "zipped = [(f1_per_label[i], label_counts_test[i], label_counts_train[i]) for i in range(len(label_counts_test)) if label_counts_test[i] > 0]\n",
        "zipped = sorted(zipped, key=lambda tup: tup[2])\n",
        "\n",
        "f1_per_label = [zipped[i][0] for i in range(len(zipped))]\n",
        "label_counts_train = [zipped[i][2] for i in range(len(zipped))]\n",
        "\n",
        "# make a regression over the data points\n",
        "s = UnivariateSpline(label_counts_train, f1_per_label, k=3, s=5)\n",
        "xs = np.linspace(1,label_counts_train[-1])\n",
        "ys = s(xs)\n",
        "\n",
        "fig = plt.figure()\n",
        "ax = fig.add_subplot(1,1,1)\n",
        "plt.plot(label_counts_train, f1_per_label)\n",
        "plt.plot(label_counts_train, f1_per_label, '.')\n",
        "plt.plot(xs,ys)\n",
        "ax.set_xscale('log')\n",
        "ax.set_ylim((0,1))\n",
        "plt.xlabel('Label frequency in training set')\n",
        "plt.ylabel('F1-score')\n",
        "plt.grid(True, which='both', linestyle=':')\n",
        "plt.show()"
      ],
      "execution_count": 16,
      "outputs": [
        {
          "output_type": "stream",
          "text": [
            "Number of labels in training set: 186/197 (94.42 %)\n",
            "Number of labels in test set: 140/197 (71.07 %)\n",
            "Number of labels present in both sets: 129/197 (65.48 %)\n",
            "\n",
            "Micro-average F1-score: 0.5919208573784007\n",
            "Weighted-average F1-score: 0.5249136474681861\n",
            "Macro-average F1-score: 0.37465114708190905\n",
            "Accuracy (exact match): 0.2813738441215324\n",
            "Hamming Loss: 0.006638547834425229\n"
          ],
          "name": "stdout"
        },
        {
          "output_type": "display_data",
          "data": {
            "image/png": "[encoded data removed]",
            "text/plain": [
              "<Figure size 432x288 with 1 Axes>"
            ]
          },
          "metadata": {
            "tags": [],
            "needs_background": "light"
          }
        },
        {
          "output_type": "display_data",
          "data": {
            "image/png": "[encoded data removed]",
            "text/plain": [
              "<Figure size 432x288 with 1 Axes>"
            ]
          },
          "metadata": {
            "tags": [],
            "needs_background": "light"
          }
        }
      ]
    },
    {
      "cell_type": "code",
      "metadata": {
        "id": "sQ2nbUNTozSg"
      },
      "source": [
        "model.eval()\n",
        "\n",
        "# get a list of tuples containing the samples sorted by loss\n",
        "sorted_samples = []\n",
        "\n",
        "for i in range(len(test_dataset)):\n",
        "    text = str(test_dataset['text'][i])\n",
        "    text = ' '.join(text.split())\n",
        "\n",
        "    tokens = basic_tokenization(text)\n",
        "    # if tokens is empty, add set tokens to ['x']\n",
        "    if len(tokens) <= 1:\n",
        "        tokens = ['x']\n",
        "\n",
        "    text_len = len(tokens)\n",
        "    ids = [0 for j in range(len(tokens))]\n",
        "    for j in range(len(tokens)):\n",
        "        if tokens[j] in word2idx:\n",
        "            ids[j] = word2idx[tokens[j]]\n",
        "        else:\n",
        "            ids[j] = unk_tok\n",
        "\n",
        "    text_len = torch.tensor([text_len], dtype=torch.long).cpu()\n",
        "    ids = torch.tensor(ids, dtype=torch.long).to(device)\n",
        "    \n",
        "    y_pred_row = model(ids, text_len).detach().cpu()#.numpy()\n",
        "    y_true = torch.tensor(multilab_bin.transform([test_dataset['labels'][i]]), dtype=torch.float)\n",
        "    \n",
        "    loss = criterion(y_pred_row, y_true)\n",
        "\n",
        "    # turn y_pred_row to ones and zeros based on threshold 'th'\n",
        "    y_pred_row[y_pred_row > th] = 1\n",
        "    y_pred_row[y_pred_row <= th] = 0\n",
        "\n",
        "    sorted_samples.append((y_pred_row, y_true, test_dataset['text'][i], loss))\n",
        "\n",
        "    if False:\n",
        "      print(text)\n",
        "      print(f'Prediction: {multilab_bin.inverse_transform(y_pred_row)}')\n",
        "      print(f'Labels: {test_dataset[\"labels\"][i]}')\n",
        "      print('- - - - - - - - - - - - - - - - - - - - - - - - - - - - - - - -')\n",
        "\n",
        "sorted_samples = sorted(sorted_samples, key=lambda tup: tup[-1])"
      ],
      "execution_count": 17,
      "outputs": []
    },
    {
      "cell_type": "code",
      "metadata": {
        "id": "rwe6d2uRozSg"
      },
      "source": [
        "# print the m percent best/worst predictions based on loss\r\n",
        "m = 10\r\n",
        "best_worst = 'worst'\r\n",
        "\r\n",
        "nbr_elements = (len(test_dataset) * m) // 100\r\n",
        "\r\n",
        "top_m = []\r\n",
        "if best_worst == 'best':\r\n",
        "  top_m = sorted_samples[:nbr_elements]\r\n",
        "elif best_worst == 'worst':\r\n",
        "  top_m = sorted_samples[len(sorted_samples)-nbr_elements:]\r\n",
        "else:\r\n",
        "  print('Please choose either \"best\" or \"worst\"')\r\n",
        "\r\n",
        "for i in range(len(top_m)):\r\n",
        "  tup = top_m[i]\r\n",
        "  pred = multilab_bin.inverse_transform(tup[0])\r\n",
        "  labels = multilab_bin.inverse_transform(tup[1])\r\n",
        "  text = tup[2]\r\n",
        "  loss = tup[3]\r\n",
        "\r\n",
        "  print(f'Loss: {loss}')\r\n",
        "  print(f'{text}')\r\n",
        "  print(f'Prediction: {pred}')\r\n",
        "  print(f'Labels: {labels}')\r\n",
        "  print('- - - - - - - - - - - - - - - - - - - - - - - - -')"
      ],
      "execution_count": null,
      "outputs": []
    },
    {
      "cell_type": "code",
      "metadata": {
        "id": "a9nyRGILozSg",
        "colab": {
          "base_uri": "https://localhost:8080/"
        },
        "outputId": "33160a1f-4d7e-4922-930c-c32d80e7fbcc"
      },
      "source": [
        "text = ''\r\n",
        "#text = str(test_dataset['text'][i])\r\n",
        "text = ' '.join(text.split())\r\n",
        "\r\n",
        "tokens = basic_tokenization(text)\r\n",
        "# if tokens is empty, add set tokens to ['x']\r\n",
        "if len(tokens) <= 1:\r\n",
        "    tokens = ['x']\r\n",
        "\r\n",
        "text_len = len(tokens)\r\n",
        "ids = [0 for i in range(len(tokens))]\r\n",
        "for i in range(len(tokens)):\r\n",
        "    if tokens[i] in word2idx:\r\n",
        "        ids[i] = word2idx[tokens[i]]\r\n",
        "    else:\r\n",
        "        ids[i] = unk_tok\r\n",
        "\r\n",
        "text_len = torch.tensor([text_len], dtype=torch.long).cpu()\r\n",
        "ids = torch.tensor(ids, dtype=torch.long).to(device)\r\n",
        "\r\n",
        "y_pred_row = model(ids, text_len).detach().cpu()#.numpy()\r\n",
        "\r\n",
        "y_pred_row[y_pred_row > th] = 1\r\n",
        "y_pred_row[y_pred_row <= th] = 0\r\n",
        "\r\n",
        "print(multilab_bin.inverse_transform(y_pred_row))\r\n"
      ],
      "execution_count": 19,
      "outputs": [
        {
          "output_type": "stream",
          "text": [
            "[()]\n"
          ],
          "name": "stdout"
        }
      ]
    },
    {
      "cell_type": "code",
      "metadata": {
        "id": "Zc1k4lxgK8RF",
        "colab": {
          "base_uri": "https://localhost:8080/"
        },
        "outputId": "0fd9a519-4b53-4d1d-88aa-555522cbfe5e"
      },
      "source": [
        "input_1 = torch.ones(3, 10)\r\n",
        "input_2 = torch.ones(5, 10) * 2\r\n",
        "input_3 = torch.ones(7, 10) * 3\r\n",
        "\r\n",
        "inputs = [input_3, input_2, input_1]\r\n",
        "input_lengths = [7, 5, 3]\r\n",
        "\r\n",
        "padded = torch.nn.utils.rnn.pad_sequence(inputs, batch_first=True)\r\n",
        "\r\n",
        "print(padded)\r\n",
        "\r\n",
        "packed = torch.nn.utils.rnn.pack_padded_sequence(padded, input_lengths, batch_first=True)\r\n",
        "\r\n",
        "print(packed)"
      ],
      "execution_count": 20,
      "outputs": [
        {
          "output_type": "stream",
          "text": [
            "tensor([[[3., 3., 3., 3., 3., 3., 3., 3., 3., 3.],\n",
            "         [3., 3., 3., 3., 3., 3., 3., 3., 3., 3.],\n",
            "         [3., 3., 3., 3., 3., 3., 3., 3., 3., 3.],\n",
            "         [3., 3., 3., 3., 3., 3., 3., 3., 3., 3.],\n",
            "         [3., 3., 3., 3., 3., 3., 3., 3., 3., 3.],\n",
            "         [3., 3., 3., 3., 3., 3., 3., 3., 3., 3.],\n",
            "         [3., 3., 3., 3., 3., 3., 3., 3., 3., 3.]],\n",
            "\n",
            "        [[2., 2., 2., 2., 2., 2., 2., 2., 2., 2.],\n",
            "         [2., 2., 2., 2., 2., 2., 2., 2., 2., 2.],\n",
            "         [2., 2., 2., 2., 2., 2., 2., 2., 2., 2.],\n",
            "         [2., 2., 2., 2., 2., 2., 2., 2., 2., 2.],\n",
            "         [2., 2., 2., 2., 2., 2., 2., 2., 2., 2.],\n",
            "         [0., 0., 0., 0., 0., 0., 0., 0., 0., 0.],\n",
            "         [0., 0., 0., 0., 0., 0., 0., 0., 0., 0.]],\n",
            "\n",
            "        [[1., 1., 1., 1., 1., 1., 1., 1., 1., 1.],\n",
            "         [1., 1., 1., 1., 1., 1., 1., 1., 1., 1.],\n",
            "         [1., 1., 1., 1., 1., 1., 1., 1., 1., 1.],\n",
            "         [0., 0., 0., 0., 0., 0., 0., 0., 0., 0.],\n",
            "         [0., 0., 0., 0., 0., 0., 0., 0., 0., 0.],\n",
            "         [0., 0., 0., 0., 0., 0., 0., 0., 0., 0.],\n",
            "         [0., 0., 0., 0., 0., 0., 0., 0., 0., 0.]]])\n",
            "PackedSequence(data=tensor([[3., 3., 3., 3., 3., 3., 3., 3., 3., 3.],\n",
            "        [2., 2., 2., 2., 2., 2., 2., 2., 2., 2.],\n",
            "        [1., 1., 1., 1., 1., 1., 1., 1., 1., 1.],\n",
            "        [3., 3., 3., 3., 3., 3., 3., 3., 3., 3.],\n",
            "        [2., 2., 2., 2., 2., 2., 2., 2., 2., 2.],\n",
            "        [1., 1., 1., 1., 1., 1., 1., 1., 1., 1.],\n",
            "        [3., 3., 3., 3., 3., 3., 3., 3., 3., 3.],\n",
            "        [2., 2., 2., 2., 2., 2., 2., 2., 2., 2.],\n",
            "        [1., 1., 1., 1., 1., 1., 1., 1., 1., 1.],\n",
            "        [3., 3., 3., 3., 3., 3., 3., 3., 3., 3.],\n",
            "        [2., 2., 2., 2., 2., 2., 2., 2., 2., 2.],\n",
            "        [3., 3., 3., 3., 3., 3., 3., 3., 3., 3.],\n",
            "        [2., 2., 2., 2., 2., 2., 2., 2., 2., 2.],\n",
            "        [3., 3., 3., 3., 3., 3., 3., 3., 3., 3.],\n",
            "        [3., 3., 3., 3., 3., 3., 3., 3., 3., 3.]]), batch_sizes=tensor([3, 3, 3, 2, 2, 1, 1]), sorted_indices=None, unsorted_indices=None)\n"
          ],
          "name": "stdout"
        }
      ]
    },
    {
      "cell_type": "code",
      "metadata": {
        "id": "N-auREhxZSrt"
      },
      "source": [
        ""
      ],
      "execution_count": 21,
      "outputs": []
    }
  ]
}