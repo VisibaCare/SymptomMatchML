{
  "nbformat": 4,
  "nbformat_minor": 0,
  "metadata": {
    "kernelspec": {
      "name": "python3",
      "display_name": "Python 3"
    },
    "colab": {
      "name": "rnn_model.ipynb",
      "provenance": [],
      "collapsed_sections": []
    },
    "accelerator": "GPU"
  },
  "cells": [
    {
      "cell_type": "code",
      "metadata": {
        "colab": {
          "base_uri": "https://localhost:8080/"
        },
        "id": "4V4du-Uio_PV",
        "outputId": "44ee5b18-be53-428c-e30c-d5f7f0ab0c16"
      },
      "source": [
        "from google.colab import drive\n",
        "drive.mount('/content/drive')"
      ],
      "execution_count": 1,
      "outputs": [
        {
          "output_type": "stream",
          "text": [
            "Mounted at /content/drive\n"
          ],
          "name": "stdout"
        }
      ]
    },
    {
      "cell_type": "code",
      "metadata": {
        "colab": {
          "base_uri": "https://localhost:8080/"
        },
        "id": "49ui7QY2pDFp",
        "outputId": "7c009f7a-a954-4517-e940-656945e2d1f7"
      },
      "source": [
        "import os\n",
        "\n",
        "if os.getcwd() == '/content':\n",
        "  % cd drive/MyDrive/exjobb_project\n",
        "\n",
        "print(os.getcwd())\n",
        "\n",
        "!pip install scikit-multilearn"
      ],
      "execution_count": 2,
      "outputs": [
        {
          "output_type": "stream",
          "text": [
            "/content/drive/MyDrive/exjobb_project\n",
            "/content/drive/MyDrive/exjobb_project\n",
            "Collecting scikit-multilearn\n",
            "\u001b[?25l  Downloading https://files.pythonhosted.org/packages/bb/1f/e6ff649c72a1cdf2c7a1d31eb21705110ce1c5d3e7e26b2cc300e1637272/scikit_multilearn-0.2.0-py3-none-any.whl (89kB)\n",
            "\u001b[K     |████████████████████████████████| 92kB 6.0MB/s \n",
            "\u001b[?25hInstalling collected packages: scikit-multilearn\n",
            "Successfully installed scikit-multilearn-0.2.0\n"
          ],
          "name": "stdout"
        }
      ]
    },
    {
      "cell_type": "code",
      "metadata": {
        "id": "9DZ8_MoqozSX"
      },
      "source": [
        "# metrics\n",
        "from sklearn.metrics import f1_score\n",
        "from sklearn.metrics import jaccard_score\n",
        "from sklearn.metrics import accuracy_score\n",
        "from sklearn.metrics import hamming_loss\n",
        "from sklearn.metrics import multilabel_confusion_matrix\n",
        "\n",
        "from sklearn.preprocessing import MultiLabelBinarizer\n",
        "from sklearn.model_selection import train_test_split\n",
        "from skmultilearn.model_selection import iterative_train_test_split\n",
        "from sklearn.preprocessing import StandardScaler\n",
        "\n",
        "import regex as re\n",
        "import pickle\n",
        "import json\n",
        "import time\n",
        "import pandas as pd\n",
        "import numpy as np\n",
        "import torch\n",
        "from scipy.interpolate import UnivariateSpline\n",
        "import matplotlib.pyplot as plt\n",
        "from torch.utils.data import Dataset, DataLoader\n",
        "from torch import nn\n",
        "from torch.nn import BCELoss\n",
        "from collections import Counter"
      ],
      "execution_count": 3,
      "outputs": []
    },
    {
      "cell_type": "code",
      "metadata": {
        "id": "6IHJUaMklWGK"
      },
      "source": [
        "# use an RNG seed for reproducibility\n",
        "seed_list = [2, 4, 8, 16, 32]\n",
        "\n",
        "SEED = seed_list[0]\n",
        "\n",
        "# set the RNG seed\n",
        "np.random.seed(SEED)\n",
        "torch.manual_seed(SEED)\n",
        "\n",
        "# summary of current run\n",
        "summary = f'SEED: {SEED}'"
      ],
      "execution_count": 4,
      "outputs": []
    },
    {
      "cell_type": "code",
      "metadata": {
        "id": "b8JLV36KozSY",
        "colab": {
          "base_uri": "https://localhost:8080/"
        },
        "outputId": "ba333dfe-8327-4cbb-ff8a-69a9ad03c62e"
      },
      "source": [
        "path_to_data = './data'\n",
        "\n",
        "# create dataframe from sessions.json\n",
        "df = pd.read_json(f'{path_to_data}/sessions/sessions_04_30.json')\n",
        "\n",
        "# create dictionaries for switching between symptom and id\n",
        "id2sym = {}\n",
        "sym2id = {}\n",
        "\n",
        "# create dictionary containing all relevant information of the symptoms\n",
        "sym_info = {}\n",
        "\n",
        "with open(f'{path_to_data}/symptoms/symptoms_04_30.json') as json_file:\n",
        "    data = json.load(json_file)\n",
        "    for sym in data:\n",
        "        id2sym[sym['id']] = sym['name']\n",
        "        sym2id[sym['name']] = sym['id']\n",
        "        \n",
        "        sym_info[sym['name']] = sym\n",
        "\n",
        "print(f'Numer of symptoms in id2sym: {len(sym2id)}')\n",
        "\n",
        "\n",
        "# column that should be used as labels\n",
        "label_col = 'confirmed'\n",
        "\n",
        "# remove all rows with no labels\n",
        "df = df[df[label_col].map(len) > 0]\n",
        "df = df.reset_index(drop=True)\n",
        "\n",
        "if True:\n",
        "    # remove labels that have less than m occurrences\n",
        "    m = 50\n",
        "\n",
        "    labels_list = df[label_col].tolist()\n",
        "    labels_list = sum(labels_list, [])\n",
        "    c = Counter(labels_list)\n",
        "    for i in range(len(df)):\n",
        "        to_remove = []\n",
        "        \n",
        "        # find labels that should be removed \n",
        "        for j in range(len(df[label_col][i])):\n",
        "            if c[df[label_col][i][j]] < m:\n",
        "                to_remove.append(j)\n",
        "                \n",
        "        # remove the labels\n",
        "        shift = 0\n",
        "        for j in range(len(to_remove)):\n",
        "            df[label_col][i].pop(to_remove[j]-shift)\n",
        "            shift += 1\n",
        "        \n",
        "# add column with the symptom names\n",
        "sym_names = []\n",
        "\n",
        "for syms in df[label_col]:\n",
        "    if len(syms) != 0:\n",
        "        sym_names.append([id2sym[x] for x in syms])\n",
        "    else:\n",
        "        sym_names.append([])\n",
        "df['labels'] = sym_names\n",
        "\n",
        "# turn suggested column into symptom names\n",
        "sym_names = []\n",
        "\n",
        "for syms in df['suggested']:\n",
        "    if len(syms) != 0:\n",
        "        sym_names.append([id2sym[x] for x in syms if x in id2sym])\n",
        "    else:\n",
        "        sym_names.append([])\n",
        "df['suggested'] = sym_names\n",
        "\n",
        "\n",
        "# normalize the ages\n",
        "ages = df['age'].to_numpy().reshape(-1,1)\n",
        "sc = StandardScaler()\n",
        "ages = sc.fit_transform(ages)\n",
        "df['age'] = ages\n",
        "\n",
        "\n",
        "# remove unused columns\n",
        "df.drop('confirmed', inplace=True, axis=1)\n",
        "df.drop('all_confirmed', inplace=True, axis=1)\n",
        "#df.drop('suggested', inplace=True, axis=1)"
      ],
      "execution_count": 5,
      "outputs": [
        {
          "output_type": "stream",
          "text": [
            "Numer of symptoms in id2sym: 530\n"
          ],
          "name": "stdout"
        }
      ]
    },
    {
      "cell_type": "code",
      "metadata": {
        "colab": {
          "base_uri": "https://localhost:8080/"
        },
        "id": "Fdk9K-ANozSa",
        "outputId": "19cec7da-64b5-4ca6-c818-774e2ea2ee2d"
      },
      "source": [
        "# a basic tokenizer to start off with\n",
        "def basic_tokenization(text):\n",
        "    text = text.lower()\n",
        "\n",
        "    # substitute all characters that are not letters or whitespace with ' '\n",
        "    tokens = re.sub(r'[^\\p{L} ]', ' ', text).split()\n",
        "    \n",
        "    return tokens\n",
        "\n",
        "test = 'Hej, hur är läget?sdfs'\n",
        "print(basic_tokenization(test))"
      ],
      "execution_count": 6,
      "outputs": [
        {
          "output_type": "stream",
          "text": [
            "['hej', 'hur', 'är', 'läget', 'sdfs']\n"
          ],
          "name": "stdout"
        }
      ]
    },
    {
      "cell_type": "code",
      "metadata": {
        "colab": {
          "base_uri": "https://localhost:8080/"
        },
        "id": "0x2IW7_cE5nI",
        "outputId": "32c8c491-6244-451d-c1a6-7c0492435014"
      },
      "source": [
        "# dictionary assigning a unique integer for each character\n",
        "# index 0 and 1 are for padding and unknown tokens\n",
        "char_vocab = 'abcdefghijklmnopqrstuvwxyzåäö'\n",
        "char2idx = {char: idx+2 for (idx,char) in enumerate(char_vocab)}\n",
        "\n",
        "# create dictionary that assigns a unique integer index for each word in the embeddings\n",
        "word2idx = {}\n",
        "id_count = 0\n",
        "\n",
        "use_pretrained = True\n",
        "embedding_weights = None\n",
        "\n",
        "# ids for padding and unkown tokens \n",
        "pad_tok = None\n",
        "unk_tok = None\n",
        "\n",
        "if use_pretrained:\n",
        "  print('Using pretrained embeddings ...')\n",
        "\n",
        "  #path_to_embeds = './embeddings/swectors-300dim.txt'\n",
        "\n",
        "  path_to_embeds = './embeddings/texts_cbow-300-iter40-win10.txt'\n",
        "\n",
        "  #path_to_embeds = './embeddings/ltcorpus_cbow-300-iter40-win10.txt'\n",
        "  #path_to_embeds = './embeddings/ltcorpus_cbow-150-iter40-win10.txt'\n",
        "\n",
        "  print(path_to_embeds)\n",
        "  with open(path_to_embeds, encoding='utf-8') as file:\n",
        "      # initialize the embedding weights matrix with zeros\n",
        "      dims = [int(x) for x in file.readline().split()]\n",
        "      print(dims)\n",
        "      embedding_weights = torch.zeros((dims[0]+2,dims[1]), dtype=torch.float64)    \n",
        "      \n",
        "      # set first two rows as padding and unknown token\n",
        "      pad_tok = 0\n",
        "      unk_tok = 1\n",
        "      id_count += 2\n",
        "\n",
        "      line = file.readline().split()\n",
        "      while line != []:\n",
        "          word2idx[line[0]] = id_count\n",
        "          embedding_weights[id_count,:] = torch.tensor([float(x) for x in line[1:]])\n",
        "          id_count += 1\n",
        "          \n",
        "          line = file.readline()\n",
        "          line = line.split()\n",
        "          \n",
        "      #pad_tok = word2idx['<>']\n",
        "      #unk_tok = word2idx['<>det']\n",
        "else:\n",
        "  print('Not using pretrained embeddings ...')\n",
        "  pad_tok = 0\n",
        "  unk_tok = 1\n",
        "  id_count += 2\n",
        "\n",
        "  for i in range(len(df)):\n",
        "    text = df['text'][i]\n",
        "    tokens = basic_tokenization(text)\n",
        "\n",
        "    for tok in tokens:\n",
        "      if tok not in word2idx:\n",
        "        word2idx[tok] = id_count\n",
        "        id_count += 1\n",
        "  print(f'Vocabulary size: {len(word2idx)}')"
      ],
      "execution_count": 7,
      "outputs": [
        {
          "output_type": "stream",
          "text": [
            "Using pretrained embeddings ...\n",
            "./embeddings/texts_cbow-300-iter40-win10.txt\n",
            "[8060, 300]\n"
          ],
          "name": "stdout"
        }
      ]
    },
    {
      "cell_type": "code",
      "metadata": {
        "id": "P0R5lOB2ozSc"
      },
      "source": [
        "# train a multilabel_binarizer on the labels\n",
        "labels = df['labels'].tolist()\n",
        "multilab_bin = MultiLabelBinarizer()\n",
        "multilab_bin.fit(labels)\n",
        "\n",
        "summary += f'\\nNumber of labels: {len(multilab_bin.classes_)}'\n",
        "\n",
        "class CustomDataset(Dataset):\n",
        "    def __init__(self, dataframe, tokenizer, word2idx, multilab_bin, unk_tok):\n",
        "        self.tokenizer = tokenizer\n",
        "        self.word2idx = word2idx\n",
        "        self.multilab_bin = multilab_bin\n",
        "        self.data = dataframe\n",
        "        self.text = self.data['text']\n",
        "        self.labels = self.data['labels']\n",
        "        self.unk_tok = unk_tok\n",
        "        \n",
        "    def __len__(self):\n",
        "        return len(self.text)\n",
        "    \n",
        "    def __getitem__(self, index):\n",
        "        text = str(self.text[index])\n",
        "        text = ' '.join(text.split())\n",
        "        \n",
        "        tokens = self.tokenizer(text)\n",
        "        # if tokens is empty, set tokens to ['x']\n",
        "        if len(tokens) <= 1:\n",
        "            tokens = ['x']\n",
        "        \n",
        "        text_len = len(tokens)\n",
        "        ids = [0 for i in range(len(tokens))]\n",
        "        for i in range(len(tokens)):\n",
        "            if tokens[i] in word2idx:\n",
        "                ids[i] = word2idx[tokens[i]]\n",
        "            else:\n",
        "                ids[i] = self.unk_tok\n",
        "\n",
        "        \n",
        "        return {\n",
        "            'lens': text_len,\n",
        "            'ids': torch.tensor(ids, dtype=torch.long),\n",
        "            'tokens': tokens,\n",
        "            'labels': torch.tensor(np.sum(self.multilab_bin.transform([self.labels[index]]), axis=0), dtype=torch.float)\n",
        "        }      \n",
        "    \n",
        "# collate function for the dataloader\n",
        "def collate_fn(batch):\n",
        "    # sort token-id sequences by length\n",
        "    for_sorting = [(batch[i]['lens'],batch[i]['ids'],batch[i]['tokens'],batch[i]['labels']) for i in range(len(batch))]\n",
        "    for_sorting = sorted(for_sorting, key=lambda tup: tup[0], reverse=True)\n",
        "    \n",
        "    # pad token-id sequences to max_len_batch\n",
        "    max_len_batch = for_sorting[0][0]\n",
        "    \n",
        "    lens = [0 for i in range(len(batch))]\n",
        "    ids = torch.zeros((len(batch), max_len_batch), dtype=torch.long)\n",
        "    tokens = [[] for i in range(len(batch))]\n",
        "    labels = torch.zeros((len(batch), len(batch[0]['labels'])))\n",
        "    \n",
        "    for i in range(len(batch)):\n",
        "        temp = torch.tensor([pad_tok for j in range(max_len_batch)])\n",
        "        temp[:for_sorting[i][0]] = for_sorting[i][1]\n",
        "        \n",
        "        lens[i] = for_sorting[i][0]\n",
        "        ids[i,:] = temp\n",
        "        tokens[i] = for_sorting[i][2]\n",
        "        labels[i,:] = for_sorting[i][3]\n",
        "        \n",
        "    return lens, ids, tokens, labels"
      ],
      "execution_count": 8,
      "outputs": []
    },
    {
      "cell_type": "code",
      "metadata": {
        "colab": {
          "base_uri": "https://localhost:8080/"
        },
        "id": "zjhY4k_uozSc",
        "outputId": "15280d7c-ebe2-408f-d9b6-2ad3f857daa3"
      },
      "source": [
        "batch_size = 16\n",
        "summary += f'\\nBatch size: {batch_size}'\n",
        "\n",
        "# max number of tokens in text\n",
        "max_len = 0\n",
        "for i in range(len(df['text'])):\n",
        "    text = df['text'][i]\n",
        "            \n",
        "    tokens = basic_tokenization(text)\n",
        "    \n",
        "    if len(tokens) > max_len:\n",
        "        max_len = len(tokens)\n",
        "\n",
        "print(f'Largest sequence among texts: {max_len}')\n",
        "summary += f'\\nmax_len: {max_len}'\n",
        "\n",
        "#train_dataset, test_dataset = train_test_split(df,\n",
        "#                                        test_size=0.2,\n",
        "#                                        random_state=SEED,\n",
        "#                                        shuffle=True)\n",
        "\n",
        "# - - - NEW! Stratified train/test split for multi-labeled data - - -\n",
        "X = np.array([i for i in range(len(df))]).reshape(-1,1)\n",
        "y = multilab_bin.transform(df['labels'].tolist())\n",
        "\n",
        "# X_train and X_test will contain the indices for the corresponding rows in df\n",
        "X_train, y_train, X_test, y_test = iterative_train_test_split(X, y, test_size=0.2)\n",
        "\n",
        "train_dataset = df.iloc[X_train.reshape(-1).tolist()]\n",
        "test_dataset = df.iloc[X_test.reshape(-1).tolist()]\n",
        "# - - - - - - - - - - - - - - - - - - - - - - - - - - - - - - - - - -\n",
        "\n",
        "train_dataset = train_dataset.reset_index(drop=True)\n",
        "test_dataset = test_dataset.reset_index(drop=True)\n",
        "\n",
        "train_set = CustomDataset(train_dataset, basic_tokenization, word2idx, multilab_bin, unk_tok)\n",
        "test_set = CustomDataset(test_dataset, basic_tokenization, word2idx, multilab_bin, unk_tok)\n",
        "\n",
        "train_params = {'batch_size': batch_size,\n",
        "                'shuffle': True,\n",
        "                'num_workers': 0,\n",
        "                'collate_fn': collate_fn\n",
        "               }\n",
        "test_params = {'batch_size': batch_size,\n",
        "               'shuffle': True,\n",
        "               'num_workers': 0,\n",
        "               'collate_fn': collate_fn\n",
        "              }\n",
        "\n",
        "train_loader = DataLoader(train_set, **train_params)\n",
        "test_loader = DataLoader(test_set, **test_params)\n",
        "\n",
        "print(f'Train set: {len(train_dataset)} samples')\n",
        "print(f'Test set: {len(test_dataset)} samples')\n",
        "\n",
        "summary += f'\\nTraining set: {len(train_dataset)} samples\\nTest set: {len(test_dataset)} samples'"
      ],
      "execution_count": 9,
      "outputs": [
        {
          "output_type": "stream",
          "text": [
            "Largest sequence among texts: 103\n",
            "Train set: 14532 samples\n",
            "Test set: 3633 samples\n"
          ],
          "name": "stdout"
        }
      ]
    },
    {
      "cell_type": "code",
      "metadata": {
        "colab": {
          "base_uri": "https://localhost:8080/"
        },
        "id": "LY8cCk9_ozSd",
        "outputId": "d77c57ab-2438-4471-f11a-3dfccc0b1e74"
      },
      "source": [
        "# decide which device to use. use cuda if available\n",
        "dev = ''\n",
        "if torch.cuda.is_available():\n",
        "    dev = 'cuda:0'\n",
        "    summary += f'\\nCUDA device: {torch.cuda.get_device_name(0)}'\n",
        "else:\n",
        "    dev = 'cpu'\n",
        "    summary += '\\nCUDA device: None'\n",
        "\n",
        "print(f'dev = {dev}')\n",
        "print(f'Number of available GPUs: {torch.cuda.device_count()}')\n",
        "\n",
        "# print the device names\n",
        "for i in range(torch.cuda.device_count()):\n",
        "    print(f'Device {i}: {torch.cuda.get_device_name(i)}')\n",
        "\n",
        "device = torch.device(dev)"
      ],
      "execution_count": 10,
      "outputs": [
        {
          "output_type": "stream",
          "text": [
            "dev = cuda:0\n",
            "Number of available GPUs: 1\n",
            "Device 0: Tesla K80\n"
          ],
          "name": "stdout"
        }
      ]
    },
    {
      "cell_type": "code",
      "metadata": {
        "id": "estS0oVZozSd"
      },
      "source": [
        "class RNN(nn.Module):\n",
        "    def __init__(self, embeddings, hidden_dim, num_layers, dropout, output_dim):\n",
        "        super(RNN, self).__init__()\n",
        "        self.hidden_dim = hidden_dim\n",
        "        self.num_layers = num_layers\n",
        "        self.dropout = dropout\n",
        "        self.output_dim = output_dim\n",
        "        \n",
        "        self.word_embeddings = None\n",
        "        embedding_dim = 0\n",
        "        if embeddings != None:\n",
        "          embedding_dim = embeddings.shape[1]\n",
        "          self.word_embeddings = nn.Embedding.from_pretrained(embeddings, freeze=False)\n",
        "        else:\n",
        "          embedding_dim = 300\n",
        "          self.word_embeddings = nn.Embedding(id_count, embedding_dim)\n",
        "\n",
        "        self.rnn = nn.LSTM(embedding_dim, hidden_dim, num_layers, dropout=dropout, batch_first=True, bidirectional=True)\n",
        "        self.fc = nn.Linear(2*num_layers*hidden_dim, output_dim)\n",
        "        self.sigm = nn.Sigmoid()\n",
        "        \n",
        "    # sentences contains padded token-id sequences sorted by length\n",
        "    def forward(self, tokens, sentences, sent_lengths):\n",
        "        embeds = self.word_embeddings(sentences)\n",
        "        \n",
        "        # pack_padded_sequnce so that padded items won't be shown to the RNN\n",
        "        if len(sent_lengths) > 1:\n",
        "            X = torch.nn.utils.rnn.pack_padded_sequence(embeds, sent_lengths, batch_first=True)\n",
        "        else:\n",
        "            X = embeds.view(1,sent_lengths[0],-1)\n",
        "        \n",
        "        X = X.float()\n",
        "        _, hc = self.rnn(X)\n",
        "        \n",
        "        # make use of the final hidden state\n",
        "        X = hc[0] # if LSTM\n",
        "        #X = hc # if GRU\n",
        "\n",
        "        # reshape X to fit the linear layer\n",
        "        temp_X = X[0,:,:]\n",
        "        for i in range(1,X.shape[0]):\n",
        "          temp_X = torch.cat((temp_X, X[i,:,:]), 1)\n",
        "        \n",
        "        X = self.fc(temp_X)\n",
        "        X = self.sigm(X)\n",
        "        \n",
        "        return X\n",
        "\n"
      ],
      "execution_count": 11,
      "outputs": []
    },
    {
      "cell_type": "code",
      "metadata": {
        "id": "LGnVVW3C9Ii1"
      },
      "source": [
        "class RNN_with_chars(nn.Module):\n",
        "    def __init__(self, embeddings, hidden_dim, num_layers, dropout, output_dim):\n",
        "        super(RNN_with_chars, self).__init__()\n",
        "        self.hidden_dim = hidden_dim\n",
        "        self.num_layers = num_layers\n",
        "        self.dropout = dropout\n",
        "        self.output_dim = output_dim\n",
        "        \n",
        "        # word embedding layer\n",
        "        self.word_embeddings = None\n",
        "        self.word_embedding_dim = 0\n",
        "        if embeddings != None:\n",
        "          self.word_embedding_dim = embeddings.shape[1]\n",
        "          self.word_embeddings = nn.Embedding.from_pretrained(embeddings, freeze=False)\n",
        "        else:\n",
        "          self.word_embedding_dim = 50\n",
        "          self.word_embeddings = nn.Embedding(id_count, self.word_embedding_dim)\n",
        "\n",
        "        # char embedding layer\n",
        "        self.char_embedding_dim = 25\n",
        "        self.char_hidden_dim = 50\n",
        "        self.char_embeddings = nn.Embedding(len(char_vocab)+2, self.char_embedding_dim)\n",
        "\n",
        "        # char lstm to create embedding\n",
        "        self.char_rnn = nn.LSTM(self.char_embedding_dim, self.char_hidden_dim, batch_first=True, bidirectional=True)\n",
        "\n",
        "        # main lstm\n",
        "        self.rnn = nn.LSTM(self.word_embedding_dim + 2*self.char_hidden_dim, hidden_dim, num_layers, dropout=dropout, batch_first=True, bidirectional=True)\n",
        "        self.fc = nn.Linear(2*num_layers*hidden_dim, output_dim)\n",
        "        self.sigm = nn.Sigmoid()\n",
        "        \n",
        "    # sentences contains padded token-id sequences sorted by length\n",
        "    def forward(self, tokens, sentences_ids, sent_lengths):\n",
        "        embeds = self.word_embeddings(sentences_ids)\n",
        "        #print(embeds.shape)\n",
        "        tot_embeds = torch.zeros((embeds.shape[0],embeds.shape[1],embeds.shape[2]+2*self.char_hidden_dim)).to(device)\n",
        "        tot_embeds[:,:,:self.word_embedding_dim] = embeds\n",
        "\n",
        "        for i in range(embeds.shape[0]):\n",
        "          for j in range(embeds.shape[1]):\n",
        "            if j >= sent_lengths[i]:\n",
        "              break\n",
        "            tok = tokens[i][j]\n",
        "            char_ids = torch.zeros(len(tok), dtype=torch.long).to(device)\n",
        "            \n",
        "            for ind,ch in enumerate(tok):\n",
        "              if ch in char2idx:\n",
        "                char2idx[ind] = char2idx[ch]\n",
        "              else:\n",
        "                char2idx[ind] = 1 # unknown idx\n",
        "            \n",
        "            char_embeds = self.char_embeddings(char_ids)\n",
        "            #print(char_embeds.shape)\n",
        "            _, char_hc = self.char_rnn(char_embeds.view(1,-1,self.char_embedding_dim))\n",
        "            tok_embed = char_hc[0]\n",
        "\n",
        "            # fix the dimension of embedding\n",
        "            tok_embed = torch.cat((tok_embed[0,:,:], tok_embed[1,:,:]), 1)\n",
        "\n",
        "            # add embedding to tot_embeds\n",
        "            tot_embeds[i,j,self.word_embedding_dim:] = tok_embed\n",
        "\n",
        "        \n",
        "        # pack_padded_sequnce so that padded items won't be shown to the RNN\n",
        "        if len(sent_lengths) > 1:\n",
        "            X = torch.nn.utils.rnn.pack_padded_sequence(tot_embeds, sent_lengths, batch_first=True)\n",
        "        else:\n",
        "            X = tot_embeds.view(1,sent_lengths[0],-1)\n",
        "        \n",
        "        X = X.float()\n",
        "        _, hc = self.rnn(X)\n",
        "        \n",
        "        # make use of the final hidden state\n",
        "        X = hc[0] # if LSTM\n",
        "        #X = hc # if GRU\n",
        "\n",
        "        # reshape X to fit the linear layer\n",
        "        temp_X = X[0,:,:]\n",
        "        for i in range(1,X.shape[0]):\n",
        "          temp_X = torch.cat((temp_X, X[i,:,:]), 1)\n",
        "        \n",
        "        X = self.fc(temp_X)\n",
        "        X = self.sigm(X)\n",
        "        \n",
        "        return X"
      ],
      "execution_count": 12,
      "outputs": []
    },
    {
      "cell_type": "code",
      "metadata": {
        "id": "GM4I7iasozSd"
      },
      "source": [
        "# compute the loss of an epoch by averaging all batch losses\n",
        "def epoch_loss(model, data_loader, criterion):\n",
        "    loss = 0\n",
        "    batch_count = 0\n",
        "    \n",
        "    model.eval()\n",
        "    with torch.no_grad():\n",
        "        for idx,batch in enumerate(data_loader):\n",
        "            lens, ids, tokens, labels = batch\n",
        "            lens = torch.tensor(lens, dtype=torch.long)#.to(device)\n",
        "            ids = ids.to(device)\n",
        "            labels = labels.to(device)\n",
        "            \n",
        "            #outputs = model(ids, lens)\n",
        "            outputs = model(tokens, ids, lens)\n",
        "            loss += criterion(outputs, labels)\n",
        "            batch_count += 1\n",
        "    model.train()\n",
        "    return loss / batch_count"
      ],
      "execution_count": 13,
      "outputs": []
    },
    {
      "cell_type": "code",
      "metadata": {
        "id": "SYxcOHjYozSe",
        "colab": {
          "base_uri": "https://localhost:8080/"
        },
        "outputId": "a564e3de-1fa6-46d9-e145-82d89697d631"
      },
      "source": [
        "# define the model\n",
        "output_dim = len(multilab_bin.classes_)\n",
        "hidden_dim = 512\n",
        "num_layers = 2\n",
        "dropout = 0\n",
        "\n",
        "summary += f'\\nhidden_dim = {hidden_dim}\\nnum_layers = {num_layers}'\n",
        "\n",
        "if embedding_weights != None: embedding_weights = embedding_weights.to(device)\n",
        "\n",
        "model = RNN(embedding_weights, hidden_dim, num_layers, dropout, output_dim)\n",
        "#model = RNN_with_chars(embedding_weights, hidden_dim, num_layers, dropout, output_dim)\n",
        "model.train()\n",
        "model.to(device)\n",
        "\n",
        "# number of epochs trained\n",
        "epochs_trained = 0\n",
        "\n",
        "# losses over entire train-/test-set per epoch\n",
        "train_losses = []\n",
        "test_losses = []\n",
        "\n",
        "learning_rate = 0.0001\n",
        "\n",
        "criterion = torch.nn.BCELoss()\n",
        "optimizer = torch.optim.Adam(model.parameters(), lr=learning_rate)\n",
        "\n",
        "# define learning rate scheduler\n",
        "#lmbda = lambda epoch: 0.95\n",
        "#scheduler = torch.optim.lr_scheduler.MultiplicativeLR(optimizer, lr_lambda=lmbda)\n",
        "\n",
        "print(summary)"
      ],
      "execution_count": 14,
      "outputs": [
        {
          "output_type": "stream",
          "text": [
            "SEED: 2\n",
            "Number of labels: 76\n",
            "Batch size: 16\n",
            "max_len: 103\n",
            "Training set: 14532 samples\n",
            "Test set: 3633 samples\n",
            "CUDA device: Tesla K80\n",
            "hidden_dim = 512\n",
            "num_layers = 2\n"
          ],
          "name": "stdout"
        }
      ]
    },
    {
      "cell_type": "code",
      "metadata": {
        "colab": {
          "base_uri": "https://localhost:8080/"
        },
        "id": "-PROe1XUozSe",
        "outputId": "1cf59e10-9732-464b-f66a-7016364f55ba"
      },
      "source": [
        "# training loop\n",
        "model.train()\n",
        "\n",
        "# if the test loss has not improved in the last k epochs, stop training\n",
        "k = 5\n",
        "\n",
        "num_epochs = 50\n",
        "for epoch in range(num_epochs):\n",
        "    # keep track of time taken per epoch\n",
        "    start_time = time.time()\n",
        "\n",
        "    for idx,batch in enumerate(train_loader):\n",
        "        lens, ids, tokens, labels = batch\n",
        "        lens = torch.tensor(lens, dtype=torch.long)#.to(device)\n",
        "        ids = ids.to(device)\n",
        "        labels = labels.to(device)\n",
        "        \n",
        "        # zero the parameter gradients\n",
        "        optimizer.zero_grad()\n",
        "\n",
        "        # forward pass\n",
        "        #outputs = model(ids, lens)\n",
        "        outputs = model(tokens, ids, lens)\n",
        "        \n",
        "        # backward pass\n",
        "        loss = criterion(outputs, labels)\n",
        "        loss.backward()\n",
        "        optimizer.step()\n",
        "        \n",
        "    # save the losses\n",
        "    train_losses.append(epoch_loss(model, train_loader, criterion))\n",
        "    test_losses.append(epoch_loss(model, test_loader, criterion))\n",
        "\n",
        "    epochs_trained += 1\n",
        "\n",
        "    # take a step with the lr_scheduler\n",
        "    #scheduler.step()\n",
        "    \n",
        "    print(f'End of epoch {epochs_trained}, Train Loss: {train_losses[-1]:.7f}, Test Loss: {test_losses[-1]:.7f}, Time elapsed: {time.time()-start_time:.2f} s')\n",
        "    \n",
        "    # if the test loss has not improved in the last k epochs break\n",
        "    if len(test_losses) > k and all(test_losses[-(k+1)] < tl for tl in test_losses[-k:]):\n",
        "        print(f'Test loss has not improved in the last {k} epochs. Stopping ...')\n",
        "        break"
      ],
      "execution_count": 15,
      "outputs": [
        {
          "output_type": "stream",
          "text": [
            "End of epoch 1, Train Loss: 0.0638333, Test Loss: 0.0642289, Time elapsed: 131.95 s\n",
            "End of epoch 2, Train Loss: 0.0548083, Test Loss: 0.0563105, Time elapsed: 131.53 s\n",
            "End of epoch 3, Train Loss: 0.0484659, Test Loss: 0.0515325, Time elapsed: 131.98 s\n",
            "End of epoch 4, Train Loss: 0.0439952, Test Loss: 0.0484294, Time elapsed: 131.59 s\n",
            "End of epoch 5, Train Loss: 0.0407989, Test Loss: 0.0463740, Time elapsed: 131.69 s\n",
            "End of epoch 6, Train Loss: 0.0377583, Test Loss: 0.0454882, Time elapsed: 131.42 s\n",
            "End of epoch 7, Train Loss: 0.0348979, Test Loss: 0.0446777, Time elapsed: 131.80 s\n",
            "End of epoch 8, Train Loss: 0.0320069, Test Loss: 0.0444592, Time elapsed: 131.60 s\n",
            "End of epoch 9, Train Loss: 0.0290732, Test Loss: 0.0443602, Time elapsed: 131.53 s\n",
            "End of epoch 10, Train Loss: 0.0266823, Test Loss: 0.0445035, Time elapsed: 131.52 s\n",
            "End of epoch 11, Train Loss: 0.0243099, Test Loss: 0.0448583, Time elapsed: 131.65 s\n",
            "End of epoch 12, Train Loss: 0.0222973, Test Loss: 0.0453159, Time elapsed: 131.74 s\n",
            "End of epoch 13, Train Loss: 0.0196211, Test Loss: 0.0466418, Time elapsed: 132.03 s\n",
            "End of epoch 14, Train Loss: 0.0176164, Test Loss: 0.0467267, Time elapsed: 131.68 s\n",
            "Test loss has not improved in the last 5 epochs. Stopping ...\n"
          ],
          "name": "stdout"
        }
      ]
    },
    {
      "cell_type": "code",
      "metadata": {
        "id": "XsAoIyRjozSf"
      },
      "source": [
        "# get the predicitons and corresponding labels\n",
        "def get_pred_true(model, data_loader, D_out):\n",
        "\n",
        "    y_pred = np.zeros((1,D_out))\n",
        "    y_true = np.zeros((1,D_out))\n",
        "  \n",
        "    with torch.no_grad():\n",
        "        for idx,batch in enumerate(data_loader):\n",
        "            lens, ids, tokens, labels = batch\n",
        "            lens = torch.tensor(lens, dtype=torch.long)#.to(device)\n",
        "            ids = ids.to(device)\n",
        "            labels = labels.to(device)\n",
        "            \n",
        "            #outputs = model(ids, lens)\n",
        "            outputs = model(tokens, ids, lens)\n",
        "            \n",
        "            y_pred = np.concatenate((y_pred,outputs.detach().cpu().numpy()), axis=0)\n",
        "            y_true = np.concatenate((y_true,np.array(labels.cpu())), axis=0)\n",
        "            \n",
        "    return y_pred[1:,:], y_true[1:,:]\n",
        "\n",
        "model.eval()  \n",
        "y_pred_temp, y_true = get_pred_true(model, test_loader, output_dim)"
      ],
      "execution_count": 16,
      "outputs": []
    },
    {
      "cell_type": "code",
      "metadata": {
        "id": "9zHmy5LMozSf",
        "colab": {
          "base_uri": "https://localhost:8080/",
          "height": 726
        },
        "outputId": "514e0d41-370d-4aef-caf8-33a0b00c0503"
      },
      "source": [
        "# set all values above threshold to 1, else 0\n",
        "th = 0.5\n",
        "y_pred = np.copy(y_pred_temp)\n",
        "y_pred[y_pred > th] = 1\n",
        "y_pred[y_pred <= th] = 0\n",
        "\n",
        "# number of labels in test set\n",
        "#labels_in_test = np.count_nonzero(np.sum(y_true, axis=0))\n",
        "label_counts_test = np.sum(multilab_bin.transform(test_dataset['labels']), axis=0)\n",
        "labels_in_test = np.count_nonzero(label_counts_test)\n",
        "\n",
        "# number of labels in train set\n",
        "label_counts_train = np.sum(multilab_bin.transform(train_dataset['labels']), axis=0)\n",
        "labels_in_train = np.count_nonzero(label_counts_train)\n",
        "\n",
        "# compute size of intersection between labels in train and test\n",
        "label_counts_test[label_counts_test > 0] = 1\n",
        "labels_bin_test = label_counts_test\n",
        "\n",
        "label_counts_train[label_counts_train > 0] = 1\n",
        "labels_bin_train = label_counts_train\n",
        "\n",
        "labels_bin_sum = labels_bin_test + labels_bin_train\n",
        "labels_intersect = np.count_nonzero(labels_bin_sum[labels_bin_sum == 2])\n",
        "\n",
        "print(f'SEED: {SEED}')\n",
        "print(f'Number of labels in training set: {labels_in_train}/{y_true.shape[1]} ({labels_in_train/y_true.shape[1]*100:.2f} %)')\n",
        "print(f'Number of labels in test set: {labels_in_test}/{y_true.shape[1]} ({labels_in_test/y_true.shape[1]*100:.2f} %)')\n",
        "print(f'Number of labels present in both sets: {labels_intersect}/{y_true.shape[1]} ({labels_intersect/y_true.shape[1]*100:.2f} %)')\n",
        "print()\n",
        "print(f\"Micro-average F1-score: {f1_score(y_true, y_pred, average='micro')}\")\n",
        "print(f\"Weighted-average F1-score: {f1_score(y_true, y_pred, average='weighted', zero_division=1)}\")\n",
        "print(f\"Macro-average F1-score: {f1_score(y_true, y_pred, average='macro', zero_division=1)}\")\n",
        "#print(f\"Sample-average Jaccard score: {jaccard_score(y_true, y_pred, average='samples', zero_division=1)}\")\n",
        "print(f\"Accuracy (exact match): {accuracy_score(y_true, y_pred)}\")\n",
        "print(f\"Hamming Loss: {hamming_loss(y_true, y_pred)}\")\n",
        "\n",
        "x = [x for x in range(1,len(train_losses)+1)]\n",
        "xticks = [x*len(train_losses)//5 for x in range(1,6)]\n",
        "plt.plot(x, test_losses)\n",
        "plt.plot(x, train_losses)\n",
        "plt.legend(['Test Loss', 'Train Loss'])\n",
        "plt.xticks(xticks,xticks)\n",
        "plt.xlabel('Epoch')\n",
        "plt.ylabel('Loss')\n",
        "plt.show()\n",
        "\n",
        "# plot f1-score in relation to label frequency in training set\n",
        "f1_per_label = f1_score(y_true, y_pred, average=None, zero_division=0)\n",
        "label_counts_train = np.sum(multilab_bin.transform(train_dataset['labels']), axis=0)\n",
        "label_counts_test = np.sum(multilab_bin.transform(test_dataset['labels']), axis=0)\n",
        "\n",
        "# only include labels that are present in the test set\n",
        "zipped = [(f1_per_label[i], multilab_bin.classes_[i], label_counts_test[i], label_counts_train[i]) for i in range(len(label_counts_test)) if label_counts_test[i] > 0]\n",
        "zipped = sorted(zipped, key=lambda tup: tup[-1])\n",
        "\n",
        "f1_per_label = [zipped[i][0] for i in range(len(zipped))]\n",
        "label_counts_train = [zipped[i][-1] for i in range(len(zipped))]\n",
        "\n",
        "# make a regression over the data points\n",
        "#s = UnivariateSpline(label_counts_train, f1_per_label, k=3, s=5)\n",
        "#xs = np.linspace(1,label_counts_train[-1])\n",
        "#ys = s(xs)\n",
        "\n",
        "fig = plt.figure()\n",
        "ax = fig.add_subplot(1,1,1)\n",
        "plt.plot(label_counts_train, f1_per_label)\n",
        "plt.plot(label_counts_train, f1_per_label, '.')\n",
        "#plt.plot(xs,ys)\n",
        "ax.set_xscale('log')\n",
        "ax.set_ylim((0,1))\n",
        "plt.xlabel('Label frequency in training set')\n",
        "plt.ylabel('F1-score')\n",
        "plt.grid(True, which='both', linestyle=':')\n",
        "plt.show()"
      ],
      "execution_count": 17,
      "outputs": [
        {
          "output_type": "stream",
          "text": [
            "SEED: 2\n",
            "Number of labels in training set: 76/76 (100.00 %)\n",
            "Number of labels in test set: 76/76 (100.00 %)\n",
            "Number of labels present in both sets: 76/76 (100.00 %)\n",
            "\n",
            "Micro-average F1-score: 0.631376128181726\n",
            "Weighted-average F1-score: 0.6050990496890498\n",
            "Macro-average F1-score: 0.3977645117268893\n",
            "Accuracy (exact match): 0.40434902284613267\n",
            "Hamming Loss: 0.013165138279224073\n"
          ],
          "name": "stdout"
        },
        {
          "output_type": "display_data",
          "data": {
            "image/png": "[encoded data removed]",
            "text/plain": [
              "<Figure size 432x288 with 1 Axes>"
            ]
          },
          "metadata": {
            "tags": [],
            "needs_background": "light"
          }
        },
        {
          "output_type": "display_data",
          "data": {
            "image/png": "[encoded data removed]",
            "text/plain": [
              "<Figure size 432x288 with 1 Axes>"
            ]
          },
          "metadata": {
            "tags": [],
            "needs_background": "light"
          }
        }
      ]
    },
    {
      "cell_type": "code",
      "metadata": {
        "id": "vNfUmhW7goWq",
        "colab": {
          "base_uri": "https://localhost:8080/"
        },
        "outputId": "2b797a53-52ea-4a4f-8b66-87c236c3b06e"
      },
      "source": [
        "# save the metrics\n",
        "micro_f1 = f1_score(y_true, y_pred, average='micro')\n",
        "weighted_f1 = f1_score(y_true, y_pred, average='weighted', zero_division=1)\n",
        "macro_f1 = f1_score(y_true, y_pred, average='macro', zero_division=1)\n",
        "accuracy = accuracy_score(y_true, y_pred)\n",
        "\n",
        "f1_list = [{'symptom': zipped[i][1], 'f1_score': zipped[i][0], 'training_set_frequency': zipped[i][-1], 'test_set_frequency': zipped[i][-2]} for i in range(len(zipped))]\n",
        "\n",
        "summary += f'\\nLearning rate: {learning_rate}'\n",
        "\n",
        "metrics_data = {'model_name': 'rnn',\n",
        "                'summary': summary,\n",
        "                'micro_f1': micro_f1,\n",
        "                'weighted_f1': weighted_f1,\n",
        "                'macro_f1': macro_f1,\n",
        "                'accuracy': accuracy,\n",
        "                'f1_list': f1_list\n",
        "                }\n",
        "\n",
        "# get current time\n",
        "time_str = time.strftime(\"%Y%m%d-%H%M%S\")\n",
        "                \n",
        "metrics_save_path = f'./metrics/rnn_{time_str}_seed{SEED}.p'\n",
        "\n",
        "print(metrics_data)\n",
        "\n",
        "pickle.dump(metrics_data, open(metrics_save_path, 'wb'))"
      ],
      "execution_count": 18,
      "outputs": [
        {
          "output_type": "stream",
          "text": [
            "{'model_name': 'rnn', 'summary': 'SEED: 2\\nNumber of labels: 76\\nBatch size: 16\\nmax_len: 103\\nTraining set: 14532 samples\\nTest set: 3633 samples\\nCUDA device: Tesla K80\\nhidden_dim = 512\\nnum_layers = 2\\nLearning rate: 0.0001', 'micro_f1': 0.631376128181726, 'weighted_f1': 0.6050990496890498, 'macro_f1': 0.3977645117268893, 'accuracy': 0.40434902284613267, 'f1_list': [{'symptom': 'Klumpkänsla i halsen', 'f1_score': 0.18181818181818182, 'training_set_frequency': 40, 'test_set_frequency': 10}, {'symptom': 'Var i ögat', 'f1_score': 0.16666666666666669, 'training_set_frequency': 40, 'test_set_frequency': 10}, {'symptom': 'Beläggning på tonsillerna', 'f1_score': 0.15384615384615383, 'training_set_frequency': 41, 'test_set_frequency': 10}, {'symptom': 'Rodnad och ömhet vid nagelbandet', 'f1_score': 0.625, 'training_set_frequency': 41, 'test_set_frequency': 10}, {'symptom': 'Smärta i armbåge', 'f1_score': 0.0, 'training_set_frequency': 41, 'test_set_frequency': 10}, {'symptom': 'Krystmiktion', 'f1_score': 0.4, 'training_set_frequency': 42, 'test_set_frequency': 10}, {'symptom': 'Testat positivt för Covid-19', 'f1_score': 0.3076923076923077, 'training_set_frequency': 42, 'test_set_frequency': 11}, {'symptom': 'Nackstelhet', 'f1_score': 0.3076923076923077, 'training_set_frequency': 45, 'test_set_frequency': 11}, {'symptom': 'Ögontorrhet', 'f1_score': 0.3076923076923077, 'training_set_frequency': 45, 'test_set_frequency': 11}, {'symptom': 'Dimsyn', 'f1_score': 0.0, 'training_set_frequency': 49, 'test_set_frequency': 12}, {'symptom': 'Utstrålande smärta i armen', 'f1_score': 0.23529411764705882, 'training_set_frequency': 50, 'test_set_frequency': 13}, {'symptom': 'Blod i urinen', 'f1_score': 0.375, 'training_set_frequency': 53, 'test_set_frequency': 13}, {'symptom': 'Pirrningar och domningar', 'f1_score': 0.10526315789473684, 'training_set_frequency': 54, 'test_set_frequency': 13}, {'symptom': 'Nagelförändringar', 'f1_score': 0.3333333333333333, 'training_set_frequency': 55, 'test_set_frequency': 14}, {'symptom': 'Nyinsatta läkemedel', 'f1_score': 0.13333333333333333, 'training_set_frequency': 58, 'test_set_frequency': 14}, {'symptom': 'Reflux', 'f1_score': 0.47619047619047616, 'training_set_frequency': 58, 'test_set_frequency': 15}, {'symptom': 'Smärta på utsida höft', 'f1_score': 0.24, 'training_set_frequency': 58, 'test_set_frequency': 15}, {'symptom': 'Uppblåshet', 'f1_score': 0.125, 'training_set_frequency': 60, 'test_set_frequency': 15}, {'symptom': 'Heshet', 'f1_score': 0.0, 'training_set_frequency': 63, 'test_set_frequency': 17}, {'symptom': 'Förvärras av ansträngning', 'f1_score': 0.5, 'training_set_frequency': 64, 'test_set_frequency': 16}, {'symptom': 'Ansiktssmärta', 'f1_score': 0.25, 'training_set_frequency': 78, 'test_set_frequency': 19}, {'symptom': 'Hjärtklappning', 'f1_score': 0.2758620689655173, 'training_set_frequency': 82, 'test_set_frequency': 20}, {'symptom': 'Svullna tonsiller', 'f1_score': 0.3125, 'training_set_frequency': 89, 'test_set_frequency': 22}, {'symptom': 'Svullnad och rodnad i ögonvrån eller runt ögat', 'f1_score': 0.08333333333333334, 'training_set_frequency': 89, 'test_set_frequency': 22}, {'symptom': 'Stresskänslighet', 'f1_score': 0.0, 'training_set_frequency': 96, 'test_set_frequency': 28}, {'symptom': 'Flanksmärta', 'f1_score': 0.07142857142857142, 'training_set_frequency': 97, 'test_set_frequency': 24}, {'symptom': 'Synbara maskar vid ändtarmsöppningen', 'f1_score': 0.5555555555555556, 'training_set_frequency': 99, 'test_set_frequency': 25}, {'symptom': 'Tårande ögon', 'f1_score': 0.0, 'training_set_frequency': 100, 'test_set_frequency': 26}, {'symptom': 'Svårt att svälja eller gapa', 'f1_score': 0.5238095238095238, 'training_set_frequency': 101, 'test_set_frequency': 26}, {'symptom': 'Bröstsmärta', 'f1_score': 0.6363636363636364, 'training_set_frequency': 102, 'test_set_frequency': 25}, {'symptom': 'Koncentrationssvårigheter', 'f1_score': 0.05405405405405405, 'training_set_frequency': 102, 'test_set_frequency': 29}, {'symptom': 'Ont i örat', 'f1_score': 0.5641025641025641, 'training_set_frequency': 107, 'test_set_frequency': 27}, {'symptom': 'Bensmärta', 'f1_score': 0.17142857142857143, 'training_set_frequency': 110, 'test_set_frequency': 28}, {'symptom': 'Smärta i handled eller fingrar', 'f1_score': 0.45000000000000007, 'training_set_frequency': 112, 'test_set_frequency': 28}, {'symptom': 'Smärta i ögon', 'f1_score': 0.358974358974359, 'training_set_frequency': 113, 'test_set_frequency': 28}, {'symptom': 'Rodnad och svullnad på ögonlocket', 'f1_score': 0.2926829268292683, 'training_set_frequency': 114, 'test_set_frequency': 28}, {'symptom': 'Kissar ofta', 'f1_score': 0.1176470588235294, 'training_set_frequency': 118, 'test_set_frequency': 29}, {'symptom': 'Smärta i huden', 'f1_score': 0.0588235294117647, 'training_set_frequency': 122, 'test_set_frequency': 31}, {'symptom': 'Ledvärk', 'f1_score': 0.28, 'training_set_frequency': 124, 'test_set_frequency': 31}, {'symptom': 'Smärta i ryggen, centralt', 'f1_score': 0.43636363636363634, 'training_set_frequency': 132, 'test_set_frequency': 33}, {'symptom': 'Gravid', 'f1_score': 0.6984126984126985, 'training_set_frequency': 146, 'test_set_frequency': 37}, {'symptom': 'Sårskada', 'f1_score': 0.2909090909090909, 'training_set_frequency': 146, 'test_set_frequency': 36}, {'symptom': 'Tryck i ansiktet', 'f1_score': 0.5901639344262294, 'training_set_frequency': 151, 'test_set_frequency': 38}, {'symptom': 'Smärta i foten', 'f1_score': 0.5084745762711864, 'training_set_frequency': 152, 'test_set_frequency': 38}, {'symptom': 'Röda ögon', 'f1_score': 0.34615384615384615, 'training_set_frequency': 153, 'test_set_frequency': 38}, {'symptom': 'Smärta i nacken', 'f1_score': 0.4375, 'training_set_frequency': 170, 'test_set_frequency': 43}, {'symptom': 'Känd astma', 'f1_score': 0.2181818181818182, 'training_set_frequency': 179, 'test_set_frequency': 45}, {'symptom': 'Smärta i axel', 'f1_score': 0.7160493827160493, 'training_set_frequency': 179, 'test_set_frequency': 45}, {'symptom': 'Trängningar', 'f1_score': 0.5581395348837209, 'training_set_frequency': 193, 'test_set_frequency': 48}, {'symptom': 'Nysningar', 'f1_score': 0.4235294117647059, 'training_set_frequency': 205, 'test_set_frequency': 51}, {'symptom': 'Smärta i knä', 'f1_score': 0.6511627906976744, 'training_set_frequency': 210, 'test_set_frequency': 53}, {'symptom': 'Muskelvärk', 'f1_score': 0.2531645569620253, 'training_set_frequency': 214, 'test_set_frequency': 54}, {'symptom': 'Panikattack', 'f1_score': 0.2142857142857143, 'training_set_frequency': 234, 'test_set_frequency': 58}, {'symptom': 'Känd allergisk rinit', 'f1_score': 0.39603960396039606, 'training_set_frequency': 265, 'test_set_frequency': 66}, {'symptom': 'Yrsel', 'f1_score': 0.6782608695652174, 'training_set_frequency': 269, 'test_set_frequency': 67}, {'symptom': 'Stressig vardag', 'f1_score': 0.38834951456310673, 'training_set_frequency': 302, 'test_set_frequency': 75}, {'symptom': 'Produktiv hosta', 'f1_score': 0.5833333333333334, 'training_set_frequency': 308, 'test_set_frequency': 77}, {'symptom': 'Kräkningar och/eller illamående', 'f1_score': 0.6142857142857143, 'training_set_frequency': 322, 'test_set_frequency': 80}, {'symptom': 'Nyligen testat positivt för Covid-19', 'f1_score': 0.5534591194968553, 'training_set_frequency': 329, 'test_set_frequency': 82}, {'symptom': 'Kliande ögon', 'f1_score': 0.4087591240875912, 'training_set_frequency': 340, 'test_set_frequency': 85}, {'symptom': 'Svårt att andas', 'f1_score': 0.4225352112676057, 'training_set_frequency': 353, 'test_set_frequency': 88}, {'symptom': 'Smärta i ländryggen', 'f1_score': 0.5512820512820512, 'training_set_frequency': 370, 'test_set_frequency': 93}, {'symptom': 'Nästäppa', 'f1_score': 0.5517241379310345, 'training_set_frequency': 469, 'test_set_frequency': 117}, {'symptom': 'Sveda vid miktion', 'f1_score': 0.7162790697674419, 'training_set_frequency': 474, 'test_set_frequency': 118}, {'symptom': 'Buksmärta', 'f1_score': 0.625, 'training_set_frequency': 511, 'test_set_frequency': 128}, {'symptom': 'Nedstämdhet', 'f1_score': 0.5254237288135593, 'training_set_frequency': 533, 'test_set_frequency': 133}, {'symptom': 'Sömnsvårigheter', 'f1_score': 0.5625, 'training_set_frequency': 553, 'test_set_frequency': 138}, {'symptom': 'Feber', 'f1_score': 0.677115987460815, 'training_set_frequency': 726, 'test_set_frequency': 182}, {'symptom': 'Snuva', 'f1_score': 0.4967741935483871, 'training_set_frequency': 781, 'test_set_frequency': 195}, {'symptom': 'Trötthet', 'f1_score': 0.6260387811634348, 'training_set_frequency': 812, 'test_set_frequency': 203}, {'symptom': 'Halsont', 'f1_score': 0.7493917274939172, 'training_set_frequency': 915, 'test_set_frequency': 229}, {'symptom': 'Oro eller ångest', 'f1_score': 0.6852248394004282, 'training_set_frequency': 1006, 'test_set_frequency': 252}, {'symptom': 'Huvudvärk', 'f1_score': 0.7073170731707318, 'training_set_frequency': 1050, 'test_set_frequency': 262}, {'symptom': 'Klåda', 'f1_score': 0.7471590909090909, 'training_set_frequency': 1502, 'test_set_frequency': 375}, {'symptom': 'Hosta', 'f1_score': 0.7076461769115442, 'training_set_frequency': 1522, 'test_set_frequency': 381}, {'symptom': 'Hudförändringar', 'f1_score': 0.8833244539158231, 'training_set_frequency': 3786, 'test_set_frequency': 947}]}\n"
          ],
          "name": "stdout"
        }
      ]
    },
    {
      "cell_type": "code",
      "metadata": {
        "id": "sQ2nbUNTozSg"
      },
      "source": [
        "model.eval()\n",
        "\n",
        "# get a list of tuples containing the samples sorted by loss\n",
        "sorted_samples = []\n",
        "\n",
        "for i in range(len(test_dataset)):\n",
        "    text = str(test_dataset['text'][i])\n",
        "    text = ' '.join(text.split())\n",
        "\n",
        "    tokens = basic_tokenization(text)\n",
        "    # if tokens is empty, add set tokens to ['x']\n",
        "    if len(tokens) <= 1:\n",
        "        tokens = ['x']\n",
        "\n",
        "    text_len = len(tokens)\n",
        "    ids = [0 for j in range(len(tokens))]\n",
        "    for j in range(len(tokens)):\n",
        "        if tokens[j] in word2idx:\n",
        "            ids[j] = word2idx[tokens[j]]\n",
        "        else:\n",
        "            ids[j] = unk_tok\n",
        "\n",
        "    text_len = torch.tensor([text_len], dtype=torch.long).cpu()\n",
        "    ids = torch.tensor(ids, dtype=torch.long).to(device)\n",
        "    \n",
        "    y_pred_row = model(tokens, ids, text_len).detach().cpu()#.numpy()\n",
        "    y_true = torch.tensor(multilab_bin.transform([test_dataset['labels'][i]]), dtype=torch.float)\n",
        "    \n",
        "    loss = criterion(y_pred_row, y_true)\n",
        "\n",
        "    # turn y_pred_row to ones and zeros based on threshold 'th'\n",
        "    y_pred_row[y_pred_row > th] = 1\n",
        "    y_pred_row[y_pred_row <= th] = 0\n",
        "\n",
        "    sorted_samples.append((y_pred_row, y_true, test_dataset['text'][i], loss))\n",
        "\n",
        "    if False:\n",
        "      print(text)\n",
        "      print(f'Prediction: {multilab_bin.inverse_transform(y_pred_row)}')\n",
        "      print(f'Labels: {test_dataset[\"labels\"][i]}')\n",
        "      print('- - - - - - - - - - - - - - - - - - - - - - - - - - - - - - - -')\n",
        "\n",
        "sorted_samples = sorted(sorted_samples, key=lambda tup: tup[-1])"
      ],
      "execution_count": 19,
      "outputs": []
    },
    {
      "cell_type": "code",
      "metadata": {
        "id": "rwe6d2uRozSg"
      },
      "source": [
        "# print the m percent best/worst predictions based on loss\n",
        "m = 20\n",
        "best_worst = 'worst'\n",
        "\n",
        "nbr_elements = (len(test_dataset) * m) // 100\n",
        "\n",
        "top_m = []\n",
        "if best_worst == 'best':\n",
        "  top_m = sorted_samples[:nbr_elements]\n",
        "elif best_worst == 'worst':\n",
        "  top_m = sorted_samples[len(sorted_samples)-nbr_elements:]\n",
        "else:\n",
        "  print('Please choose either \"best\" or \"worst\"')\n",
        "\n",
        "for i in range(len(top_m)):\n",
        "  tup = top_m[i]\n",
        "  pred = multilab_bin.inverse_transform(tup[0])\n",
        "  labels = multilab_bin.inverse_transform(tup[1])\n",
        "  text = tup[2]\n",
        "  loss = tup[3]\n",
        "\n",
        "  print(f'Loss: {loss}')\n",
        "  print(f'{text}')\n",
        "  print(f'Prediction: {pred}')\n",
        "  print(f'Labels: {labels}')\n",
        "  print('- - - - - - - - - - - - - - - - - - - - - - - - -')"
      ],
      "execution_count": null,
      "outputs": []
    },
    {
      "cell_type": "code",
      "metadata": {
        "id": "a9nyRGILozSg",
        "colab": {
          "base_uri": "https://localhost:8080/"
        },
        "outputId": "d566e93d-f587-49be-8f90-55a731811301"
      },
      "source": [
        "text = ''\n",
        "#text = str(test_dataset['text'][i])\n",
        "text = ' '.join(text.split())\n",
        "\n",
        "tokens = basic_tokenization(text)\n",
        "# if tokens is empty, add set tokens to ['x']\n",
        "if len(tokens) <= 1:\n",
        "    tokens = ['x']\n",
        "\n",
        "text_len = len(tokens)\n",
        "ids = [0 for i in range(len(tokens))]\n",
        "for i in range(len(tokens)):\n",
        "    if tokens[i] in word2idx:\n",
        "        ids[i] = word2idx[tokens[i]]\n",
        "    else:\n",
        "        ids[i] = unk_tok\n",
        "\n",
        "text_len = torch.tensor([text_len], dtype=torch.long).cpu()\n",
        "ids = torch.tensor(ids, dtype=torch.long).to(device)\n",
        "\n",
        "y_pred_row = model(tokens, ids, text_len).detach().cpu()#.numpy()\n",
        "\n",
        "y_pred_row[y_pred_row > th] = 1\n",
        "y_pred_row[y_pred_row <= th] = 0\n",
        "\n",
        "print(multilab_bin.inverse_transform(y_pred_row))\n"
      ],
      "execution_count": 21,
      "outputs": [
        {
          "output_type": "stream",
          "text": [
            "[()]\n"
          ],
          "name": "stdout"
        }
      ]
    },
    {
      "cell_type": "code",
      "metadata": {
        "id": "Zc1k4lxgK8RF",
        "colab": {
          "base_uri": "https://localhost:8080/"
        },
        "outputId": "8bda92e5-8ee4-4b99-fe03-8ce90361552d"
      },
      "source": [
        "input_1 = torch.ones(3, 10)\n",
        "input_2 = torch.ones(5, 10) * 2\n",
        "input_3 = torch.ones(7, 10) * 3\n",
        "\n",
        "inputs = [input_3, input_2, input_1]\n",
        "input_lengths = [7, 5, 3]\n",
        "\n",
        "padded = torch.nn.utils.rnn.pad_sequence(inputs, batch_first=True)\n",
        "\n",
        "print(padded)\n",
        "\n",
        "packed = torch.nn.utils.rnn.pack_padded_sequence(padded, input_lengths, batch_first=True)\n",
        "\n",
        "print(packed)"
      ],
      "execution_count": 22,
      "outputs": [
        {
          "output_type": "stream",
          "text": [
            "tensor([[[3., 3., 3., 3., 3., 3., 3., 3., 3., 3.],\n",
            "         [3., 3., 3., 3., 3., 3., 3., 3., 3., 3.],\n",
            "         [3., 3., 3., 3., 3., 3., 3., 3., 3., 3.],\n",
            "         [3., 3., 3., 3., 3., 3., 3., 3., 3., 3.],\n",
            "         [3., 3., 3., 3., 3., 3., 3., 3., 3., 3.],\n",
            "         [3., 3., 3., 3., 3., 3., 3., 3., 3., 3.],\n",
            "         [3., 3., 3., 3., 3., 3., 3., 3., 3., 3.]],\n",
            "\n",
            "        [[2., 2., 2., 2., 2., 2., 2., 2., 2., 2.],\n",
            "         [2., 2., 2., 2., 2., 2., 2., 2., 2., 2.],\n",
            "         [2., 2., 2., 2., 2., 2., 2., 2., 2., 2.],\n",
            "         [2., 2., 2., 2., 2., 2., 2., 2., 2., 2.],\n",
            "         [2., 2., 2., 2., 2., 2., 2., 2., 2., 2.],\n",
            "         [0., 0., 0., 0., 0., 0., 0., 0., 0., 0.],\n",
            "         [0., 0., 0., 0., 0., 0., 0., 0., 0., 0.]],\n",
            "\n",
            "        [[1., 1., 1., 1., 1., 1., 1., 1., 1., 1.],\n",
            "         [1., 1., 1., 1., 1., 1., 1., 1., 1., 1.],\n",
            "         [1., 1., 1., 1., 1., 1., 1., 1., 1., 1.],\n",
            "         [0., 0., 0., 0., 0., 0., 0., 0., 0., 0.],\n",
            "         [0., 0., 0., 0., 0., 0., 0., 0., 0., 0.],\n",
            "         [0., 0., 0., 0., 0., 0., 0., 0., 0., 0.],\n",
            "         [0., 0., 0., 0., 0., 0., 0., 0., 0., 0.]]])\n",
            "PackedSequence(data=tensor([[3., 3., 3., 3., 3., 3., 3., 3., 3., 3.],\n",
            "        [2., 2., 2., 2., 2., 2., 2., 2., 2., 2.],\n",
            "        [1., 1., 1., 1., 1., 1., 1., 1., 1., 1.],\n",
            "        [3., 3., 3., 3., 3., 3., 3., 3., 3., 3.],\n",
            "        [2., 2., 2., 2., 2., 2., 2., 2., 2., 2.],\n",
            "        [1., 1., 1., 1., 1., 1., 1., 1., 1., 1.],\n",
            "        [3., 3., 3., 3., 3., 3., 3., 3., 3., 3.],\n",
            "        [2., 2., 2., 2., 2., 2., 2., 2., 2., 2.],\n",
            "        [1., 1., 1., 1., 1., 1., 1., 1., 1., 1.],\n",
            "        [3., 3., 3., 3., 3., 3., 3., 3., 3., 3.],\n",
            "        [2., 2., 2., 2., 2., 2., 2., 2., 2., 2.],\n",
            "        [3., 3., 3., 3., 3., 3., 3., 3., 3., 3.],\n",
            "        [2., 2., 2., 2., 2., 2., 2., 2., 2., 2.],\n",
            "        [3., 3., 3., 3., 3., 3., 3., 3., 3., 3.],\n",
            "        [3., 3., 3., 3., 3., 3., 3., 3., 3., 3.]]), batch_sizes=tensor([3, 3, 3, 2, 2, 1, 1]), sorted_indices=None, unsorted_indices=None)\n"
          ],
          "name": "stdout"
        }
      ]
    },
    {
      "cell_type": "code",
      "metadata": {
        "id": "N-auREhxZSrt",
        "colab": {
          "base_uri": "https://localhost:8080/"
        },
        "outputId": "40fc6180-e607-415b-a1b1-3e8c0dec9f43"
      },
      "source": [
        "a = [1,2,3,4,5,6,7,8,9]\n",
        "print(a[:3])\n",
        "print(a[3:])"
      ],
      "execution_count": 23,
      "outputs": [
        {
          "output_type": "stream",
          "text": [
            "[1, 2, 3]\n",
            "[4, 5, 6, 7, 8, 9]\n"
          ],
          "name": "stdout"
        }
      ]
    }
  ]
}